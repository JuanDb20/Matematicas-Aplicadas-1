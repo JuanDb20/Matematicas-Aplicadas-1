{
  "nbformat": 4,
  "nbformat_minor": 0,
  "metadata": {
    "colab": {
      "provenance": [],
      "include_colab_link": true
    },
    "kernelspec": {
      "name": "python3",
      "display_name": "Python 3"
    },
    "language_info": {
      "name": "python"
    }
  },
  "cells": [
    {
      "cell_type": "markdown",
      "metadata": {
        "id": "view-in-github",
        "colab_type": "text"
      },
      "source": [
        "<a href=\"https://colab.research.google.com/github/JuanDb20/Matematicas-Aplicadas-1/blob/main/Taller1.ipynb\" target=\"_parent\"><img src=\"https://colab.research.google.com/assets/colab-badge.svg\" alt=\"Open In Colab\"/></a>"
      ]
    },
    {
      "cell_type": "markdown",
      "source": [
        "# <font color=\"#401D87\">***Taller #1*** </font>"
      ],
      "metadata": {
        "id": "WCbvo70mulcj"
      }
    },
    {
      "cell_type": "markdown",
      "source": [
        "Presentado por: <font color=\"#9D84CF\">Isabella Candado Conde, Juan Diego Balanta Molina, Edward Estacio, Juan Pablo Martinez Rosero </font>"
      ],
      "metadata": {
        "id": "3MPVeabsd57L"
      }
    },
    {
      "cell_type": "markdown",
      "source": [
        "## <font color=\"#6E579E\">**1. Primer punto** </font>"
      ],
      "metadata": {
        "id": "HCrBEUZLtBit"
      }
    },
    {
      "cell_type": "markdown",
      "source": [
        "---\n",
        "<font color=\"#9D84CF\">**1.1.** </font> Resolver los polinomios aritméticos:\n",
        ">* $\\{[3(-5+10-5)]+[-2(-2-4+10)]\\}^2 = 64$"
      ],
      "metadata": {
        "id": "SkohpL6H5jvE"
      }
    },
    {
      "cell_type": "code",
      "source": [
        "ej1_1=int((3*((-5)+10+(-5)))+((-2)*((-2)+(-4)+10))**2)\n",
        "print (ej1_1)"
      ],
      "metadata": {
        "colab": {
          "base_uri": "https://localhost:8080/"
        },
        "id": "oZxdzvU5xYCG",
        "outputId": "a9376d3e-7165-49e3-d1b6-c4ac734bcf4d"
      },
      "execution_count": null,
      "outputs": [
        {
          "output_type": "stream",
          "name": "stdout",
          "text": [
            "64\n"
          ]
        }
      ]
    },
    {
      "cell_type": "markdown",
      "source": [
        ">* $45+[3(2+8)-\\frac{8}{4}]+10-83 = 0$"
      ],
      "metadata": {
        "id": "YIkKP-DS0ibT"
      }
    },
    {
      "cell_type": "code",
      "source": [
        "ej1_2=int(45+((3*(2+8))-(8/4))+10-83)\n",
        "print (ej1_2)"
      ],
      "metadata": {
        "colab": {
          "base_uri": "https://localhost:8080/"
        },
        "id": "bjxFl9Zr1q_5",
        "outputId": "86c48103-18b2-430f-bde1-53b5b6f148cf"
      },
      "execution_count": null,
      "outputs": [
        {
          "output_type": "stream",
          "name": "stdout",
          "text": [
            "0\n"
          ]
        }
      ]
    },
    {
      "cell_type": "markdown",
      "source": [
        ">* $[2(-4+7)-10]*(-4-7-3)= 56$"
      ],
      "metadata": {
        "id": "VhzE8AHV4bd0"
      }
    },
    {
      "cell_type": "code",
      "source": [
        "ej1_3=int(((2*(-4+7))-10)*(-4-7-3))\n",
        "print (ej1_3)"
      ],
      "metadata": {
        "colab": {
          "base_uri": "https://localhost:8080/"
        },
        "id": "JVbPIrli4t1e",
        "outputId": "f335ac2f-1683-47ac-b8b5-b9dcb628e450"
      },
      "execution_count": null,
      "outputs": [
        {
          "output_type": "stream",
          "name": "stdout",
          "text": [
            "56\n"
          ]
        }
      ]
    },
    {
      "cell_type": "markdown",
      "source": [
        "---\n",
        "<font color=\"#9D84CF\">**1.2.** </font> Resolver las siguientes combinaciones de operaciones:\n",
        "\n",
        ">* $\\frac{1}{5}[(\\frac{1}{2})^2 + (\\frac{3}{4})^2]+\\frac{10}{25}[(\\frac{1}{2})^2+(\\frac{3}{4})^2]+\\frac{8}{40}[(\\frac{1}{2})^2 + (\\frac{3}{4})^2] = 0$"
      ],
      "metadata": {
        "id": "us0jvlmc5SpS"
      }
    },
    {
      "cell_type": "code",
      "source": [
        "ej2_1=int(((1/5)*((1/2)**2 + (3/4)**2))+((2/5)*((1/2)**2 + (3/4)**2))+((1/5)*((1/2)**2 + (3/4)**2)))\n",
        "print (ej2_1)"
      ],
      "metadata": {
        "colab": {
          "base_uri": "https://localhost:8080/"
        },
        "id": "7w9fLwVR6wDf",
        "outputId": "a0be97bc-ef72-4376-c592-86aaadad7fbc"
      },
      "execution_count": null,
      "outputs": [
        {
          "output_type": "stream",
          "name": "stdout",
          "text": [
            "0\n"
          ]
        }
      ]
    },
    {
      "cell_type": "markdown",
      "source": [
        ">* $\\frac{9}{4}(\\frac{6}{8})^{-1}-\\frac{5}{2}(\\frac{25}{20})^{-1}+\\frac{40}{8}(\\frac{20}{16})^{-1} = 5$"
      ],
      "metadata": {
        "id": "1QOlAMdv8Lmm"
      }
    },
    {
      "cell_type": "code",
      "source": [
        "ej2_2=int(((9/4)*(3/4)**-1)-((5/2)*(5/4)**-1)+((5)*(5/4)**-1))\n",
        "print (ej2_2)"
      ],
      "metadata": {
        "colab": {
          "base_uri": "https://localhost:8080/"
        },
        "id": "qHEdYR1J-Opq",
        "outputId": "c362e98e-46ab-4608-c8ff-f9a78af7a13a"
      },
      "execution_count": null,
      "outputs": [
        {
          "output_type": "stream",
          "name": "stdout",
          "text": [
            "5\n"
          ]
        }
      ]
    },
    {
      "cell_type": "markdown",
      "source": [
        "---\n",
        "## <font color=\"#6E579E\">**2. Segundo punto** </font>\n"
      ],
      "metadata": {
        "id": "zzvup8bD_Kar"
      }
    },
    {
      "cell_type": "markdown",
      "source": [
        "<font color=\"#9D84CF\">**2.1.** </font> Despejar la variable indicada en cada una de las siguientes funciones:"
      ],
      "metadata": {
        "id": "YogHOQ_LV9Ey"
      }
    },
    {
      "cell_type": "markdown",
      "source": [
        "|N°|Función|Variable a despejar|Formulas Matemáticas|Función despejada|\n",
        "|--|--|--|--|--|\n",
        "|1|Área de un cilindro|$r$|$A=2πrg$|$r=\\frac{A}{2πg}$|\n",
        "|2|Volumen del cono|$h$|$V=\\frac{A_B*h}{3}$|$h=\\frac{3V}{A_B}$|\n",
        "|3|Volumen de la esfera|$r$|$V=\\frac{4}{3}*π*r^3$|$r=\\sqrt[3]{\\frac{3V}{4π}}$|\n",
        "|4|Área del trapecio|$h$|$A=\\frac{B+b}{2}*h$|$h=\\frac{2A}{B+b}$\n",
        "|5|Intensidad Eléctrica|$t$|$I=\\frac{q}{t}$|$t=\\frac{q}{I}$\n",
        "|6|Ley de Ohm|$R$|$I=\\frac{V}{R}$|$R=\\frac{V}{I}$\n",
        "|7|Energía Eléctrica|$t$|$E=\\frac{V^2}{R}*t$|$t=\\frac{E*R}{V^2}$\n",
        "|8|Resistencias en paralelo|$R$|$\\frac{1}{R}=\\frac{1}{R_1}+\\frac{1}{R_2}$|$R=\\frac{R_1*R_2}{R_1+R_2}$\n",
        "|9|Ecuación gases perfectos|$P_f$|$\\frac{P_0 V_0}{T_0}=\\frac{P_f V_f}{T_f}$|$P_f=\\frac{T_f P_0 V_0}{T_0 V_f}$\n",
        "|10|Intensidad Eléctrica|$V_B$|$I=\\frac{V_A - V_B}{R}$|$V_B=V_A - IR$"
      ],
      "metadata": {
        "id": "ohgRvS0vAWvD"
      }
    },
    {
      "cell_type": "markdown",
      "source": [
        "---\n",
        "<font color=\"#9D84CF\">**2.2.** </font> Prueba con valores aleatorios las siguientes funciones a trozos:"
      ],
      "metadata": {
        "id": "LnrxTvCQV04k"
      }
    },
    {
      "cell_type": "markdown",
      "source": [
        "> $f(x)=\\left\\{\\begin{array}{lcc}x+2 & si & x < -3 \\\\ \\\\ -x & si & -3 \\leq x < 0 \\\\ \\\\ 2 & si & x \\geq 0 \\end{array} \\right.$"
      ],
      "metadata": {
        "id": "o7iukxvQYRJV"
      }
    },
    {
      "cell_type": "code",
      "source": [
        "val1=[-4,-3,-2,-1,0,1]\n",
        "for x in val1:\n",
        "    if x<-3:\n",
        "        print (x+2)\n",
        "    elif -3<=x<0:\n",
        "        print (-x)\n",
        "    else:\n",
        "        print (2)"
      ],
      "metadata": {
        "colab": {
          "base_uri": "https://localhost:8080/"
        },
        "id": "YgDy0Y3YZj7d",
        "outputId": "6683ce37-0153-451c-8402-2ef1cf83dd06"
      },
      "execution_count": null,
      "outputs": [
        {
          "output_type": "stream",
          "name": "stdout",
          "text": [
            "-2\n",
            "3\n",
            "2\n",
            "1\n",
            "2\n",
            "2\n"
          ]
        }
      ]
    },
    {
      "cell_type": "markdown",
      "source": [
        ">$f(x)=\\left\\{\\begin{array}{lcc}a-x^2 & si & x < 0 \\\\ \\\\ 2 & si & 0 \\leq x \\leq 1 \\\\ \\\\ x^2-2x+b & si & x > 1 \\end{array} \\right.$"
      ],
      "metadata": {
        "id": "m-Lgexzsa_M6"
      }
    },
    {
      "cell_type": "code",
      "source": [
        "val2=[-1,0,1,2]\n",
        "a=int(input(\"Ingrese el valor de a: \"))\n",
        "b=int(input(\"Ingrese el valor de b: \"))\n",
        "for x in val2:\n",
        "    if x<0:\n",
        "        print (a-x**2)\n",
        "    elif 0<=x<=1:\n",
        "        print (2)\n",
        "    else:\n",
        "        print (x**2-2*x+b)"
      ],
      "metadata": {
        "colab": {
          "base_uri": "https://localhost:8080/"
        },
        "id": "2fiqMvAFbjJx",
        "outputId": "5f263f85-8214-4f35-ed71-0f0929e0fb80"
      },
      "execution_count": null,
      "outputs": [
        {
          "output_type": "stream",
          "name": "stdout",
          "text": [
            "Ingrese el valor de a: 4\n",
            "Ingrese el valor de b: 8\n",
            "3\n",
            "2\n",
            "2\n",
            "8\n"
          ]
        }
      ]
    },
    {
      "cell_type": "markdown",
      "source": [
        "---\n",
        "## <font color=\"#6E579E\">**3. Tercer punto** </font>\n"
      ],
      "metadata": {
        "id": "pFGLj7aQhoVB"
      }
    },
    {
      "cell_type": "markdown",
      "source": [
        "<font color=\"#9D84CF\">**3.1.** </font> Escribir una función que reciba una muestra de números en una lista y devuelva otra lista con sus cuadrados, otra con los cubos y otra con las\n",
        "raices:"
      ],
      "metadata": {
        "id": "bzDxQTCmK3R9"
      }
    },
    {
      "cell_type": "code",
      "source": [
        "def calculo_potencias_y_raices():\n",
        "    lista_num = []\n",
        "    for i in range(5):\n",
        "        numero = float(input(f\"Ingresa el número {i+1}: \"))\n",
        "        lista_num.append(numero)\n",
        "\n",
        "    cuadrados = [x**2 for x in lista_num]\n",
        "    cubos = [x**3 for x in lista_num]\n",
        "    raices = [x**0.5 for x in lista_num]\n",
        "\n",
        "    print(\"\\nResultados:\")\n",
        "    print(\"Cuadrados:\", cuadrados)\n",
        "    print(\"Cubos:\", cubos)\n",
        "    print(\"Raices:\", raices)\n",
        "\n",
        "calculo_potencias_y_raices()"
      ],
      "metadata": {
        "id": "NzwIhi61I68Y",
        "colab": {
          "base_uri": "https://localhost:8080/"
        },
        "outputId": "21f00a38-56f0-45c5-ed1f-d17d5793f9cd"
      },
      "execution_count": null,
      "outputs": [
        {
          "output_type": "stream",
          "name": "stdout",
          "text": [
            "Ingresa el número 1: 2\n",
            "Ingresa el número 2: 6\n",
            "Ingresa el número 3: 5\n",
            "Ingresa el número 4: 9\n",
            "Ingresa el número 5: 7\n",
            "\n",
            "Resultados:\n",
            "Cuadrados: [4.0, 36.0, 25.0, 81.0, 49.0]\n",
            "Cubos: [8.0, 216.0, 125.0, 729.0, 343.0]\n",
            "Raices: [1.4142135623730951, 2.449489742783178, 2.23606797749979, 3.0, 2.6457513110645907]\n"
          ]
        }
      ]
    },
    {
      "cell_type": "markdown",
      "source": [
        "---\n",
        "<font color=\"#9D84CF\">**3.2.** </font> Escribir un programa que almacene las asignaturas vistas el semestre pasado en una lista, pregunte al usuario la nota que ha sacado en cada asignatura. Haga un print donde muestre al usuario la siguiente información:  \n",
        "* Si la nota es Mayor o igual a 4 debe mostrar un mensaje que diga:\n",
        "”Nivel superior”.\n",
        "* Si la nota esta entre 3,5 y 4 (menor a 4), debe mostrar un mensaje que diga: \"Asignatura aprobada pero debe asistir a plan de mejoramiento,\n",
        "dirijase a CAMBAS\".\n",
        "* Si la nota es menor a 3,5 debe aparecer: \"Asignatura no aprobada, debe\n",
        "repetirla el próximo semestre\".\n",
        "  * Punto adicional. Haga un programa que almacene cada asignatura\n",
        "en una tabla con su respectiva nota y el mensaje asociado a la nota."
      ],
      "metadata": {
        "id": "4ljZCTZKO6KT"
      }
    },
    {
      "cell_type": "code",
      "source": [
        "num_asig = int(input(\"Ingrese el número de asignaturas: \"))\n",
        "tabla = [[],[],[]]\n",
        "\n",
        "for i in range(num_asig):\n",
        "    asig = str(input(f\"\\nNombre de la asignatura {i+1}: \"))\n",
        "    tabla[0].append(asig)\n",
        "    nota = float(input(f\"Nota de la asignatura {asig}: \"))\n",
        "    tabla[1].append(nota)\n",
        "\n",
        "    if nota >= 4:\n",
        "        msj = \"Nivel superior\"\n",
        "        tabla[2].append(msj)\n",
        "        print(msj)\n",
        "    elif 3.5 <= nota < 4:\n",
        "        msj = \"Asignatura aprobada pero debe asistir a plan de mejoramiento, dirijase a CAMBAS\"\n",
        "        tabla[2].append(msj)\n",
        "        print(msj)\n",
        "    else:\n",
        "        msj = \"Asignatura no aprobada, debe repetirla el próximo semestre\"\n",
        "        tabla[2].append(msj)\n",
        "        print(msj)\n",
        "\n",
        "print(\"\\nTabla de notas:\")\n",
        "print(\"Asignatura\\t\\tNota\\tMensaje\")\n",
        "\n",
        "for i in range(num_asig):\n",
        "    print(f\"{tabla[0][i]}\\t\\t\\t{tabla[1][i]}\\t{tabla[2][i]}\")"
      ],
      "metadata": {
        "colab": {
          "base_uri": "https://localhost:8080/"
        },
        "id": "iqv3n3UlQLrg",
        "outputId": "479fc865-e3de-4e26-80df-f705ce5ee864"
      },
      "execution_count": null,
      "outputs": [
        {
          "output_type": "stream",
          "name": "stdout",
          "text": [
            "Ingrese el número de asignaturas: 4\n",
            "\n",
            "Nombre de la asignatura 1: LyA\n",
            "Nota de la asignatura LyA: 2.5\n",
            "Asignatura no aprobada, debe repetirla el próximo semestre\n",
            "\n",
            "Nombre de la asignatura 2: AyF\n",
            "Nota de la asignatura AyF: 3.8\n",
            "Asignatura aprobada pero debe asistir a plan de mejoramiento, dirijase a CAMBAS\n",
            "\n",
            "Nombre de la asignatura 3: COE\n",
            "Nota de la asignatura COE: 4.7\n",
            "Nivel superior\n",
            "\n",
            "Nombre de la asignatura 4: FDC\n",
            "Nota de la asignatura FDC: 3\n",
            "Asignatura no aprobada, debe repetirla el próximo semestre\n",
            "\n",
            "Tabla de notas:\n",
            "Asignatura\t\tNota\tMensaje\n",
            "LyA\t\t\t2.5\tAsignatura no aprobada, debe repetirla el próximo semestre\n",
            "AyF\t\t\t3.8\tAsignatura aprobada pero debe asistir a plan de mejoramiento, dirijase a CAMBAS\n",
            "COE\t\t\t4.7\tNivel superior\n",
            "FDC\t\t\t3.0\tAsignatura no aprobada, debe repetirla el próximo semestre\n"
          ]
        }
      ]
    },
    {
      "cell_type": "markdown",
      "source": [
        "---\n",
        "<font color=\"#9D84CF\">**3.3.** </font> Construya una lista que almacene el precio del barril de Petróleo los ultimos 7 días. Indague sobre el precio de un litro de Coca-Cola (Hoy) y haga la conversión de litros a barriles. Construya otra lista que relacione proporcionalemente el precio de un barril de Petróleo vs un barril de Coca-Cola. Construya un párrafo con sus conclusiones.\n"
      ],
      "metadata": {
        "id": "PGZO7J0fZpwx"
      }
    },
    {
      "cell_type": "code",
      "source": [
        "precio_petroleo = [76.75, 75.34, 75.03, 78.85, 80.79, 80.65, 79.58]\n",
        "\n",
        "precio_litro_coca = 0.80\n",
        "\n",
        "litro_por_barril = 159  # Un barril equivale a aproximadamente 159 litros\n",
        "precio_barril_coca = precio_litro_coca * litro_por_barril\n",
        "\n",
        "relacion_precio1 = [precio_petroleo / precio_barril_coca for precio_petroleo in precio_petroleo]\n",
        "relacion_precio2 = [precio_barril_coca / precio_petroleo for precio_petroleo in precio_petroleo]\n",
        "\n",
        "print(\"Precios del barril de petróleo en los últimos 7 días (USD):\", precio_petroleo)\n",
        "print(\"Precio de un litro de Coca-Cola (USD):\", precio_litro_coca)\n",
        "print(\"Precio de un barril de Coca-Cola (USD):\", precio_barril_coca)\n",
        "print(\"Relación del precio del barril de petróleo respecto al precio del barril de Coca-Cola:\", relacion_precio1)\n",
        "print(\"Relación del precio del barril de Coca-Cola respecto al precio del barril de petróleo:\", relacion_precio2)\n",
        "\n"
      ],
      "metadata": {
        "colab": {
          "base_uri": "https://localhost:8080/"
        },
        "id": "JLPA4EFZaDEs",
        "outputId": "1db45918-eb51-41e1-f298-14e3ff1dc6ec"
      },
      "execution_count": null,
      "outputs": [
        {
          "output_type": "stream",
          "name": "stdout",
          "text": [
            "Precios del barril de petróleo en los últimos 7 días (USD): [76.75, 75.34, 75.03, 78.85, 80.79, 80.65, 79.58]\n",
            "Precio de un litro de Coca-Cola (USD): 0.8\n",
            "Precio de un barril de Coca-Cola (USD): 127.2\n",
            "Relación del precio del barril de petróleo respecto al precio del barril de Coca-Cola: [0.6033805031446541, 0.5922955974842767, 0.5898584905660378, 0.6198899371069182, 0.6351415094339623, 0.6340408805031447, 0.6256289308176101]\n",
            "Relación del precio del barril de Coca-Cola respecto al precio del barril de petróleo: [1.657328990228013, 1.6883461640562782, 1.6953218712514995, 1.6131896005072925, 1.5744522836984773, 1.5771853688778672, 1.5983915556672532]\n"
          ]
        }
      ]
    },
    {
      "cell_type": "markdown",
      "source": [
        "<font color=\"#9D84CF\"> *Conclusiones:* </font>\n",
        "<font color=\"807B84\">\n",
        "* La lista de precios del barril de petróleo muestra las variaciones diarias en los costos del petróleo durante la última semana.\n",
        "* El precio actual de un litro de Coca-Cola se ha utilizado para calcular el costo de un barril de Coca-Cola.\n",
        "* La división entre el precio de un barril de petróleo y un barril de   Coca-Cola muestra la relación entre estos dos bienes. En general, podemos observar que el barril de petróleo es considerablemente más barato en comparación con el barril de Coca-Cola. Lo cual es curioso, porque el petróleo es crucial en la industria y representa el motor principal de la economía mundial; sin embargo, su precio es menor a una bebida gasificada.\n",
        "* Los resultados indican que:\n",
        "  * El precio del barril de Coca-Cola es 0.6 veces más alto que el precio del barril del petróleo. Es decir, con el dinero que se compra un barril de petróleo se pueden comprar 0.6 barriles de Coca-Cola.\n",
        "  * El precio del barril de Petróleo es 1.7 veces más barato que el precio del barril de Coca-Cola. Así que, con el dinero que se compra un barril de Coca-Cola se pueden comprar 1.7 barriles de Petróleo.\n",
        "  </font>"
      ],
      "metadata": {
        "id": "SN4AjeLakTha"
      }
    }
  ]
}