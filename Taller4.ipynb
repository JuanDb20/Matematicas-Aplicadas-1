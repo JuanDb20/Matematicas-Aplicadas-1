{
  "nbformat": 4,
  "nbformat_minor": 0,
  "metadata": {
    "colab": {
      "provenance": [],
      "collapsed_sections": [
        "sLmrYKNhKpsH",
        "J_dc4NZiNpY5",
        "CQHCPqMHFInY",
        "hdtF1cYaJpTV"
      ],
      "include_colab_link": true
    },
    "kernelspec": {
      "name": "python3",
      "display_name": "Python 3"
    },
    "language_info": {
      "name": "python"
    }
  },
  "cells": [
    {
      "cell_type": "markdown",
      "metadata": {
        "id": "view-in-github",
        "colab_type": "text"
      },
      "source": [
        "<a href=\"https://colab.research.google.com/github/JuanDb20/Matematicas-Aplicadas-1/blob/main/Taller4.ipynb\" target=\"_parent\"><img src=\"https://colab.research.google.com/assets/colab-badge.svg\" alt=\"Open In Colab\"/></a>"
      ]
    },
    {
      "cell_type": "markdown",
      "source": [
        "## <font color=\"00859a\">***Taller #4*** </font>\n",
        "*Presentado por: Juan Diego Balanta, Isabella Candado, Edward Estacio y Juan Pablo Martínez*"
      ],
      "metadata": {
        "id": "fdMr_OW5IlH4"
      }
    },
    {
      "cell_type": "code",
      "execution_count": 74,
      "metadata": {
        "id": "qcfJu-ZnIhTo"
      },
      "outputs": [],
      "source": [
        "import numpy as np\n",
        "import math as mt\n",
        "import sympy as sym\n",
        "import matplotlib.pyplot as plt\n"
      ]
    },
    {
      "cell_type": "markdown",
      "source": [
        "#### <font color=\"14a6bd\"> **2.3.** </font> **Límites y la noción de continuidad**"
      ],
      "metadata": {
        "id": "xYE_vyJMJYJ9"
      }
    },
    {
      "cell_type": "markdown",
      "source": [
        "#####<font color=\"47c7dc\"> **1.** </font> Evalúa los siguientes límites:"
      ],
      "metadata": {
        "id": "acqYMhWeSPTV"
      }
    },
    {
      "cell_type": "markdown",
      "source": [
        "######·<font color=\"00dbff\"> **a.**\n",
        "\n",
        "Limite\n",
        "\n",
        "$lim_{x \\to 2} {(4x^2 - 3x)}$\n",
        "\n",
        "Calculamos\n",
        "\n",
        "$lim_{x \\to 2} {[4(2)^2 - 3(2)]}$\n",
        "\n",
        "$lim_{x \\to 2} {(16 - 6)}$\n",
        "\n",
        "$lim_{x \\to 2} {(10)}$\n",
        "\n",
        "\n",
        "Limite:\n",
        "\n",
        "$10$\n",
        "\n"
      ],
      "metadata": {
        "id": "opU848r9b4oN"
      }
    },
    {
      "cell_type": "code",
      "source": [
        "\n",
        "# Definir la variable\n",
        "x = sym.symbols('x')\n",
        "\n",
        "# Definir la función\n",
        "expr_a = (4*x**2 - 3*x)\n",
        "\n",
        "# Calcular el límite cuando x tiende a 2\n",
        "lim_a = sym.limit(expr_a, x, 2)\n",
        "\n",
        "# Mostrar el resultado\n",
        "lim_a\n"
      ],
      "metadata": {
        "colab": {
          "base_uri": "https://localhost:8080/",
          "height": 37
        },
        "id": "IGmaSL-udYng",
        "outputId": "220c142a-0765-47a8-b778-be9dca575987"
      },
      "execution_count": null,
      "outputs": [
        {
          "output_type": "execute_result",
          "data": {
            "text/plain": [
              "10"
            ],
            "text/latex": "$\\displaystyle 10$"
          },
          "metadata": {},
          "execution_count": 35
        }
      ]
    },
    {
      "cell_type": "markdown",
      "source": [
        "######·<font color=\"00dbff\"> **b.**\n",
        "\n",
        "Limite\n",
        "\n",
        "$lim_{x \\to 3} {(x^3-2x + 3)}$\n",
        "\n",
        "Calculamos\n",
        "\n",
        "$lim_{x \\to 3} {(3^3-2(3) + 3)}$\n",
        "\n",
        "$lim_{x \\to 3} {(27-6 + 3)}$\n",
        "\n",
        "$lim_{x \\to 3} {(24)}$\n",
        "\n",
        "\n",
        "Limite:\n",
        "\n",
        "$24$\n",
        "\n"
      ],
      "metadata": {
        "id": "Aw5G-SXDdyuX"
      }
    },
    {
      "cell_type": "code",
      "source": [
        "\n",
        "# Definir la variable\n",
        "x = sym.symbols('x')\n",
        "\n",
        "# Definir la función\n",
        "expr_b = (x**3 - 2*x+3)\n",
        "\n",
        "# Calcular el límite cuando x tiende a 2\n",
        "lim_b = sym.limit(expr_b, x, 3)\n",
        "\n",
        "# Mostrar el resultado\n",
        "lim_b\n"
      ],
      "metadata": {
        "colab": {
          "base_uri": "https://localhost:8080/",
          "height": 37
        },
        "outputId": "a4b8123d-4b76-49d4-9542-f23a374579e2",
        "id": "RR5Ege8mdyuZ"
      },
      "execution_count": null,
      "outputs": [
        {
          "output_type": "execute_result",
          "data": {
            "text/plain": [
              "24"
            ],
            "text/latex": "$\\displaystyle 24$"
          },
          "metadata": {},
          "execution_count": 38
        }
      ]
    },
    {
      "cell_type": "markdown",
      "source": [
        "######·<font color=\"00dbff\"> **c.**\n",
        "\n",
        "Limite\n",
        "\n",
        "$lim_{t \\to 1} \\frac{t^2 -3}{t + 5}$\n",
        "\n",
        "Calculamos\n",
        "\n",
        "$lim_{t \\to 1} \\frac{1^2 -3}{1 + 5}$\n",
        "\n",
        "$lim_{t \\to 1} \\frac{1 -3}{1 + 5}$\n",
        "\n",
        "$lim_{t \\to 1} \\frac{-2}{6}$\n",
        "\n",
        "$lim_{t \\to 1} \\frac{-1}{3}$\n",
        "\n",
        "\n",
        "\n",
        "Limite:\n",
        "\n",
        "$-\\frac{1}{3}$\n",
        "\n"
      ],
      "metadata": {
        "id": "j5ng6q-Eevzg"
      }
    },
    {
      "cell_type": "code",
      "source": [
        "\n",
        "# Definir la variable\n",
        "t = sym.symbols('t')\n",
        "\n",
        "# Definir la función\n",
        "expr_c = (t**2 - 3)/(t+5)\n",
        "\n",
        "# Calcular el límite cuando x tiende a 2\n",
        "lim_c = sym.limit(expr_c, t, 1)\n",
        "\n",
        "# Mostrar el resultado\n",
        "lim_c\n"
      ],
      "metadata": {
        "colab": {
          "base_uri": "https://localhost:8080/",
          "height": 51
        },
        "outputId": "3216a40b-e1b0-4aea-c08e-47a8175acb12",
        "id": "sofdzOBAevzg"
      },
      "execution_count": null,
      "outputs": [
        {
          "output_type": "execute_result",
          "data": {
            "text/plain": [
              "-1/3"
            ],
            "text/latex": "$\\displaystyle - \\frac{1}{3}$"
          },
          "metadata": {},
          "execution_count": 40
        }
      ]
    },
    {
      "cell_type": "markdown",
      "source": [
        "######·<font color=\"00dbff\"> **d.**\n",
        "\n",
        "Limite\n",
        "\n",
        "$lim_{z \\to -2} \\frac{z+2}{z^2 + 3}$\n",
        "\n",
        "Calculamos\n",
        "\n",
        "$lim_{z \\to -2} \\frac{(-2)+2}{(-2)^2 + 3}$\n",
        "\n",
        "$lim_{z \\to -2} \\frac{0}{4 + 3}$\n",
        "\n",
        "$lim_{z \\to -2} \\frac{0}{7}$\n",
        "\n",
        "\n",
        "Limite:\n",
        "\n",
        "$0$\n",
        "\n"
      ],
      "metadata": {
        "id": "MWRuPBXEf5RZ"
      }
    },
    {
      "cell_type": "code",
      "source": [
        "\n",
        "# Definir la variable\n",
        "z = sym.symbols('z')\n",
        "\n",
        "# Definir la función\n",
        "expr_d = (z +2 )/(z**2+3)\n",
        "\n",
        "# Calcular el límite cuando x tiende a 2\n",
        "lim_d = sym.limit(expr_d, z, -2)\n",
        "\n",
        "# Mostrar el resultado\n",
        "lim_d\n"
      ],
      "metadata": {
        "colab": {
          "base_uri": "https://localhost:8080/",
          "height": 37
        },
        "outputId": "950fc7d9-d911-448f-9768-66a48cd19b2f",
        "id": "50bBSCZGf5Ra"
      },
      "execution_count": null,
      "outputs": [
        {
          "output_type": "execute_result",
          "data": {
            "text/plain": [
              "0"
            ],
            "text/latex": "$\\displaystyle 0$"
          },
          "metadata": {},
          "execution_count": 41
        }
      ]
    },
    {
      "cell_type": "markdown",
      "source": [
        "#####<font color=\"47c7dc\"> **2.** </font> Evalúa los siguientes límites:"
      ],
      "metadata": {
        "id": "_euSwTvRKSpc"
      }
    },
    {
      "cell_type": "markdown",
      "source": [
        "######·<font color=\"00dbff\"> **a.**\n",
        "\n",
        "Limite\n",
        "\n",
        "$lim_{x \\to 2} \\frac{x^3 - 8}{x + 2}$\n",
        "\n",
        "Calculamos:\n",
        "\n",
        "$lim_{x \\to 2} \\frac{2^3 - 8}{2 + 2}$\n",
        "\n",
        "El limite es:\n",
        "\n",
        "$ 0$\n",
        "\n"
      ],
      "metadata": {
        "id": "sLmrYKNhKpsH"
      }
    },
    {
      "cell_type": "code",
      "source": [
        "\n",
        "# Definir variable\n",
        "x = sym.symbols('x')\n",
        "\n",
        "# Definir la función\n",
        "funcion_a = (x**3 - 8) / (x + 2)\n",
        "\n",
        "# Calcular el límite\n",
        "limite_a = sym.limit(funcion_a, x, 2)\n",
        "\n",
        "# Mostrar el resultado\n",
        "limite_a\n"
      ],
      "metadata": {
        "colab": {
          "base_uri": "https://localhost:8080/",
          "height": 37
        },
        "id": "0FN4O7HnNPUj",
        "outputId": "f6d26444-a4b6-40ee-c690-e557a8d38bec"
      },
      "execution_count": null,
      "outputs": [
        {
          "output_type": "execute_result",
          "data": {
            "text/plain": [
              "0"
            ],
            "text/latex": "$\\displaystyle 0$"
          },
          "metadata": {},
          "execution_count": 44
        }
      ]
    },
    {
      "cell_type": "markdown",
      "source": [
        "######·<font color=\"00dbff\"> **b.**\n",
        "\n",
        "Limite:\n",
        "\n",
        "$lim_{x \\to 3} \\frac{x^2-x -6}{x - 3}$\n",
        "\n",
        "Factorizar:\n",
        "\n",
        "$lim_{x \\to 3} \\frac{(x-3)(x+2)}{x - 3}$\n",
        "\n",
        "Cancelamos (x-3):\n",
        "\n",
        "$lim_{x \\to 3} {(x+2)}$\n",
        "\n",
        "\n",
        "Calculamos\n",
        "\n",
        "$lim_{x \\to 3} {(3+2)}$\n",
        "\n",
        "El limite es:\n",
        "\n",
        "$5$\n",
        "\n"
      ],
      "metadata": {
        "id": "J_dc4NZiNpY5"
      }
    },
    {
      "cell_type": "code",
      "source": [
        "x = sym.symbols('x')\n",
        "\n",
        "# Definir la función\n",
        "funcion_b = (x**2 - x - 6) / (x - 3)\n",
        "\n",
        "# Calcular el límite\n",
        "limite_b = sym.limit(funcion_b, x, 3)\n",
        "\n",
        "# Mostrar el resultado\n",
        "limite_b\n",
        "\n"
      ],
      "metadata": {
        "colab": {
          "base_uri": "https://localhost:8080/",
          "height": 37
        },
        "outputId": "9802c1de-1310-417a-875d-74962b0c37a7",
        "id": "nII75EFuNpY6"
      },
      "execution_count": null,
      "outputs": [
        {
          "output_type": "execute_result",
          "data": {
            "text/plain": [
              "5"
            ],
            "text/latex": "$\\displaystyle 5$"
          },
          "metadata": {},
          "execution_count": 45
        }
      ]
    },
    {
      "cell_type": "markdown",
      "source": [
        "######·<font color=\"00dbff\"> **c.**\n",
        "\n",
        "Limite:\n",
        "\n",
        "$lim_{s \\to -1} \\frac{s^3+1}{s^4 - 1}$\n",
        "\n",
        "Factorizamos numerados y denominador:\n",
        "\n",
        "$lim_{s \\to -1} \\frac{(s+1)(s^2-s+1)}{(s^2+1)(s+1)(s-1)}$\n",
        "\n",
        "Cancelamos (s+1) en el numerador y denominador:\n",
        "\n",
        "$lim_{s \\to -1} \\frac{s^2-s+1}{(s^2+1)(s-1)}$\n",
        "\n",
        "\n",
        "Calculamos\n",
        "\n",
        "$lim_{s \\to -1} \\frac{(-1)^2-(-1)+1}{((-1)^2+1)(-1-1)}$\n",
        "\n",
        "El limite es:\n",
        "\n",
        "\n",
        "$ -\\frac{3}{4}$\n"
      ],
      "metadata": {
        "id": "CQHCPqMHFInY"
      }
    },
    {
      "cell_type": "code",
      "source": [
        "s = sym.symbols('s')\n",
        "\n",
        "\n",
        "# Definir la función\n",
        "funcion_c = (s**3 + 1) / (s**4 - 1)\n",
        "\n",
        "# Calcular el límite\n",
        "limite_c = sym.limit(funcion_c, s, -1)\n",
        "\n",
        "# Mostrar el resultado\n",
        "limite_c\n",
        "\n"
      ],
      "metadata": {
        "colab": {
          "base_uri": "https://localhost:8080/",
          "height": 51
        },
        "outputId": "e03d1c61-42cc-410d-e8d9-f6964c6ce915",
        "id": "WSoakQllFInZ"
      },
      "execution_count": null,
      "outputs": [
        {
          "output_type": "execute_result",
          "data": {
            "text/plain": [
              "-3/4"
            ],
            "text/latex": "$\\displaystyle - \\frac{3}{4}$"
          },
          "metadata": {},
          "execution_count": 46
        }
      ]
    },
    {
      "cell_type": "markdown",
      "source": [
        "######·<font color=\"00dbff\"> **d.**\n",
        "\n",
        "Limite:\n",
        "\n",
        "$lim_{x \\to 1} \\frac{\\sqrt{x} - 1}{x - 1}$\n",
        "\n",
        "Multiplicamos por el conjugado:\n",
        "\n",
        "\n",
        "$lim_{x \\to 1} \\frac{(\\sqrt{x} - 1)(\\sqrt{x} + 1)}{(x - 1)(\\sqrt{x} + 1)}$\n",
        "\n",
        "Utilizamos la identidad notable\n",
        "$(𝑎−𝑏)(𝑎+𝑏)=𝑎^2−𝑏^2$, donde $ 𝑎=\\sqrt{x}=$   y 𝑏=1 Entonces:\n",
        "\n",
        "$(\\sqrt{x}-1)(\\sqrt{x}+1)=\\sqrt{x}^2-1^2=x-1$\n",
        "\n",
        "Nos queda:\n",
        "\n",
        "$lim_{x \\to 1} \\frac{x-1}{(x - 1)(\\sqrt{x} + 1)}$\n",
        "\n",
        "Cancelamos x-1\n",
        "\n",
        "$lim_{x \\to 1} \\frac{1}{\\sqrt{x} + 1}$\n",
        "\n",
        "Calculamos\n",
        "\n",
        "$lim_{x \\to 1} \\frac{1}{\\sqrt{1} + 1}$\n",
        "\n",
        "$lim_{x \\to 1} \\frac{1}{1 + 1}$\n",
        "\n",
        "El limite es:\n",
        "\n",
        "\n",
        "$ \\frac{1}{2}$\n"
      ],
      "metadata": {
        "id": "hdtF1cYaJpTV"
      }
    },
    {
      "cell_type": "code",
      "source": [
        "x = sym.symbols('x')\n",
        "\n",
        "\n",
        "# Definir la función\n",
        "funcion_d = (sym.sqrt(x) - 1) / (x - 1)\n",
        "\n",
        "# Calcular el límite\n",
        "limite_d = sym.limit(funcion_d, x, 1)\n",
        "\n",
        "# Mostrar el resultado\n",
        "limite_d\n"
      ],
      "metadata": {
        "colab": {
          "base_uri": "https://localhost:8080/",
          "height": 51
        },
        "id": "b8tQqAMpQNDX",
        "outputId": "cb9b4dc2-5535-4e14-88e7-074db53e487a"
      },
      "execution_count": null,
      "outputs": [
        {
          "output_type": "execute_result",
          "data": {
            "text/plain": [
              "1/2"
            ],
            "text/latex": "$\\displaystyle \\frac{1}{2}$"
          },
          "metadata": {},
          "execution_count": 47
        }
      ]
    },
    {
      "cell_type": "markdown",
      "source": [
        "######·<font color=\"00dbff\"> **e.**\n",
        "\n",
        "Limite:\n",
        "\n",
        "$lim_{t \\to 2} \\frac{t^3-8}{t - 2}$\n",
        "\n",
        "Factorizar:\n",
        "\n",
        "$lim_{t \\to 2} \\frac{(t-2)(t^2+2t+4)}{t - 2}$\n",
        "\n",
        "Cancelamos (t-2):\n",
        "\n",
        "$lim_{t \\to 2} {(t^2+2t+4)}$\n",
        "\n",
        "\n",
        "Calculamos\n",
        "\n",
        "$lim_{t \\to 2} {(2^2+2(2)+4)}$\n",
        "\n",
        "$lim_{t \\to 2} {(4+4+4)}$\n",
        "\n",
        "El limite es:\n",
        "\n",
        "$12$\n",
        "\n"
      ],
      "metadata": {
        "id": "5V902xaNQpTs"
      }
    },
    {
      "cell_type": "code",
      "source": [
        "t = sym.symbols('t')\n",
        "\n",
        "# Definir la función\n",
        "funcion_e = (t**3 - 8) / (t - 2)\n",
        "\n",
        "# Calcular el límite\n",
        "limite_e = sym.limit(funcion_e, t, 2)\n",
        "\n",
        "# Mostrar el resultado\n",
        "limite_e\n",
        "\n"
      ],
      "metadata": {
        "colab": {
          "base_uri": "https://localhost:8080/",
          "height": 37
        },
        "outputId": "31898989-a131-4ca6-94dc-af7685b5a745",
        "id": "3lCo2UubQpTt"
      },
      "execution_count": null,
      "outputs": [
        {
          "output_type": "execute_result",
          "data": {
            "text/plain": [
              "12"
            ],
            "text/latex": "$\\displaystyle 12$"
          },
          "metadata": {},
          "execution_count": 30
        }
      ]
    },
    {
      "cell_type": "markdown",
      "source": [
        "######·<font color=\"00dbff\"> **f.**\n",
        "\n",
        "Limite:\n",
        "\n",
        "$lim_{x \\to 1} \\frac{x^3-1}{x^2 - 1}$\n",
        "\n",
        "Factorizamos numerador y denominador:\n",
        "\n",
        "$lim_{x \\to 1} \\frac{(x-1)(x^2+x+1)}{(x-1)(x+1)}$\n",
        "\n",
        "Cancelamos (x-1):\n",
        "\n",
        "$lim_{x \\to 1} \\frac{x^2+x+1}{x+1}$\n",
        "\n",
        "\n",
        "Calculamos\n",
        "\n",
        "$lim_{x \\to 1} \\frac{1^2+1+1}{1+1}$\n",
        "\n",
        "$lim_{x \\to 1} \\frac{3}{2}$\n",
        "\n",
        "El limite es:\n",
        "\n",
        "$\\frac{3}{2}$\n",
        "\n"
      ],
      "metadata": {
        "id": "h2LP03DlUnO-"
      }
    },
    {
      "cell_type": "code",
      "source": [
        "x = sym.symbols('x')\n",
        "# Definir la función\n",
        "funcion_f = (x**3 - 1) / (x**2 - 1)\n",
        "\n",
        "# Calcular el límite\n",
        "limite_f = sym.limit(funcion_f, x, 1)\n",
        "\n",
        "# Mostrar el resultado\n",
        "limite_f\n"
      ],
      "metadata": {
        "colab": {
          "base_uri": "https://localhost:8080/",
          "height": 51
        },
        "id": "DUs-BBcvV2EH",
        "outputId": "a26fd0b8-da28-45f8-c77d-6e60dc684764"
      },
      "execution_count": null,
      "outputs": [
        {
          "output_type": "execute_result",
          "data": {
            "text/plain": [
              "3/2"
            ],
            "text/latex": "$\\displaystyle \\frac{3}{2}$"
          },
          "metadata": {},
          "execution_count": 31
        }
      ]
    },
    {
      "cell_type": "markdown",
      "source": [
        "######·<font color=\"00dbff\"> **g.**\n",
        "\n",
        "Limite:\n",
        "\n",
        "$lim_{u \\to 4} \\frac{u}{(u-4)^2}$\n",
        "\n",
        "Calculamos\n",
        "\n",
        "$lim_{u \\to 4} \\frac{4}{(4-4)^2}$\n",
        "\n",
        "$lim_{u \\to 4} \\frac{4}{(0)^2}$\n",
        "\n",
        "No es una indeterminación, pero obtenemos una división por cero, lo que indica que el límite tiende a infinito o menos infinito.\n",
        "\n",
        "##Analizamos el comportamiento del limite##\n",
        "Debido a que el denominador es $(u-4)^2$, siempre será positivo. Entonces, conforme 𝑢 se aproxima a 4, el denominador se hace muy pequeño y la fracción crece hacia infinito positivo. Por lo tanto:\n",
        "\n",
        "El limite es:\n",
        "\n",
        "$+\\infty$\n",
        "\n"
      ],
      "metadata": {
        "id": "RcOPuibYWGTU"
      }
    },
    {
      "cell_type": "code",
      "source": [
        "u = sym.symbols('u')\n",
        "\n",
        "# Definir la función\n",
        "funcion_g = u / (u - 4)**2\n",
        "\n",
        "# Calcular el límite\n",
        "limite_g = sym.limit(funcion_g, u, 4)\n",
        "\n",
        "# Mostrar el resultado\n",
        "limite_g\n",
        "\n"
      ],
      "metadata": {
        "colab": {
          "base_uri": "https://localhost:8080/",
          "height": 37
        },
        "id": "aegJklvYXm9Q",
        "outputId": "a70a6096-41bb-4872-f8a1-6e3d3e5e9b6c"
      },
      "execution_count": null,
      "outputs": [
        {
          "output_type": "execute_result",
          "data": {
            "text/plain": [
              "oo"
            ],
            "text/latex": "$\\displaystyle \\infty$"
          },
          "metadata": {},
          "execution_count": 32
        }
      ]
    },
    {
      "cell_type": "markdown",
      "source": [
        "######·<font color=\"00dbff\"> **h.**\n",
        "\n",
        "Limite:\n",
        "\n",
        "$lim_{x \\to -2} \\frac{x}{(x+2)}$\n",
        "\n",
        "Calculamos\n",
        "\n",
        "$lim_{x \\to -2} \\frac{-2}{(-2+2)}$\n",
        "\n",
        "$lim_{x \\to -2} \\frac{-2}{0}$\n",
        "\n",
        "Obtenemos una división por cero, lo que indica que el límite tiende a infinito o menos infinito.\n",
        "\n",
        "##Analizamos el comportamiento del limite##\n",
        "Si nos aproximamos a x= -2 desde la derecha $\\lim_{x \\to -2^+}$\n",
        "*El denominador es x-2 es un numero muy pequeño positivo\n",
        "*El numerador x es cercano a -2 por lo que es negativo\n",
        "Por lo tanto, el limite tiende a $-\\infty$.\n",
        "\n",
        "Si nos aproximamos a x= -2 desde la izquierda $\\lim_{x \\to -2^-}$\n",
        "*El denominador es x+2 es un numero muy pequeño negativo\n",
        "*El numerador x es cercano a -2 por lo que es negativo\n",
        "Por lo tanto, el limite tiende a $+\\infty$.\n",
        "\n",
        "Dado que el límite no es igual desde ambos lados, **este límite no existe.**\n",
        "\n"
      ],
      "metadata": {
        "id": "3gDjyS2xXzpe"
      }
    },
    {
      "cell_type": "markdown",
      "source": [
        "#####<font color=\"47c7dc\"> **3.** </font> Evalúa los siguientes límites:"
      ],
      "metadata": {
        "id": "G3JQ8zdyTdgW"
      }
    },
    {
      "cell_type": "markdown",
      "source": [
        "######·<font color=\"00dbff\"> **a.**\n",
        "Limite\n",
        "\n",
        "$lim_{x \\to 1^+} {(3x^2 + 4)}$\n",
        "\n",
        "Paso a paso\n",
        "\n",
        "Como la función $ {(3x^2 + 4)}$ es una función polinómica, es continua en todos los puntos de su dominio. Esto significa que podemos simplemente evaluar el valor de la función en x=1\n",
        "\n",
        "Calcular\n",
        "\n",
        "$lim_{x \\to 1^+} {(3(1)^2 + 4)}$\n",
        "\n",
        "$lim_{x \\to 1^+} {3 + 4}$\n",
        "\n",
        "El limite es\n",
        "\n",
        "${7}$\n",
        "\n",
        "\n"
      ],
      "metadata": {
        "id": "0_nGMNZ2TjDN"
      }
    },
    {
      "cell_type": "code",
      "source": [
        "# Definir la variable x\n",
        "x = sym.Symbol('x')\n",
        "\n",
        "# Definir la función\n",
        "expr = 3*x**2 + 4\n",
        "\n",
        "# Calcular el límite cuando x tiende a 1 por la derecha\n",
        "lim_a = sym.limit(expr, x, 1, dir='+')\n",
        "\n",
        "# Mostrar el resultado\n",
        "lim_a"
      ],
      "metadata": {
        "colab": {
          "base_uri": "https://localhost:8080/",
          "height": 37
        },
        "id": "sYkCuR-FU1ZG",
        "outputId": "1756c23f-50c1-4c31-8bda-9f0760fc0987"
      },
      "execution_count": null,
      "outputs": [
        {
          "output_type": "execute_result",
          "data": {
            "text/plain": [
              "7"
            ],
            "text/latex": "$\\displaystyle 7$"
          },
          "metadata": {},
          "execution_count": 3
        }
      ]
    },
    {
      "cell_type": "markdown",
      "source": [
        "######·<font color=\"00dbff\"> **b.**\n",
        "Limite\n",
        "\n",
        "$lim_{x \\to 3^-} \\frac{1}{x - 3}$\n",
        "\n",
        "Paso a paso\n",
        "\n",
        "El denominador x-3 tiende a 0 cuando x se acerca a 3 desde la izquierda (es decir, valores menores que 3)\n",
        "\n",
        "Cuando x<3, la expresion x-3 es negativa, lo que hace que el cociente $ \\frac{1}{x - 3}$ sea un numero grande pero negativo.\n",
        "\n",
        "Por lo tanto, cuando x tiende a 3 desde la izquierda, $ \\frac{1}{x - 3}$ **Tiende a infinito negativo**\n",
        "\n"
      ],
      "metadata": {
        "id": "MitZzQJ4XAZA"
      }
    },
    {
      "cell_type": "code",
      "source": [
        "\n",
        "# Definir la variable x\n",
        "x = sym.Symbol('x')\n",
        "\n",
        "# Definir la expresión\n",
        "expr = 1 / (x - 3)\n",
        "\n",
        "# Calcular el límite cuando x tiende a 3 por la izquierda\n",
        "lim_b = sym.limit(expr, x, 3, dir='-')\n",
        "\n",
        "# Mostrar el resultado\n",
        "lim_b\n"
      ],
      "metadata": {
        "colab": {
          "base_uri": "https://localhost:8080/",
          "height": 37
        },
        "id": "VRNRKAa1Xyv8",
        "outputId": "6a52dfa5-c5ed-4902-e029-d26d17800f5e"
      },
      "execution_count": null,
      "outputs": [
        {
          "output_type": "execute_result",
          "data": {
            "text/plain": [
              "-oo"
            ],
            "text/latex": "$\\displaystyle -\\infty$"
          },
          "metadata": {},
          "execution_count": 10
        }
      ]
    },
    {
      "cell_type": "markdown",
      "source": [
        "######·<font color=\"00dbff\"> **c.**\n",
        "Limite\n",
        "\n",
        "$lim_{x \\to 3^+} \\frac{1}{x - 3}$\n",
        "\n",
        "Paso a paso\n",
        "\n",
        "El denominador x-3 tiende a 0 cuando x se acerca a 3 desde la derecha (es decir, valores mayores que 3)\n",
        "\n",
        "Cuando x>3, la expresion x-3 es positiva, lo que hace que el cociente $ \\frac{1}{x - 3}$ sea muy grande.\n",
        "\n",
        "Por lo tanto, cuando x tiende a 3 desde la derecha, $ \\frac{1}{x - 3}$ **Tiende a infinito positivo**\n",
        "\n"
      ],
      "metadata": {
        "id": "eDU5DqYoVJGc"
      }
    },
    {
      "cell_type": "code",
      "source": [
        "\n",
        "\n",
        "# Definir la variable x\n",
        "x = sym.Symbol('x')\n",
        "\n",
        "# Definir la expresión\n",
        "expr = 1 / (x - 3)\n",
        "\n",
        "# Calcular el límite cuando x tiende a 3 por la derecha\n",
        "lim_c = sym.limit(expr, x, 3, dir='+')\n",
        "\n",
        "# Mostrar el resultado\n",
        "lim_c\n"
      ],
      "metadata": {
        "colab": {
          "base_uri": "https://localhost:8080/",
          "height": 37
        },
        "outputId": "e0e8f933-25bf-4bb7-83e3-c006a51ea928",
        "id": "GL9mmDBoVJGd"
      },
      "execution_count": null,
      "outputs": [
        {
          "output_type": "execute_result",
          "data": {
            "text/plain": [
              "oo"
            ],
            "text/latex": "$\\displaystyle \\infty$"
          },
          "metadata": {},
          "execution_count": 8
        }
      ]
    },
    {
      "cell_type": "markdown",
      "source": [
        "######·<font color=\"00dbff\"> **d.**\n",
        "Limite\n",
        "\n",
        "$lim_{t \\to -2^+}- \\frac{t}{t + 2}$\n",
        "\n",
        "Paso a paso\n",
        "\n",
        "Obsevamos la expresion t+2. Cuando t se acerca a -2 desde la derecha (valores mayores que -2), la expresión t+2 se acercará a 0 pero será positiva, ya que -2+2 = 0 y cualquier número ligeramente mayor que -2 hará que la suma sea positiva. El numerador es negativo y el denominador será positivo, por ende el resultado será negativo. **Tiende a infinito negativo.**\n",
        "\n",
        "\n",
        "\n",
        "$lim_{t \\to -2^+} \\frac{t}{t + 2}=$ $-\\infty$\n",
        "\n",
        "\n"
      ],
      "metadata": {
        "id": "eRIu4WcdYHHI"
      }
    },
    {
      "cell_type": "code",
      "source": [
        "\n",
        "# Definir la variable t\n",
        "t = sym.Symbol('t')\n",
        "\n",
        "# Definir la expresión\n",
        "expr = t / (t + 2)\n",
        "\n",
        "# Calcular el límite cuando t tiende a -2 por la derecha\n",
        "lim_d = sym.limit(expr, t, -2, dir='+')\n",
        "\n",
        "# Mostrar el resultado\n",
        "lim_d\n",
        "\n"
      ],
      "metadata": {
        "colab": {
          "base_uri": "https://localhost:8080/",
          "height": 37
        },
        "outputId": "37392575-d151-4b3b-dbc5-898acb8cb60a",
        "id": "lK9CAuc7YHHJ"
      },
      "execution_count": null,
      "outputs": [
        {
          "output_type": "execute_result",
          "data": {
            "text/plain": [
              "-oo"
            ],
            "text/latex": "$\\displaystyle -\\infty$"
          },
          "metadata": {},
          "execution_count": 16
        }
      ]
    },
    {
      "cell_type": "markdown",
      "source": [
        "######·<font color=\"00dbff\"> **e.**\n",
        "Limite\n",
        "\n",
        "$lim_{t \\to -2^-} \\frac{t}{t + 2}$\n",
        "\n",
        "Paso a paso\n",
        "\n",
        "Obsevamos el numerador -t y el denominador  t+2.\n",
        "\n",
        "*   Cuando t se acerca a -2. desde la izquierda el numerador -t se aproxima a 2 y el denominador t+2 se aproxima a 0 de manera negativa.\n",
        "*  El denominador t+2 se aproxima a $0^-$\n",
        "* Como en numerador y denominador son negativos, entonces el resultado será positivo. **Tiende a Infinito**\n",
        "\n",
        "\n",
        "\n",
        "Por lo tanto\n",
        "\n",
        "$lim_{t \\to -2^-} \\frac{t}{t + 2}=$ $\\infty$\n",
        "\n",
        "\n",
        "\n",
        "\n"
      ],
      "metadata": {
        "id": "PMLBDrwXaGtM"
      }
    },
    {
      "cell_type": "code",
      "source": [
        "\n",
        "\n",
        "# Definir la variable t\n",
        "t = sym.Symbol('t')\n",
        "\n",
        "# Definir la expresión\n",
        "expr = -t / (t + 2)\n",
        "\n",
        "# Calcular el límite cuando t tiende a -2 por la izquierda\n",
        "lim_e = sym.limit(expr, t, -2, dir='+')\n",
        "\n",
        "# Mostrar el resultado\n",
        "lim_e\n",
        "\n"
      ],
      "metadata": {
        "colab": {
          "base_uri": "https://localhost:8080/",
          "height": 37
        },
        "outputId": "3c2b97ad-c645-4298-88c3-a2775643219d",
        "id": "U6rYCuXMaGtO"
      },
      "execution_count": null,
      "outputs": [
        {
          "output_type": "execute_result",
          "data": {
            "text/plain": [
              "oo"
            ],
            "text/latex": "$\\displaystyle \\infty$"
          },
          "metadata": {},
          "execution_count": 48
        }
      ]
    },
    {
      "cell_type": "markdown",
      "source": [
        "######·<font color=\"00dbff\"> **e.**\n",
        "Limite\n",
        "\n",
        "$lim_{x \\to 10^-} \\frac{x^2-9x-10}{x^2-8x-20}$\n",
        "\n",
        "Paso a paso\n",
        "\n",
        "Evaluamos\n",
        "\n",
        "$lim_{x \\to 10^-} \\frac{10^2-9(10)-10}{19^2-8(10)-20}$\n",
        "\n",
        "$lim_{x \\to 10^-} \\frac{0}{0}$\n",
        "\n",
        "Ambos el numerador y el denominador se evalúan como cero, por lo que tenemos una forma indeterminada, esto significa que necesitamos simplificar la expresión\n",
        "\n",
        "\n",
        "Factorizamos el numerador y el denominador\n",
        "\n",
        "$lim_{x \\to 10^-} \\frac{(x-10)(x+1)}{(x-10)(x+2)}$\n",
        "\n",
        "Cancelamos (x-10)\n",
        "\n",
        "$lim_{x \\to 10^-} \\frac{(x+1)}{(x+2)}$\n",
        "\n",
        "Evaluamos el Límite\n",
        "\n",
        "$lim_{x \\to 10^-} \\frac{(10+1)}{(10+2)}$\n",
        "\n",
        "$lim_{x \\to 10^-} \\frac{11}{12}$\n",
        "\n",
        "\n",
        "**El limite es:**\n",
        "\n",
        "\n",
        "$\\frac{11}{12}$\n",
        "\n",
        "\n",
        "\n"
      ],
      "metadata": {
        "id": "yEGHxDVMmZxX"
      }
    },
    {
      "cell_type": "code",
      "source": [
        "\n",
        "# Definir la variable x\n",
        "x = sym.symbols('x')\n",
        "\n",
        "# Definir la expresión\n",
        "expr = (x**2 - 9*x - 10) / (x**2 - 8*x - 20)\n",
        "\n",
        "# Calcular el límite cuando x tiende a 10 por la izquierda\n",
        "lim_f = sym.limit(expr, x, 10, dir='-')\n",
        "\n",
        "# Mostrar el resultado\n",
        "lim_f\n"
      ],
      "metadata": {
        "colab": {
          "base_uri": "https://localhost:8080/",
          "height": 51
        },
        "id": "7qfR4sEQo4eM",
        "outputId": "0960d123-2391-424b-8a7c-782c28d385be"
      },
      "execution_count": null,
      "outputs": [
        {
          "output_type": "execute_result",
          "data": {
            "text/plain": [
              "11/12"
            ],
            "text/latex": "$\\displaystyle \\frac{11}{12}$"
          },
          "metadata": {},
          "execution_count": 21
        }
      ]
    },
    {
      "cell_type": "markdown",
      "source": [
        "#####<font color=\"47c7dc\"> **4.** </font> Evalúa los siguientes límites:"
      ],
      "metadata": {
        "id": "ztrgCn4lqGG_"
      }
    },
    {
      "cell_type": "markdown",
      "source": [
        "######·<font color=\"00dbff\"> **a.**\n",
        "$lim_{x \\to 2^+} {|x|}$\n",
        "\n",
        "Esta funcion representa el valor absoluto de x. Esto significa que para x>0, |x|=x. En este caso, dado que estamos evaluando el límite a medida que x se aproxima a 2 desde la derecha (valores mayores que 2) la funcion se comporta como |x| = x\n",
        "\n",
        "Sustitucion\n",
        "\n",
        "$lim_{x \\to 2^+} {|2|}$\n",
        "\n",
        "Por lo tanto:\n",
        "\n",
        "$lim_{x \\to 2^+} {|2|=2}$\n",
        "\n",
        "\n"
      ],
      "metadata": {
        "id": "-pNaHbolqKtz"
      }
    },
    {
      "cell_type": "code",
      "source": [
        "\n",
        "# Definir la variable x\n",
        "x = sym.symbols('x')\n",
        "\n",
        "# Definir la expresión\n",
        "expr = sym.Abs(x)\n",
        "\n",
        "# Calcular el límite cuando x tiende a 2 por la derecha\n",
        "lim_a = sym.limit(expr, x, 2, dir='+')\n",
        "\n",
        "# Mostrar el resultado\n",
        "lim_a\n"
      ],
      "metadata": {
        "colab": {
          "base_uri": "https://localhost:8080/",
          "height": 37
        },
        "id": "2p6-BnpwsVvl",
        "outputId": "f509cc05-ba88-44c4-a5d2-3b6e2c23d8dd"
      },
      "execution_count": null,
      "outputs": [
        {
          "output_type": "execute_result",
          "data": {
            "text/plain": [
              "2"
            ],
            "text/latex": "$\\displaystyle 2$"
          },
          "metadata": {},
          "execution_count": 22
        }
      ]
    },
    {
      "cell_type": "markdown",
      "source": [
        "######·<font color=\"00dbff\"> **b.**\n",
        "$lim_{x \\to 2^-} {|x|}$\n",
        "\n",
        "\n",
        "Dado que estamos evaluando el limite a medida que x se aproxima a 2 desde la izquierda (valores menores que 2), la funcion también se comporta como |x|=x, ya que valor absoluto de x siempre es positivo\n",
        "\n",
        "Entonces\n",
        "\n",
        "$lim_{x \\to 2^-} {|2|}$\n",
        "\n",
        "$lim_{x \\to 2^-} {|2|}=2$\n",
        "\n"
      ],
      "metadata": {
        "id": "s_R3dMHEsehy"
      }
    },
    {
      "cell_type": "code",
      "source": [
        "\n",
        "\n",
        "# Definir la variable x\n",
        "x = sym.symbols('x')\n",
        "\n",
        "# Definir la expresión\n",
        "expr = sym.Abs(x)\n",
        "\n",
        "# Calcular el límite cuando x tiende a 2 por la izquierda\n",
        "lim_b = sym.limit(expr, x, 2, dir='-')\n",
        "\n",
        "# Mostrar el resultado\n",
        "lim_b\n"
      ],
      "metadata": {
        "colab": {
          "base_uri": "https://localhost:8080/",
          "height": 37
        },
        "id": "fTEXk5UwtKCg",
        "outputId": "c549c0cf-2b73-4ddb-9c6d-0170f3ec0f94"
      },
      "execution_count": null,
      "outputs": [
        {
          "output_type": "execute_result",
          "data": {
            "text/plain": [
              "2"
            ],
            "text/latex": "$\\displaystyle 2$"
          },
          "metadata": {},
          "execution_count": 24
        }
      ]
    },
    {
      "cell_type": "markdown",
      "source": [
        "######·<font color=\"00dbff\"> **c.**\n",
        "$lim_{x \\to 3^-} {|x|}$\n",
        "\n",
        "Dado que estamos evaluando el limite a medida que x se aproxima a 3 desde la izquierda (valores menores que 3), la funcion también se comporta como |x|=x, ya que valor absoluto de x siempre es positivo\n",
        "\n",
        "Entonces\n",
        "\n",
        "$lim_{x \\to 3^-} {|3|}$\n",
        "\n",
        "$lim_{x \\to 3^-} {|3|=3}$\n"
      ],
      "metadata": {
        "id": "Ln9Jdk3WtkIA"
      }
    },
    {
      "cell_type": "code",
      "source": [
        "\n",
        "# Definir la variable x\n",
        "x = sym.symbols('x')\n",
        "\n",
        "# Definir la expresión\n",
        "expr = sym.Abs(x)\n",
        "\n",
        "# Calcular el límite cuando x tiende a 3 por la izquierda\n",
        "lim_c = sym.limit(expr, x, 3, dir='-')\n",
        "\n",
        "# Mostrar el resultado\n",
        "lim_c\n"
      ],
      "metadata": {
        "colab": {
          "base_uri": "https://localhost:8080/",
          "height": 37
        },
        "id": "ggkCjQkruVyv",
        "outputId": "3d351b08-d0a7-421d-fb82-f6e62a0f53e1"
      },
      "execution_count": null,
      "outputs": [
        {
          "output_type": "execute_result",
          "data": {
            "text/plain": [
              "3"
            ],
            "text/latex": "$\\displaystyle 3$"
          },
          "metadata": {},
          "execution_count": 50
        }
      ]
    },
    {
      "cell_type": "markdown",
      "source": [
        "######·<font color=\"00dbff\"> **d.**\n",
        "$lim_{x \\to 3^+} {|x|}$\n",
        "\n",
        "Dado que estamos evaluando el limite a medida que x se aproxima a 3 desde la derecha (valores mayores que 3), la funcion también se comporta como |x|=x, ya que valor absoluto de x siempre es positivo\n",
        "\n",
        "$lim_{x \\to 3^+} {|3|}$\n",
        "\n",
        "$lim_{x \\to 3^+} {|3|=3}$\n",
        "\n",
        "\n",
        "\n"
      ],
      "metadata": {
        "id": "-2rd6FhJukLe"
      }
    },
    {
      "cell_type": "code",
      "source": [
        "\n",
        "# Definir la variable x\n",
        "x = sym.symbols('x')\n",
        "\n",
        "# Definir la expresión\n",
        "expr = sym.Abs(x)\n",
        "\n",
        "# Calcular el límite cuando x tiende a 3 por la derecha\n",
        "lim_d = sym.limit(expr, x, 3, dir='+')\n",
        "\n",
        "# Mostrar el resultado\n",
        "lim_d\n"
      ],
      "metadata": {
        "colab": {
          "base_uri": "https://localhost:8080/",
          "height": 37
        },
        "id": "jIt5ukH2vHZ9",
        "outputId": "e9b1ebf4-8dbe-457c-99fc-f35d6ad78a08"
      },
      "execution_count": null,
      "outputs": [
        {
          "output_type": "execute_result",
          "data": {
            "text/plain": [
              "3"
            ],
            "text/latex": "$\\displaystyle 3$"
          },
          "metadata": {},
          "execution_count": 49
        }
      ]
    },
    {
      "cell_type": "markdown",
      "source": [
        "######·<font color=\"00dbff\"> **e.**\n",
        "$lim_{x \\to 0^+} {|cos(x)|}$\n",
        "\n",
        " La función |cos(x)| representa el valor absoluto del coseno de x. El coseno es una funcion continua y oscilante que toma valores en el rango de [-1,1]\n",
        "\n",
        " **Evaluacion del límite**\n",
        "\n",
        "\n",
        "*  Cuando x se aproxima a 0 desde la derecha $(0^+)$ el coseno se aproxima a cos(0) = 1\n",
        "*   Dado que cos(0) = 1 es positivo, el valor absoluto no afecta el resultado\n",
        "\n",
        "$lim_{x \\to 0^+} {|cos(x)|}$ = ${|cos(0)|}=|1|=1$\n",
        "\n",
        "Por lo tanto:\n",
        "\n",
        "$lim_{x \\to 0^+} {|cos(x)|} = 1$\n",
        "\n",
        "\n",
        "\n"
      ],
      "metadata": {
        "id": "P-KiOgq5vc-K"
      }
    },
    {
      "cell_type": "code",
      "source": [
        "\n",
        "\n",
        "# Definir la variable x\n",
        "x = sym.symbols('x')\n",
        "\n",
        "# Definir la expresión\n",
        "expr = sym.Abs(sym.cos(x))\n",
        "\n",
        "# Calcular el límite cuando x tiende a 0 por la derecha\n",
        "lim_e = sym.limit(expr, x, 0, dir='+')\n",
        "\n",
        "# Mostrar el resultado\n",
        "lim_e\n"
      ],
      "metadata": {
        "colab": {
          "base_uri": "https://localhost:8080/",
          "height": 37
        },
        "id": "LRE35rurwr80",
        "outputId": "1b168908-98ad-4109-f144-7c837d87e4f5"
      },
      "execution_count": null,
      "outputs": [
        {
          "output_type": "execute_result",
          "data": {
            "text/plain": [
              "1"
            ],
            "text/latex": "$\\displaystyle 1$"
          },
          "metadata": {},
          "execution_count": 51
        }
      ]
    },
    {
      "cell_type": "markdown",
      "source": [
        "######·<font color=\"00dbff\"> **f.**\n",
        "$lim_{x \\to 0^+} {|sin(x)|}$\n",
        "\n",
        " La función |sin(x)| representa el valor absoluto del seno de x. El seno es una funcion continua  que toma valores en el rango de [-1,1]\n",
        "\n",
        "  **Evaluacion del límite**\n",
        "\n",
        "\n",
        "*  Cuando x se aproxima a 0 desde la derecha $(0^+)$ el seno se aproxima a sin(0) = 0\n",
        "*   Dado que sin(0) = 0 el valor absoluto también será 0\n",
        "\n",
        "$lim_{x \\to 0^+} {|sin(x)|}$ = ${|sin(0)|}=|0|=0$\n",
        "\n",
        "Por lo tanto\n",
        "\n",
        "$lim_{x \\to 0^+} {|sin(x)|} = 0$\n",
        "\n",
        "\n"
      ],
      "metadata": {
        "id": "6ZPOsrXrw4dJ"
      }
    },
    {
      "cell_type": "code",
      "source": [
        "\n",
        "# Definir la variable x\n",
        "x = sym.symbols('x')\n",
        "\n",
        "# Definir la expresión\n",
        "expr = sym.Abs(sym.sin(x))\n",
        "\n",
        "# Calcular el límite cuando x tiende a 0 por la derecha\n",
        "lim_f = sym.limit(expr, x, 0, dir='+')\n",
        "\n",
        "# Mostrar el resultado\n",
        "lim_f\n"
      ],
      "metadata": {
        "colab": {
          "base_uri": "https://localhost:8080/",
          "height": 37
        },
        "id": "gG156jADxqcR",
        "outputId": "e8664f9c-ff04-4619-f6fe-95347d822b7b"
      },
      "execution_count": null,
      "outputs": [
        {
          "output_type": "execute_result",
          "data": {
            "text/plain": [
              "0"
            ],
            "text/latex": "$\\displaystyle 0$"
          },
          "metadata": {},
          "execution_count": 52
        }
      ]
    },
    {
      "cell_type": "markdown",
      "source": [
        "#####<font color=\"47c7dc\"> **5.** </font> Suponga:\n",
        "$\n",
        "g(z) = \\begin{cases} 3z - 1 & \\text{si } z < 2 \\\\7 - z &\\text{si } z \\geq 2 \\end{cases}$"
      ],
      "metadata": {
        "id": "e35wmCyf7fPk"
      }
    },
    {
      "cell_type": "markdown",
      "source": [
        "######·<font color=\"00dbff\"> **a.**\n",
        "**Graficar $g(z)$**\n",
        "\n",
        "\n",
        "\n",
        "*   Para $z < 2: g(z) = 3z-1$\n",
        "*   Para $z \\geq 2: g(z) = 7-z$\n",
        "\n",
        "*Para graficar, evaluamos ambos tramos*\n",
        "\n",
        "**1. Para $z<2:$**\n",
        "\n",
        "\n",
        "*   Cuando $z=0: g(0)=3(0) - 1 = -1 $\n",
        "*   Cuando $z=1: g(1)=3(1) - 1 = 2 $\n",
        "*   Cuando $z=2: g(2)=3(2) - 1 = 5 $(Pero este valor no se incluye en el intervalo)\n",
        "\n",
        "Asi que la línea se extiende desde (-1,0) a (2,5) pero sin incluir (2,5).\n",
        "\n",
        "**2. Para $z\\geq2:$**\n",
        "\n",
        "*   Cuando $z=2: g(2)=7 - 2 = 5 $ (Este valor sí se incluye)\n",
        "\n",
        "*   Cuando $z=3: g(3)= 7  - 3 = 4 $\n",
        "\n",
        "*   Cuando $z=4: g(4)= 7 - 4 = 3 $\n",
        "\n",
        "Esto es una línea descendente desde (2,5) hacia la derecha.\n",
        "\n",
        "**La gráfica se vería como:**\n",
        "\n",
        "*   La línea desde $(-1,0)$ a $(2,5)$ [sin incluir$(2,5)$]\n",
        "*   Un punto cerrado en $(2,5)$ y una línea descendente hacia la derecha.\n"
      ],
      "metadata": {
        "id": "OdnoJcnS7n1m"
      }
    },
    {
      "cell_type": "code",
      "source": [
        "import numpy as np\n",
        "import matplotlib.pyplot as plt\n",
        "\n",
        "# Definir la función g(z) de manera vectorizada\n",
        "def g(z):\n",
        "    return np.where(z < 2, 3 * z - 1, 7 - z)\n",
        "\n",
        "# Crear un rango de valores para z\n",
        "z_left = np.linspace(-1, 2, 100)  # Valores de z < 2\n",
        "z_right = np.linspace(2, 5, 100)  # Valores de z >= 2\n",
        "\n",
        "# Calcular g(z) para cada rango\n",
        "g_left = g(z_left)\n",
        "g_right = g(z_right)\n",
        "\n",
        "# Crear la gráfica\n",
        "plt.figure(figsize=(8, 6))\n",
        "plt.plot(z_left, g_left, label='g(z) = 3z - 1 (z < 2)', color='blue')\n",
        "plt.plot(z_right, g_right, label='g(z) = 7 - z (z ≥ 2)', color='orange')\n",
        "\n",
        "# Marcar el punto en z = 2\n",
        "plt.scatter(2, g(2), color='red')  # Punto cerrado\n",
        "plt.text(2, g(2), ' (2, 5)', fontsize=10, verticalalignment='bottom')\n",
        "\n",
        "# Configurar la gráfica\n",
        "plt.title('Gráfica de g(z)')\n",
        "plt.xlabel('z')\n",
        "plt.ylabel('g(z)')\n",
        "plt.axvline(x=2, color='gray', linestyle='--', linewidth=0.7)  # Línea vertical en z=2\n",
        "plt.axhline(y=5, color='gray', linestyle='--', linewidth=0.7)  # Línea horizontal en g(z)=5\n",
        "plt.legend()\n",
        "plt.grid(True)\n",
        "plt.ylim(-2, 6)  # Ajustar el rango del eje y\n",
        "plt.xlim(-1, 5)  # Ajustar el rango del eje x\n",
        "\n",
        "# Mostrar la gráfica\n",
        "plt.show()\n"
      ],
      "metadata": {
        "colab": {
          "base_uri": "https://localhost:8080/",
          "height": 565
        },
        "id": "OLCxtniA_xVl",
        "outputId": "169bcff4-afa9-4c43-9b61-24e1ebaf2e78"
      },
      "execution_count": null,
      "outputs": [
        {
          "output_type": "display_data",
          "data": {
            "text/plain": [
              "<Figure size 800x600 with 1 Axes>"
            ],
            "image/png": "[encoded data removed]"
          },
          "metadata": {}
        }
      ]
    },
    {
      "cell_type": "markdown",
      "source": [
        "######·<font color=\"00dbff\"> **b.**\n",
        "\n",
        "**Calcular**\n",
        "\n",
        "$lim_{z \\to 2^-} {g(z)}$\n",
        "\n",
        "Para encontrar el límite cuando 𝑧 se acerca a 2 desde la izquierda, usamos el primer trozo ya que este tiene la condicion de ser <2:\n",
        "\n",
        "$lim_{z \\to 2^-} {g(z)=3(2)-1=5}$\n",
        "\n",
        "Limite por izquierda:\n",
        "\n",
        "$5$\n"
      ],
      "metadata": {
        "id": "oaWbfJR5ArrF"
      }
    },
    {
      "cell_type": "code",
      "source": [
        "\n",
        "# Definir la variable\n",
        "x = sym.symbols('x')\n",
        "\n",
        "# Definir la función\n",
        "expr_a = (3*x - 1)\n",
        "\n",
        "# Calcular el límite cuando x tiende a 2 por la izquierda\n",
        "lim_a = sym.limit(expr_a, x, 2, dir='-')\n",
        "\n",
        "# Mostrar el resultado\n",
        "lim_a\n"
      ],
      "metadata": {
        "colab": {
          "base_uri": "https://localhost:8080/",
          "height": 37
        },
        "id": "yGiS_X8VCFgx",
        "outputId": "56728481-758a-4728-c0ee-4d0bbd175007"
      },
      "execution_count": null,
      "outputs": [
        {
          "output_type": "execute_result",
          "data": {
            "text/plain": [
              "5"
            ],
            "text/latex": "$\\displaystyle 5$"
          },
          "metadata": {},
          "execution_count": 54
        }
      ]
    },
    {
      "cell_type": "markdown",
      "source": [
        "######·<font color=\"00dbff\"> **c.**\n",
        "**Calcular**\n",
        "\n",
        "$lim_{z \\to 2^+} {g(z)}$\n",
        "\n",
        "Para encontrar el límite cuando 𝑧 se acerca a 2 desde la derecha, usamos el segundo trozo ya que este tiene la condicion de ser $\\geq2$:\n",
        "\n",
        "$lim_{z \\to 2^+} {g(z)=7-2=5}$\n",
        "\n",
        "Limite por derecha:\n",
        "\n",
        "$5$\n",
        "\n"
      ],
      "metadata": {
        "id": "igKK5BBYDAo0"
      }
    },
    {
      "cell_type": "code",
      "source": [
        "# Definir la variable\n",
        "x = sym.symbols('x')\n",
        "\n",
        "# Definir la función\n",
        "expr_a = (3*x - 1)\n",
        "\n",
        "# Calcular el límite cuando x tiende a 2 por la izquierda\n",
        "lim_a = sym.limit(expr_a, x, 2, dir='+')\n",
        "\n",
        "# Mostrar el resultado\n",
        "lim_a"
      ],
      "metadata": {
        "colab": {
          "base_uri": "https://localhost:8080/",
          "height": 37
        },
        "id": "GbfSElfGD0Vn",
        "outputId": "d812b65c-b3b7-4ce9-ece4-c3867a612de0"
      },
      "execution_count": null,
      "outputs": [
        {
          "output_type": "execute_result",
          "data": {
            "text/plain": [
              "5"
            ],
            "text/latex": "$\\displaystyle 5$"
          },
          "metadata": {},
          "execution_count": 55
        }
      ]
    },
    {
      "cell_type": "markdown",
      "source": [
        "######·<font color=\"00dbff\"> **d.**\n",
        "**Existe $lim_{z \\to 2} {g(z)}$**\n",
        "\n",
        "Dado que:\n",
        "\n",
        "$lim_{z \\to 2^+} {g(z)=5}$\n",
        "\n",
        "y\n",
        "\n",
        "$lim_{z \\to 2^-} {g(z)=5}$\n",
        "\n",
        "Son iguales, por lo que **el límite $z=2$ existe** y es:\n",
        "\n",
        "$lim_{z \\to 2} {g(z)=5}$\n",
        "\n"
      ],
      "metadata": {
        "id": "7C2K4GYoD6Pm"
      }
    },
    {
      "cell_type": "markdown",
      "source": [
        "#####<font color=\"47c7dc\"> **6.** </font> Suponga:\n",
        "$\n",
        "g(z) = \\begin{cases} 2t + 1 & \\text{si } t \\leq\n",
        " 1 \\\\3t - 1 &\\text{si } t > 1 \\end{cases}$"
      ],
      "metadata": {
        "id": "YzjEkcH3GL6M"
      }
    },
    {
      "cell_type": "markdown",
      "source": [
        "######·<font color=\"00dbff\"> **a.**\n",
        "**Graficar $h(t)$**\n",
        "\n",
        "\n",
        "\n",
        "*   Para $t \\leq 1: h(t) = 2t+1$\n",
        "*   Para $t > 1: h(t) = 3t-1$\n",
        "\n",
        "*Para graficar, evaluamos ambos tramos*\n",
        "\n",
        "**1. Para $t\\leq1:$**\n",
        "\n",
        "\n",
        "*   Cuando $t=0: h(0)=2(0) + 1 = 1 $\n",
        "*   Cuando $t=1: h(1)=2(1) + 1 = 3 $\n",
        "\n",
        "\n",
        "**2. Para $t>1:$**\n",
        "\n",
        "*   Cuando $t=1: h(1)=3(1) - 1 = 2 $ (Este valor no se incluye)\n",
        "\n",
        "*   Cuando $t=2: h(2)= 3(2)  - 1 = 5 $\n",
        "\n",
        "\n",
        "**La gráfica se vería como:**\n",
        "\n",
        "*   La línea desde $(0,1)$ a $(1,3)$\n",
        "*   Un punto abierto en $(1,2)$ y una línea contínua desde (1,2) hacia arriba."
      ],
      "metadata": {
        "id": "luk7CL5BGwMs"
      }
    },
    {
      "cell_type": "code",
      "source": [
        "\n",
        "def h(t):\n",
        "    return np.where(t <= 1, 2 * t + 1, 3 * t - 1)\n",
        "\n",
        "# Crear un rango de valores para t\n",
        "t_left = np.linspace(-1, 1, 100)  # Valores de t <= 1\n",
        "t_right = np.linspace(1.01, 5, 100)  # Valores de t > 1, comenzando justo después de 1\n",
        "\n",
        "# Calcular h(t) para cada rango\n",
        "h_left = h(t_left)\n",
        "h_right = h(t_right)\n",
        "\n",
        "# Crear la gráfica\n",
        "plt.figure(figsize=(8, 6))\n",
        "plt.plot(t_left, h_left, label='h(t) = 2t + 1 (t ≤ 1)', color='blue')\n",
        "plt.plot(t_right, h_right, label='h(t) = 3t - 1 (t > 1)', color='orange')\n",
        "\n",
        "# Marcar el punto en t = 1 con un punto abierto\n",
        "plt.scatter(1, 2, color='red', edgecolor='black', label='Punto abierto (1, 2)')  # Punto abierto en (1, 2)\n",
        "plt.text(1, 2, ' (1, 2)', fontsize=10, verticalalignment='bottom')\n",
        "\n",
        "# Marcar el valor en t = 1 para la línea azul\n",
        "plt.scatter(1, 3, color='blue')  # Punto en (1, 3)\n",
        "\n",
        "# Configurar la gráfica\n",
        "plt.title('Gráfica de h(t)')\n",
        "plt.xlabel('t')\n",
        "plt.ylabel('h(t)')\n",
        "plt.axvline(x=1, color='gray', linestyle='--', linewidth=0.7)  # Línea vertical en t=1\n",
        "plt.axhline(y=3, color='gray', linestyle='--', linewidth=0.7)  # Línea horizontal en h(t)=3\n",
        "plt.axhline(y=2, color='gray', linestyle='--', linewidth=0.7)  # Línea horizontal en h(t)=2\n",
        "plt.legend()\n",
        "plt.grid(True)\n",
        "plt.ylim(-1, 6)  # Ajustar el rango del eje y\n",
        "plt.xlim(-1, 5)  # Ajustar el rango del eje x\n",
        "\n",
        "# Mostrar la gráfica\n",
        "plt.show()\n",
        "\n"
      ],
      "metadata": {
        "colab": {
          "base_uri": "https://localhost:8080/",
          "height": 564
        },
        "id": "k9yHI5s6IRq2",
        "outputId": "00f5d79a-bc0b-484b-b2dd-98228a58b566"
      },
      "execution_count": null,
      "outputs": [
        {
          "output_type": "display_data",
          "data": {
            "text/plain": [
              "<Figure size 800x600 with 1 Axes>"
            ],
            "image/png": "[encoded data removed]"
          },
          "metadata": {}
        }
      ]
    },
    {
      "cell_type": "markdown",
      "source": [
        "######·<font color=\"00dbff\"> **b.**\n",
        "\n",
        "**Calcular**\n",
        "\n",
        "$lim_{t\\to 1^-} {h(t)}$\n",
        "\n",
        "Para encontrar el límite cuando t se acerca a 1 desde la izquierda, usamos el primer trozo ya que este tiene la condicion de ser $\\leq1$:\n",
        "\n",
        "$lim_{t\\to 1^-} {h(t)=2(1)+1=3}$\n",
        "\n",
        "Limite por izquierda:\n",
        "\n",
        "$3$\n"
      ],
      "metadata": {
        "id": "Y_RdoF9uI4Lu"
      }
    },
    {
      "cell_type": "code",
      "source": [
        "\n",
        "# Definir la variable\n",
        "x = sym.symbols('x')\n",
        "\n",
        "# Definir la función\n",
        "expr_a = (2*x + 1)\n",
        "\n",
        "# Calcular el límite cuando x tiende a 2 por la izquierda\n",
        "lim_a = sym.limit(expr_a, x, 1, dir='-')\n",
        "\n",
        "# Mostrar el resultado\n",
        "lim_a\n"
      ],
      "metadata": {
        "colab": {
          "base_uri": "https://localhost:8080/",
          "height": 37
        },
        "id": "C_J00-e2JZPQ",
        "outputId": "41292fea-49e3-4890-e296-2bff2657f481"
      },
      "execution_count": null,
      "outputs": [
        {
          "output_type": "execute_result",
          "data": {
            "text/plain": [
              "3"
            ],
            "text/latex": "$\\displaystyle 3$"
          },
          "metadata": {},
          "execution_count": 40
        }
      ]
    },
    {
      "cell_type": "markdown",
      "source": [
        "######·<font color=\"00dbff\"> **c.**\n",
        "\n",
        "**Calcular**\n",
        "\n",
        "$lim_{t\\to 1^+} {h(t)}$\n",
        "\n",
        "Para encontrar el límite cuando t se acerca a 1 desde la derecha, usamos el segundo trozo ya que este tiene la condicion de ser $>1$:\n",
        "\n",
        "$lim_{t\\to 1^+} {h(t)=3(1)-1=2}$\n",
        "\n",
        "Limite por derecha:\n",
        "\n",
        "$2$"
      ],
      "metadata": {
        "id": "Tdw08aNVJUeX"
      }
    },
    {
      "cell_type": "code",
      "source": [
        "\n",
        "# Definir la variable\n",
        "x = sym.symbols('x')\n",
        "\n",
        "# Definir la función\n",
        "expr_a = (3*x - 1)\n",
        "\n",
        "# Calcular el límite cuando x tiende a 2 por la izquierda\n",
        "lim_a = sym.limit(expr_a, x, 1, dir='-')\n",
        "\n",
        "# Mostrar el resultado\n",
        "lim_a"
      ],
      "metadata": {
        "colab": {
          "base_uri": "https://localhost:8080/",
          "height": 37
        },
        "id": "3gNzJ3jLKCY1",
        "outputId": "85335c0f-e068-4a33-f362-b66549e42d04"
      },
      "execution_count": null,
      "outputs": [
        {
          "output_type": "execute_result",
          "data": {
            "text/plain": [
              "2"
            ],
            "text/latex": "$\\displaystyle 2$"
          },
          "metadata": {},
          "execution_count": 57
        }
      ]
    },
    {
      "cell_type": "markdown",
      "source": [
        "######·<font color=\"00dbff\"> **d.**\n",
        "**Existe $lim_{t \\to 1} {h(t)}$**\n",
        "\n",
        "Dado que:\n",
        "\n",
        "$lim_{t \\to 1^+} {h(t)=2}$\n",
        "\n",
        "y\n",
        "\n",
        "$lim_{t \\to 1^-} {h(t)=3}$\n",
        "\n",
        "Ambos límites *no son iguales**, por lo que el **límite en t=1 no existe.**"
      ],
      "metadata": {
        "id": "Tese5jQcKFvp"
      }
    },
    {
      "cell_type": "markdown",
      "source": [
        "#####<font color=\"47c7dc\"> **7.** </font> Evalúa los siguientes límites:"
      ],
      "metadata": {
        "id": "cQH0bH7mLmlW"
      }
    },
    {
      "cell_type": "markdown",
      "source": [
        "######·<font color=\"00dbff\"> **a.**\n",
        "Limite\n",
        "\n",
        "$lim_{x \\to \\infty} {(3x +4) }$\n",
        "\n",
        "Cuando x tiende a infinito, el termino 3x crece sin limite. Por lo tanto, el limité es infinito\n",
        "\n",
        "$lim_{x \\to \\infty} {(3x +4) }$ = $ \\infty$\n",
        "\n",
        "\n"
      ],
      "metadata": {
        "id": "oBdMOA3qA5xd"
      }
    },
    {
      "cell_type": "code",
      "source": [
        "\n",
        "\n",
        "# Definir la variable y la expresión\n",
        "x = sym.symbols('x')\n",
        "expr_a = 3 * x + 4\n",
        "\n",
        "# Calcular el límite cuando x tiende a infinito\n",
        "limit_a = sym.limit(expr_a, x, sym.oo)\n",
        "limit_a\n"
      ],
      "metadata": {
        "colab": {
          "base_uri": "https://localhost:8080/",
          "height": 37
        },
        "id": "KilSrc7DPJrN",
        "outputId": "134f0859-168d-477b-a94e-05be6fb5e8b9"
      },
      "execution_count": null,
      "outputs": [
        {
          "output_type": "execute_result",
          "data": {
            "text/plain": [
              "oo"
            ],
            "text/latex": "$\\displaystyle \\infty$"
          },
          "metadata": {},
          "execution_count": 3
        }
      ]
    },
    {
      "cell_type": "markdown",
      "source": [
        "######·<font color=\"00dbff\"> **b.**\n",
        "Limite\n",
        "\n",
        "$lim_{x \\to \\infty} \\frac{x^3-3x-1}{2x^3-x^2+21}$\n",
        "\n",
        "**Análisis**\n",
        "Ambos el numerador y el denominador tienen un término dominante cúbico $x^3$ Se puede dividir todo por $x^3$ para simplificar:\n",
        "$lim_{x \\to \\infty} \\frac{x^3 + 3x - 1}{2x^3 - x^2 + 21} = \\lim_{x \\to \\infty} \\frac{1 + \\frac{3}{x^2} - \\frac{1}{x^3}}{2 - \\frac{1}{x} + \\frac{21}{x^3}}$\n",
        "\n",
        "**Conclusión**\n",
        "\n",
        "Los términos con x en el numerador y el denominador tienden a 0 cuando x tiende a infinito, por lo que el numerador tiende a ser 1 y el denominador a ser 2\n",
        "\n",
        "**Limite**\n",
        "\n",
        "$\\frac {1}{2}$\n",
        "\n"
      ],
      "metadata": {
        "id": "cn0JGzNUPaY5"
      }
    },
    {
      "cell_type": "code",
      "source": [
        "# Definir la expresión para el límite\n",
        "expr_b = (x**3 + 3*x - 1) / (2*x**3 - x**2 + 21)\n",
        "\n",
        "# Calcular el límite cuando x tiende a infinito\n",
        "limit_b = sym.limit(expr_b, x, sym.oo)\n",
        "limit_b\n"
      ],
      "metadata": {
        "colab": {
          "base_uri": "https://localhost:8080/",
          "height": 51
        },
        "id": "OczKIMDPSAe4",
        "outputId": "5c7a1737-e157-4d95-aac4-4a1e3fcc7f28"
      },
      "execution_count": null,
      "outputs": [
        {
          "output_type": "execute_result",
          "data": {
            "text/plain": [
              "1/2"
            ],
            "text/latex": "$\\displaystyle \\frac{1}{2}$"
          },
          "metadata": {},
          "execution_count": 5
        }
      ]
    },
    {
      "cell_type": "markdown",
      "source": [
        "######·<font color=\"00dbff\"> **c.**\n",
        "Limite\n",
        "\n",
        "$lim_{u \\to \\infty} \\frac{u^4+3u-6}{3u^2+1}$\n",
        "\n",
        "**Análisis**\n",
        "El término dominante en el numerador es $u^4$ y en el denominador es $u^2$. Para simplificar, dividimos todo por $u^2$\n",
        "\n",
        "$lim_{u \\to \\infty} \\frac{u^4+3u-6}{3u^2+1} = \\lim_{u \\to \\infty} \\frac{u^2 + \\frac{3}{u} - \\frac{6}{u^2}}{3 + \\frac{1}{u^2}}$\n",
        "\n",
        "**Conclusión**\n",
        ": El numerador tiende a infinito mientras que el denominador tiende a 3\n",
        "\n",
        "Limite\n",
        "\n",
        "$\\infty$\n",
        "\n",
        "\n",
        "\n"
      ],
      "metadata": {
        "id": "u5x3T7psSOy3"
      }
    },
    {
      "cell_type": "code",
      "source": [
        "# Definir la variable u y la expresión\n",
        "u = sym.symbols('u')\n",
        "expr_c = (u**4 + 3*u - 6) / (3*u**2 + 1)\n",
        "\n",
        "# Calcular el límite cuando u tiende a infinito\n",
        "limit_c = sym.limit(expr_c, u, sym.oo)\n",
        "limit_c\n"
      ],
      "metadata": {
        "colab": {
          "base_uri": "https://localhost:8080/",
          "height": 37
        },
        "id": "wi8xtIK5UpcU",
        "outputId": "dece6a25-9b20-45c4-e765-7d04c45172e2"
      },
      "execution_count": null,
      "outputs": [
        {
          "output_type": "execute_result",
          "data": {
            "text/plain": [
              "oo"
            ],
            "text/latex": "$\\displaystyle \\infty$"
          },
          "metadata": {},
          "execution_count": 6
        }
      ]
    },
    {
      "cell_type": "markdown",
      "source": [
        "######·<font color=\"00dbff\"> **d.**\n",
        "Limite\n",
        "\n",
        "$lim_{z \\to \\infty} \\frac{4z^4-3z+10}{2z^3+14z+9}$\n",
        "\n",
        "**Análisis**\n",
        "El término dominante en el numerador es $z^2$ y en el denominador es $z^3$. Para simplificar, dividimos todo por $z^3$\n",
        "\n",
        "$lim_{z \\to \\infty} \\frac{4z^4-3z+10}{2z^3+14z+9} = \\lim_{z \\to \\infty} \\frac{\\frac{4}{z} - \\frac{3}{z^2} + \\frac{10}{z^3}}{2 + \\frac{14}{z^2}+ \\frac{9}{z^3}}$\n",
        "\n",
        "**Conclusión**\n",
        "\n",
        "Como podemos observar, el numerador tiende a ser 0 cuando z tiende a infinito (numeros muy grandes) y el denominador tiende a ser 2, entonces quedaría $\\frac{0}{2}$\n",
        "\n",
        "**Limite**\n",
        "\n",
        "$0$"
      ],
      "metadata": {
        "id": "SqRr0WkNUzRn"
      }
    },
    {
      "cell_type": "code",
      "source": [
        "# Definir la variable z y la expresión\n",
        "z = sym.symbols('z')\n",
        "expr_d = (4*z**2 - 3*z + 10) / (2*z**3 + 14*z + 9)\n",
        "\n",
        "# Calcular el límite cuando z tiende a infinito\n",
        "limit_d = sym.limit(expr_d, z, sym.oo)\n",
        "limit_d\n"
      ],
      "metadata": {
        "colab": {
          "base_uri": "https://localhost:8080/",
          "height": 37
        },
        "id": "Ndyb0UaMWcUi",
        "outputId": "ecfa67e1-1c39-4f9a-ef47-7c73d03c4faf"
      },
      "execution_count": null,
      "outputs": [
        {
          "output_type": "execute_result",
          "data": {
            "text/plain": [
              "0"
            ],
            "text/latex": "$\\displaystyle 0$"
          },
          "metadata": {},
          "execution_count": 7
        }
      ]
    },
    {
      "cell_type": "markdown",
      "source": [
        "######·<font color=\"00dbff\"> **e.**\n",
        "Limite\n",
        "\n",
        "$lim_{x \\to -\\infty} \\frac{x^5-6x+13}{x^2+18x+25}$\n",
        "\n",
        "**Análisis**\n",
        "\n",
        "El término dominante en el numerador es $x^5$ y en el denominador es $x^2$. Al dividir todo por $x^2$, el límite es:\n",
        "\n",
        "$lim_{x \\to -\\infty} \\frac{x^5-6x+13}{x^2+18x+25} = \\lim_{x \\to -\\infty} \\frac{x^3 - \\frac{6}{x} - \\frac{13}{x^2}}{1 + \\frac{18}{x} - \\frac{25}{x^2}}$\n",
        "\n",
        "**Conclusión**\n",
        "\n",
        "Debido a que el término dominante está en el numerador y es $x^3$. Entonces, cuando x tienda a infinito negativo, el numerador se hace muy negativo y el denominador se hace muy pisitivo, por lo tanto el límite será:\n",
        "\n",
        "$-\\infty$\n",
        "\n"
      ],
      "metadata": {
        "id": "SwJxi-OsWmQz"
      }
    },
    {
      "cell_type": "code",
      "source": [
        "# Definir la expresión para el límite\n",
        "expr_e = (x**5 - 6*x + 13) / (x**2 + 18*x - 25)\n",
        "\n",
        "# Calcular el límite cuando x tiende a menos infinito\n",
        "limit_e = sym.limit(expr_e, x, -sym.oo)\n",
        "limit_e\n"
      ],
      "metadata": {
        "colab": {
          "base_uri": "https://localhost:8080/",
          "height": 37
        },
        "id": "1bzm9vOYYxOx",
        "outputId": "dcc26649-727a-4e9f-be76-5883c0b1c685"
      },
      "execution_count": null,
      "outputs": [
        {
          "output_type": "execute_result",
          "data": {
            "text/plain": [
              "-oo"
            ],
            "text/latex": "$\\displaystyle -\\infty$"
          },
          "metadata": {},
          "execution_count": 8
        }
      ]
    },
    {
      "cell_type": "markdown",
      "source": [
        "######·<font color=\"00dbff\"> **f.**\n",
        "Limite\n",
        "\n",
        "$lim_{x \\to \\infty} \\frac{2\\sqrt{x}+3}{\\sqrt{x+2}}$\n",
        "\n",
        "**Simplificación**\n",
        "Para evaluar el límite a medida que x tiende a infinito, bservemos los términos dominantes. Sabemos que cuando $x$ crece indefinidamente, las raíces cuadradas dominan los términos constantes. Vamos a simplificar el límite dividiendo tanto el numerador como el denominador por $\\sqrt{x}$\n",
        "\n",
        "$=lim_{x \\to \\infty} \\frac{2\\sqrt{x}+3}{\\sqrt{x+2}}= \\lim_{x \\to \\infty} \\frac{2\\sqrt{x}}{\\sqrt{x}} + \\frac{3}{\\sqrt{x}} = \\lim_{x \\to \\infty} \\frac{2}{1} + \\frac{3}{\\sqrt{x}}$\n",
        "\n",
        "**Evaluamos**\n",
        "A medida que x tiende a infinito, $\\frac{3}{\\sqrt{x}}$ tiende a $0$, por lo que el límite se reduce a:\n",
        "$=lim_{x \\to \\infty} {(2+0)}=2$\n",
        "\n",
        "**Límite**\n",
        "$\\lim_{x \\to \\infty} \\frac{2\\sqrt{x} + 3}{\\sqrt{x + 2}} =2$\n"
      ],
      "metadata": {
        "id": "_YjKvFOSZZkB"
      }
    },
    {
      "cell_type": "code",
      "source": [
        "\n",
        "x = sym.symbols('x')\n",
        "expr_f = (2 * sym.sqrt(x) + 3) / sym.sqrt(x + 2)\n",
        "limit_f = sym.limit(expr_f, x, sym.oo)\n",
        "limit_f\n"
      ],
      "metadata": {
        "colab": {
          "base_uri": "https://localhost:8080/",
          "height": 37
        },
        "id": "a8y7MgZwbct9",
        "outputId": "8033911b-43f8-4260-a906-251ca26dc420"
      },
      "execution_count": null,
      "outputs": [
        {
          "output_type": "execute_result",
          "data": {
            "text/plain": [
              "2"
            ],
            "text/latex": "$\\displaystyle 2$"
          },
          "metadata": {},
          "execution_count": 9
        }
      ]
    },
    {
      "cell_type": "markdown",
      "source": [
        "######·<font color=\"00dbff\"> **g.**\n",
        "Limite\n",
        "$\\lim_{v \\to \\infty} \\frac{\\sqrt{2v + 1}}{\\sqrt{v - 2}}$\n",
        "\n",
        "**Simplificación**\n",
        "Vamos a dividir tanto el numerador como el denominador dentro de la raíz por $ν$, que es el término de mayor grado:\n",
        "\n",
        "$\\lim_{v \\to \\infty} \\frac{\\sqrt{2v + 1}}{\\sqrt{v - 2}} = \\lim_{v \\to \\infty} \\frac{\\sqrt{2 + \\frac{1}{v}}}{\\sqrt{1 - \\frac{2}{v}}}$\n",
        "\n",
        "**Evaluación**\n",
        "\n",
        "A medida que $v$ tiende a infinito, tranto $\\frac {1}{v}$ como $\\frac {2}{v}$ tienden a $0$, por lo que el limite se simplifica a:\n",
        "\n",
        "$= \\frac{\\sqrt{2 + 0}}{\\sqrt{1 - 0}} = {\\sqrt{2}}$\n",
        "\n",
        "**Límite**\n",
        "\n",
        "$\\sqrt{2}$\n"
      ],
      "metadata": {
        "id": "RpRv43Ujbqvr"
      }
    },
    {
      "cell_type": "code",
      "source": [
        "v = sym.symbols('v')\n",
        "expr_g = sym.sqrt(2*v + 1) / sym.sqrt(v - 2)\n",
        "limit_g = sym.limit(expr_g, v, sym.oo)\n",
        "limit_g\n"
      ],
      "metadata": {
        "colab": {
          "base_uri": "https://localhost:8080/",
          "height": 39
        },
        "id": "92J4rXkBdu43",
        "outputId": "610e672a-3359-418a-f946-7aa99a17aa6f"
      },
      "execution_count": null,
      "outputs": [
        {
          "output_type": "execute_result",
          "data": {
            "text/plain": [
              "sqrt(2)"
            ],
            "text/latex": "$\\displaystyle \\sqrt{2}$"
          },
          "metadata": {},
          "execution_count": 12
        }
      ]
    },
    {
      "cell_type": "markdown",
      "source": [
        "######·<font color=\"00dbff\"> **h.**\n",
        "Limite\n",
        "$\\lim_{t \\to \\infty} \\frac{\\sqrt{t+ 1}}{t + 3}$\n",
        "\n",
        "**Simplificación**\n",
        "\n",
        "Dividimos entre el denominador con mayor potencia (t):\n",
        "$\\lim_{t \\to \\infty} \\frac{\\frac{t+ 1}{t}}{1 + \\frac{3}{t}}$\n",
        "\n",
        "**Aplicamos leyes de límite**\n",
        "\n",
        "\n",
        "*   $\\lim_{t \\to \\infty} \\frac{\\sqrt{t+1}}{t}$ = 0\n",
        "\n",
        "*   $\\lim_{t \\to \\infty} ({1}+{\\frac{3}{t}})$ = 0\n",
        "\n",
        "= $ \\frac {0}{1}$\n",
        "\n",
        "**Límite**\n",
        "\n",
        "$0$\n",
        "\n"
      ],
      "metadata": {
        "id": "V77EbTAFeIoh"
      }
    },
    {
      "cell_type": "code",
      "source": [
        "t = sym.symbols('t')\n",
        "expr_h = sym.sqrt(t + 1) / (t + 3)\n",
        "limit_h = sym.limit(expr_h, t, sym.oo)\n",
        "limit_h\n"
      ],
      "metadata": {
        "colab": {
          "base_uri": "https://localhost:8080/",
          "height": 37
        },
        "id": "p_tzJieUj4fS",
        "outputId": "41d65bfe-b841-4aaa-a765-4f15f4ccdafe"
      },
      "execution_count": null,
      "outputs": [
        {
          "output_type": "execute_result",
          "data": {
            "text/plain": [
              "0"
            ],
            "text/latex": "$\\displaystyle 0$"
          },
          "metadata": {},
          "execution_count": 13
        }
      ]
    },
    {
      "cell_type": "markdown",
      "source": [
        "######·<font color=\"00dbff\"> **i.**\n",
        "Limite\n",
        "$\\lim_{x \\to \\infty} \\frac{3x+ 1}{\\sqrt{4x^2 + 5}}$\n",
        "\n",
        "**Simplificación**\n",
        "\n",
        "Dividimos entre el denominador con mayor potencia (x)\n",
        "\n",
        "$\\lim_{x \\to \\infty} \\frac{3 + \\frac{1}{x}}{\\sqrt{{4 + \\frac{5}{x^2}}}}$\n",
        "\n",
        "**Evaluación**\n",
        "\n",
        "A medida que x tiende a infinito, tanto $\\frac{1}{x}$ como $\\frac{5}{x^2}$ tienden a 0, por lo que el límite se simplifica a:\n",
        "\n",
        "$\\frac{3}{\\sqrt{4}}$ = $\\frac {3}{2}$\n",
        "\n",
        "**Limite**\n",
        "\n",
        "$\\lim_{x \\to \\infty} \\frac{3x+ 1}{\\sqrt{4x^2 + 5}}$ = $\\frac {3}{2}$\n",
        "\n",
        "\n"
      ],
      "metadata": {
        "id": "5mN4rPxEj9h8"
      }
    },
    {
      "cell_type": "code",
      "source": [
        "expr_i = (3*x + 1) / sym.sqrt(4*x**2 + 5)\n",
        "limit_i = sym.limit(expr_i, x, sym.oo)\n",
        "limit_i\n"
      ],
      "metadata": {
        "colab": {
          "base_uri": "https://localhost:8080/",
          "height": 51
        },
        "id": "GmR4aLSproBi",
        "outputId": "e16ec5dc-677b-4f05-f370-8799ab2cbb94"
      },
      "execution_count": null,
      "outputs": [
        {
          "output_type": "execute_result",
          "data": {
            "text/plain": [
              "3/2"
            ],
            "text/latex": "$\\displaystyle \\frac{3}{2}$"
          },
          "metadata": {},
          "execution_count": 14
        }
      ]
    },
    {
      "cell_type": "markdown",
      "source": [
        "######·<font color=\"00dbff\"> **j.**\n",
        "Limite\n",
        "$\\lim_{x \\to -\\infty} \\frac{3x+ 1}{\\sqrt{4x^2 + 5}}$\n",
        "\n",
        "**Simplificación**\n",
        "\n",
        "Como en el ejercicio (i), vamos a dividir tanto el numerador como el denominador por |x|, ya que |x| se usa cuando x tiende a menos infinito.\n",
        "\n",
        "$\\lim_{x \\to -\\infty} \\frac{3x+ 1}{\\sqrt{4x^2 + 5}}$ = $\\lim_{x \\to \\infty} \\frac{3 + \\frac{1}{x}}{\\sqrt{{4 + \\frac{5}{x^2}}}}$\n",
        "\n",
        "\n",
        "**Evaluación**\n",
        "\n",
        "A medida que x tiende a menos infinito, tanto $\\frac{1}{x}$ como $\\frac{5}{x^2}$ tienden a 0, por lo que el límite se simplifica a:\n",
        "\n",
        "$\\frac{3}{\\sqrt{4}}$ = $\\frac{3}{2}$\n",
        "\n",
        "**Sin embargo,**cuando x tiende a menos infinito, el signo del numerador cambia porque $3x$ es negativo. Por lo tanto, el límite es:\n",
        "\n",
        "$\\lim_{x \\to -\\infty} \\frac{3x+ 1}{\\sqrt{4x^2 + 5}}$ = $-\\frac{3}{2}$\n",
        "\n"
      ],
      "metadata": {
        "id": "z608kdN6rnS2"
      }
    },
    {
      "cell_type": "code",
      "source": [
        "\n",
        "\n",
        "# Definir la variable x\n",
        "x = sym.symbols('x')\n",
        "\n",
        "# Definir la expresión\n",
        "expr_j = (3*x + 1) / sym.sqrt(4*x**2 + 5)\n",
        "\n",
        "# Calcular el límite cuando x tiende a menos infinito\n",
        "limit_j = sym.limit(expr_j, x, -sym.oo)\n",
        "limit_j\n"
      ],
      "metadata": {
        "colab": {
          "base_uri": "https://localhost:8080/",
          "height": 51
        },
        "id": "xrZQUZeK290R",
        "outputId": "27387bf3-26d1-4c03-d65a-7ad3add51860"
      },
      "execution_count": null,
      "outputs": [
        {
          "output_type": "execute_result",
          "data": {
            "text/plain": [
              "-3/2"
            ],
            "text/latex": "$\\displaystyle - \\frac{3}{2}$"
          },
          "metadata": {},
          "execution_count": 15
        }
      ]
    },
    {
      "cell_type": "markdown",
      "source": [
        "#####<font color=\"47c7dc\"> **8.** </font> Evaluamos:\n",
        "\n",
        "$f(x)\\frac{2x}{x-4}$"
      ],
      "metadata": {
        "id": "h3iQBV_r3H15"
      }
    },
    {
      "cell_type": "markdown",
      "source": [
        "######·<font color=\"00dbff\"> **a.**\n",
        "**Limite cuando** ${x \\to 4^-} $\n",
        "\n",
        "$lim_{x \\to 4^-} f(x)=lim_{x \\to 4^-} \\frac{2x}{x-4}$ = $-\\infty$\n",
        "\n",
        "El valor de $f(x)$ decrece sin limite conforme nos acercamos a 4 desde la izquierda.\n",
        "\n"
      ],
      "metadata": {
        "id": "pR19zB9U4H44"
      }
    },
    {
      "cell_type": "code",
      "source": [
        "\n",
        "# Definir la variable y la función\n",
        "x = sym.symbols('x')\n",
        "f = 2*x / (x - 4)\n",
        "\n",
        "# Calcular el límite cuando x tiende a 4 desde la izquierda\n",
        "lim_4_negativo = sym.limit(f, x, 4, dir='-')\n",
        "\n",
        "# Mostrar el resultado\n",
        "lim_4_negativo\n"
      ],
      "metadata": {
        "colab": {
          "base_uri": "https://localhost:8080/",
          "height": 37
        },
        "id": "JgISo9Au6oqn",
        "outputId": "d34b9e60-257c-4082-bb25-9557582b638f"
      },
      "execution_count": null,
      "outputs": [
        {
          "output_type": "execute_result",
          "data": {
            "text/plain": [
              "-oo"
            ],
            "text/latex": "$\\displaystyle -\\infty$"
          },
          "metadata": {},
          "execution_count": 58
        }
      ]
    },
    {
      "cell_type": "markdown",
      "source": [
        "######·<font color=\"00dbff\"> **b.**\n",
        "**Limite cuando** ${x \\to 4^+} $\n",
        "\n",
        "Cuando nos acercamos a $x=4$ desde la derecha, el denominador sigue tendiendo a 0, pero ahora positivo.\n",
        "$lim_{x \\to 4^+} f(x)=lim_{x \\to 4^+} \\frac{2x}{x-4}$ = $\\infty$\n",
        "\n",
        "El valor de $f(x)$ aumenta sin límite conforme x se acerca a 4 desde la derecha. Por lo tanto, **el límite tiende a infinito**\n",
        "\n"
      ],
      "metadata": {
        "id": "WEOcsgbw5BZD"
      }
    },
    {
      "cell_type": "code",
      "source": [
        "\n",
        "# Definir la variable y la función\n",
        "x = sym.symbols('x')\n",
        "f = 2*x / (x - 4)\n",
        "\n",
        "# Calcular el límite cuando x tiende a 4 desde la derecha\n",
        "lim_4_positivo = sym.limit(f, x, 4, dir='+')\n",
        "\n",
        "# Mostrar el resultado\n",
        "lim_4_positivo\n"
      ],
      "metadata": {
        "colab": {
          "base_uri": "https://localhost:8080/",
          "height": 37
        },
        "id": "XsuHMiZ56uZ5",
        "outputId": "06a4a84d-ed33-4b19-b314-e82e3d784ae5"
      },
      "execution_count": null,
      "outputs": [
        {
          "output_type": "execute_result",
          "data": {
            "text/plain": [
              "oo"
            ],
            "text/latex": "$\\displaystyle \\infty$"
          },
          "metadata": {},
          "execution_count": 20
        }
      ]
    },
    {
      "cell_type": "markdown",
      "source": [
        "######·<font color=\"00dbff\"> **c.**\n",
        "**Limite cuando** ${x \\to -\\infty} $\n",
        "\n",
        "Cuando x tiende a infinito negativo, el numerador y el denominador están dominados por $x$.:\n",
        "\n",
        "$lim_{x \\to -\\infty} f(x)=lim_{x \\to -\\infty} \\frac{2x}{x-4}$ = $\\frac{2x}{x}$\n",
        "\n",
        "Por lo tanto, **conforme x tiende a menos infinito, la función tiende a 2**\n",
        "\n"
      ],
      "metadata": {
        "id": "d2-yGjKF5X4m"
      }
    },
    {
      "cell_type": "code",
      "source": [
        "\n",
        "# Definir la variable y la función\n",
        "x = sym.symbols('x')\n",
        "f = 2*x / (x - 4)\n",
        "\n",
        "# Calcular el límite cuando x tiende a -infinito\n",
        "lim_menos_infinito = sym.limit(f, x, -sym.oo)\n",
        "\n",
        "# Mostrar el resultado\n",
        "lim_menos_infinito\n"
      ],
      "metadata": {
        "colab": {
          "base_uri": "https://localhost:8080/",
          "height": 37
        },
        "id": "ROHLpP9K6-ZR",
        "outputId": "409ee9cc-8d32-4a49-9cbe-8e7af61b084b"
      },
      "execution_count": null,
      "outputs": [
        {
          "output_type": "execute_result",
          "data": {
            "text/plain": [
              "2"
            ],
            "text/latex": "$\\displaystyle 2$"
          },
          "metadata": {},
          "execution_count": 23
        }
      ]
    },
    {
      "cell_type": "markdown",
      "source": [],
      "metadata": {
        "id": "Vjm_jqOa6Ioe"
      }
    },
    {
      "cell_type": "markdown",
      "source": [
        "######·<font color=\"00dbff\"> **d.**\n",
        "**Limite cuando** ${x \\to \\infty} $\n",
        "\n",
        "Cuando x tiende a infinito, el numerador y el denominador están dominados por $x$.:\n",
        "\n",
        "$lim_{x \\to \\infty} f(x)=lim_{x \\to \\infty} \\frac{2x}{x-4}$ = $\\frac{2x}{x}$ = $2$\n",
        "\n",
        "Por lo tanto, **conforme x tiende a Infinito, la función tiende a 2.**\n",
        "\n"
      ],
      "metadata": {
        "id": "v8rLaEB76I3G"
      }
    },
    {
      "cell_type": "code",
      "source": [
        "\n",
        "# Definir la variable y la función\n",
        "x = sym.symbols('x')\n",
        "f = 2*x / (x - 4)\n",
        "\n",
        "# Calcular el límite cuando x tiende a infinito\n",
        "lim_infinito = sym.limit(f, x, sym.oo)\n",
        "\n",
        "# Mostrar el resultado\n",
        "lim_infinito\n"
      ],
      "metadata": {
        "colab": {
          "base_uri": "https://localhost:8080/",
          "height": 37
        },
        "id": "_Pag8JiD7Kaa",
        "outputId": "a40eba6a-b56d-49fd-9812-e491f7ad24b2"
      },
      "execution_count": null,
      "outputs": [
        {
          "output_type": "execute_result",
          "data": {
            "text/plain": [
              "2"
            ],
            "text/latex": "$\\displaystyle 2$"
          },
          "metadata": {},
          "execution_count": 24
        }
      ]
    },
    {
      "cell_type": "markdown",
      "source": [
        "######·<font color=\"00dbff\"> **e.**\n",
        "**Gráficar**"
      ],
      "metadata": {
        "id": "IGGStbLZ7_vk"
      }
    },
    {
      "cell_type": "code",
      "source": [
        "\n",
        "# Definir la variable y la función\n",
        "x = sym.symbols('x')\n",
        "f = 2*x / (x - 4)\n",
        "\n",
        "# Convertir la función simbólica a una función numérica para la gráfica\n",
        "f_lambdified = sym.lambdify(x, f, modules='numpy')\n",
        "\n",
        "# Rango de valores para x, excluyendo un intervalo pequeño alrededor de x = 4\n",
        "x_vals = np.linspace(-10, 10, 400)\n",
        "x_vals = np.where(np.abs(x_vals - 4) < 0.01, np.nan, x_vals)  # Evitar dividir por cero en x = 4\n",
        "y_vals = f_lambdified(x_vals)\n",
        "\n",
        "# Graficar la función\n",
        "plt.plot(x_vals, y_vals, label=r'$f(x) = \\frac{2x}{x-4}$')\n",
        "\n",
        "# Asíntotas\n",
        "plt.axhline(y=2, color='r', linestyle='--', label='Asíntota Horizontal: y = 2')\n",
        "plt.axvline(x=4, color='g', linestyle='--', label='Asíntota Vertical: x = 4')\n",
        "\n",
        "# Configurar los límites y esstilo\n",
        "plt.xlim(-10, 10)\n",
        "plt.ylim(-10, 10)\n",
        "plt.xlabel('x')\n",
        "plt.ylabel('f(x)')\n",
        "plt.title('Gráfica de f(x) = 2x / (x - 4)')\n",
        "plt.legend()\n",
        "plt.grid(True)\n",
        "plt.show()\n"
      ],
      "metadata": {
        "colab": {
          "base_uri": "https://localhost:8080/",
          "height": 472
        },
        "id": "JLqc1zg67UUs",
        "outputId": "40f691ba-4725-40ec-82c8-f3f98e35c79b"
      },
      "execution_count": null,
      "outputs": [
        {
          "output_type": "display_data",
          "data": {
            "text/plain": [
              "<Figure size 640x480 with 1 Axes>"
            ],
            "image/png": "[encoded data removed]"
          },
          "metadata": {}
        }
      ]
    },
    {
      "cell_type": "markdown",
      "source": [
        "#####<font color=\"47c7dc\"> **9.** </font> Discute:\n",
        "$\\lim_{x \\to \\frac{\\Pi^-}{2}} tan(X)$       \n",
        "$\\lim_{x \\to \\frac{\\Pi^+}{2}} tan(X)$       \n",
        "$\\lim_{x \\to \\frac{\\Pi}{2}} tan(X)$"
      ],
      "metadata": {
        "id": "5QlLE86qLwuu"
      }
    },
    {
      "cell_type": "markdown",
      "source": [
        "> *Respuesta :*\n",
        "\n",
        "> La función trigonométrica $tan(x)$ se define como el cociente entre $sen(x)$ y $cos(x)$:\n",
        "\n",
        "$$tan(x)=\\frac{sen(x)}{cos(x)}$$\n",
        "\n",
        "\n",
        "> Por lo tanto, cuando $x\\to \\frac{\\pi}{2}$, entonces $sen(x)\\to 1$   y\n",
        "   $cos(x)\\to 0$\n",
        "\n",
        ">Eso nos daría que:\n",
        "\n",
        "$$\\lim_{x \\to \\frac{\\Pi}{2}^-} tan(x) = \\frac{\\lim_{x \\to \\frac{\\Pi}{2}^-} sen(x)}{\\lim_{x \\to \\frac{\\Pi}{2}^-} cos(x)} = \\frac{1}{0} = \\infty$$\n",
        "\n",
        "\n",
        "$$\\lim_{x \\to \\frac{\\Pi}{2}^+} tan(x) = \\frac{\\lim_{x \\to \\frac{\\Pi}{2}^+} sen(x)}{\\lim_{x \\to \\frac{\\Pi}{2}^+} cos(x)} = -\\frac{1}{0} = -\\infty$$\n",
        "\n",
        "\n",
        "$$\\therefore \\lim_{x \\to \\frac{\\Pi}{2}^-} tan(x) \\neq \\lim_{x \\to \\frac{\\Pi}{2}^+} tan(x)$$\n",
        "\n",
        ">> *Conclusiones:*\n",
        ">> * Cuando $x\\to \\frac{\\pi}{2}^-$, el denominador $cos(x)$ se hace cada vez más pequeño, es por esto que la función $tan(x)$ tiende al infinito positivo.\n",
        "* Cuando $x\\to \\frac{\\pi}{2}^+$, el denominador $cos(x)$ se hace cada vez más pequeño, pero con signo negativo, es por esto que la función $tan(x)$ tiende al infinito negativo.\n",
        ">> Como los límites laterales son distintos, se concluye que el $\\lim_{x \\to \\frac{\\Pi}{2}} tan(x)$ no existe"
      ],
      "metadata": {
        "id": "pU8a-uvsO68N"
      }
    },
    {
      "cell_type": "code",
      "source": [
        "x = np.linspace(-np.pi, np.pi, 1000)\n",
        "y = [np.tan(x) for x in x]\n",
        "plt.plot(x, y,'.', label='tan(x)')\n",
        "plt.axvline((np.pi)/2, color='red', label = '$\\pi/2$')\n",
        "plt.grid(color='gray')\n",
        "plt.axvline(0,color='black')\n",
        "plt.axhline(0,color='black')\n",
        "plt.title(\"Función tangente\")\n",
        "plt.xlabel(\"Eje x\")\n",
        "plt.ylabel(\"Eje y\")\n",
        "plt.xlim(0,np.pi)\n",
        "plt.ylim(-20,20)\n",
        "plt.legend()\n",
        "plt.show()"
      ],
      "metadata": {
        "colab": {
          "base_uri": "https://localhost:8080/",
          "height": 472
        },
        "id": "RJrsdcfCM2oN",
        "outputId": "1aed3d34-9c4b-477e-c108-0b20b1fd7cc8"
      },
      "execution_count": null,
      "outputs": [
        {
          "output_type": "display_data",
          "data": {
            "text/plain": [
              "<Figure size 640x480 with 1 Axes>"
            ],
            "image/png": "[encoded data removed]"
          },
          "metadata": {}
        }
      ]
    },
    {
      "cell_type": "markdown",
      "source": [
        "#####<font color=\"47c7dc\"> **10.** </font> Discute:\n",
        "¿$\\lim_{x \\to \\infty} sen(\\pi x) $ y $\\lim_{n \\to \\infty} sen(\\pi n)$ denotan lo mismo?"
      ],
      "metadata": {
        "id": "BAd9M1_KWYl1"
      }
    },
    {
      "cell_type": "markdown",
      "source": [
        "> *Respuesta :*\n",
        "\n",
        "> No denotan lo mismo. Mientras la función $sen(\\pi x)$ está definida para todos los reales y corresponde a la oscilación entre $-1$ y $1$; la función $sen(\\pi n)$ está definida para los números enteros y corresponde a los puntos en los cuales $sen(\\pi x) = 0$\n",
        "\n",
        "> Por lo tanto, cuando evaluamos los límites:\n",
        "\n",
        ">* $\\lim_{x \\to \\infty} sen(\\pi x)$ El límite no está definido para esta función por su naturaleza oscilatoria, lo que quiere decir que cuando $x\\to \\infty$, la función $sen(\\pi x)$ no tiende a un valor específico.\n",
        "\n",
        ">* $\\lim_{x \\to \\infty} sen(\\pi n)=0$ Porque para cualquier valor entero $n$ el resultado de la función $sen(\\pi n)$ es $0$.\n",
        "\n",
        ">>*Conclusión*\n",
        "\n",
        ">> * Los límites no son iguales."
      ],
      "metadata": {
        "id": "slcFv9zIWmAw"
      }
    },
    {
      "cell_type": "code",
      "source": [
        "x = np.linspace(-np.pi, np.pi, 1000)\n",
        "n = np.arange(0,4)\n",
        "\n",
        "y = [np.sin(np.pi*x) for x in x]\n",
        "z = [np.sin(np.pi*n) for n in n]\n",
        "\n",
        "plt.axvline(0, color='black')\n",
        "plt.plot(x, y,'-', label='sen($\\pi x$)')\n",
        "plt.plot(n, z,'o', label='sen($\\pi n$)')\n",
        "plt.title(\"Función seno\")\n",
        "plt.xlabel(\"Eje x\")\n",
        "plt.ylabel(\"Eje y\")\n",
        "plt.xlim(0,np.pi)\n",
        "plt.ylim(-1.1,1.1)\n",
        "plt.axvline(0, color='black')\n",
        "plt.axhline(0, color='black')\n",
        "plt.legend()\n",
        "plt.grid(color='gray')"
      ],
      "metadata": {
        "colab": {
          "base_uri": "https://localhost:8080/",
          "height": 472
        },
        "id": "u0Jcs_kmXM8o",
        "outputId": "ad64dc77-2bf6-4cf4-ff98-442dd53100e9"
      },
      "execution_count": null,
      "outputs": [
        {
          "output_type": "display_data",
          "data": {
            "text/plain": [
              "<Figure size 640x480 with 1 Axes>"
            ],
            "image/png": "[encoded data removed]"
          },
          "metadata": {}
        }
      ]
    },
    {
      "cell_type": "markdown",
      "source": [
        "#####<font color=\"47c7dc\"> **11.** </font> Explica por qué:\n",
        "$-\\frac{1}{x}\\le\\frac{sen(x)}{x}\\le\\frac{1}{x}$ para $x\\gt 0$"
      ],
      "metadata": {
        "id": "2AtwRM-bUAAU"
      }
    },
    {
      "cell_type": "markdown",
      "source": [
        "> La desigualdad se cumple porque la función $sin(n)$ está acotada entre -1 y 1, lo que al dividir por $x$ se generan los límites $-\\frac{1}{x} \\leq \\frac{\\sin(x)}{x} \\leq \\frac{1}{x} $. Además, para valores pequeños de $ x $, $sin(x) $ se aproxima a $x$, lo que explica que $\\frac{\\sin(x)}{x} $ se acerque a 1, manteniéndose dentro de los límites establecidos.\n",
        "\n",
        "> Además, se cumple para solo $x\\gt 0$ porque:\n",
        "> * Si $x=0  \\to   -\\infty\\le Indefindo\\le\\infty$                \n",
        " **No se puede**\n",
        "> * Si $x\\lt 0   \\to   \\frac{1}{x}\\le-\\frac{sen(x)}{x}\\le-\\frac{1}{x}$  \n",
        "   **Falso**"
      ],
      "metadata": {
        "id": "s1a-GiUNVNjR"
      }
    },
    {
      "cell_type": "markdown",
      "source": [
        "Encuentra: $\\lim_{x\\to\\infty}\\frac{sen(x)}{x}$\n",
        "> Teniendo en cuenta que la función $\\frac{sen(x)}{x}$ está acotada entre $\\frac{-1}{x}$ y $\\frac{1}{x}$, hallando los límites de estas acotaciones encontraremos el límite de la función.\n",
        "\n",
        "$$\\lim_{x\\to\\infty}-\\frac{1}{x} = 0$$\n",
        "\n",
        "$$\\lim_{x\\to\\infty}\\frac{1}{x} = 0$$\n",
        "\n",
        "$$\\therefore \\lim_{x\\to\\infty}\\frac{sen(x)}{x} = 0$$"
      ],
      "metadata": {
        "id": "P5frVN4NXwl9"
      }
    },
    {
      "cell_type": "code",
      "source": [
        "x = np.linspace(1, 40, 10000)\n",
        "f = [np.sin(x)/x for x in x]\n",
        "g = [-1/x for x in x]\n",
        "h = [1/x for x in x]\n",
        "\n",
        "plt.plot(x, f, label='$sen(x)/x$')\n",
        "plt.plot(x, g, label='$-1/x$')\n",
        "plt.plot(x, h, label='$1/x$')\n",
        "plt.title(\"Función seno\")\n",
        "plt.xlabel(\"Eje x\")\n",
        "plt.ylabel(\"Eje y\")\n",
        "plt.xlim(0,40)\n",
        "plt.ylim(-1.1,1.1)\n",
        "plt.axvline(0, color='black')\n",
        "plt.axhline(0, color='black')\n",
        "plt.legend()\n",
        "plt.grid(color='gray')"
      ],
      "metadata": {
        "colab": {
          "base_uri": "https://localhost:8080/",
          "height": 472
        },
        "id": "vy6l6V1-ZCfk",
        "outputId": "52866da8-f50f-4241-c622-705f3835b7d9"
      },
      "execution_count": null,
      "outputs": [
        {
          "output_type": "display_data",
          "data": {
            "text/plain": [
              "<Figure size 640x480 with 1 Axes>"
            ],
            "image/png": "[encoded data removed]"
          },
          "metadata": {}
        }
      ]
    },
    {
      "cell_type": "markdown",
      "source": [
        "##### <font color=\"14a6bd\"> **2.4.** </font> **Funciones continuas**"
      ],
      "metadata": {
        "id": "SXO0X6PzJl4A"
      }
    },
    {
      "cell_type": "markdown",
      "source": [
        "#####<font color=\"47c7dc\"> **1.** </font> Determina la continuidad para cada función en el punto dado:"
      ],
      "metadata": {
        "id": "sNqfEMnh-Fhn"
      }
    },
    {
      "cell_type": "markdown",
      "source": [
        "###### <font color=\"47c7dc\"> **a.** </font>\n",
        "$f(t)=3t^2-6$ cuando $t=2$"
      ],
      "metadata": {
        "id": "NJBlOMAXb8Wi"
      }
    },
    {
      "cell_type": "markdown",
      "source": [
        "> $f(2)=3(2^2)-6$\n",
        "\n",
        "> $f(2)=6$\n",
        "\n",
        "> $\\lim_{t\\to2} 3t^2-6 = 6$\n",
        "\n",
        "> $\\therefore$ La función es continua en $t = 2$"
      ],
      "metadata": {
        "id": "XtArSkeqc6hS"
      }
    },
    {
      "cell_type": "code",
      "source": [
        "x = np.linspace(-8,8,100)\n",
        "y = [3*x**2-6 for x in x]\n",
        "plt.plot(x, y, label='$3t^2-6$')\n",
        "plt.plot(2,6,'o', label = '$t=2$')\n",
        "plt.title(\"Función $3t^2-6$\")\n",
        "plt.xlabel(\"Eje x\")\n",
        "plt.ylabel(\"Eje y\")\n",
        "plt.xlim(-8,8)\n",
        "plt.ylim(-8,8)\n",
        "plt.axvline(0, color='black')\n",
        "plt.axhline(0, color='black')\n",
        "plt.grid(color='gray')\n",
        "plt.legend()"
      ],
      "metadata": {
        "colab": {
          "base_uri": "https://localhost:8080/",
          "height": 493
        },
        "id": "YdTTLg99d1Vd",
        "outputId": "a27e547d-c4d2-478a-face-97ae0a70d5b4"
      },
      "execution_count": null,
      "outputs": [
        {
          "output_type": "execute_result",
          "data": {
            "text/plain": [
              "<matplotlib.legend.Legend at 0x7c4c0b6ee800>"
            ]
          },
          "metadata": {},
          "execution_count": 32
        },
        {
          "output_type": "display_data",
          "data": {
            "text/plain": [
              "<Figure size 640x480 with 1 Axes>"
            ],
            "image/png": "[encoded data removed]"
          },
          "metadata": {}
        }
      ]
    },
    {
      "cell_type": "markdown",
      "source": [
        "###### <font color=\"47c7dc\"> **b.** </font>\n",
        "$f(x)=\\frac{2x+5}{x-16}$ cuando $x=17$"
      ],
      "metadata": {
        "id": "sa3afGwje02k"
      }
    },
    {
      "cell_type": "markdown",
      "source": [
        "> $f(17)=\\frac{2(17)+5}{(17)-16}$\n",
        "\n",
        "> $f(2)=39$\n",
        "\n",
        "> $\\lim_{x\\to17} \\frac{2x+5}{x-16} = 39$\n",
        "\n",
        "> $\\therefore$ La función es continua en $x = 17$"
      ],
      "metadata": {
        "id": "9xUW50SxfJTf"
      }
    },
    {
      "cell_type": "code",
      "source": [
        "x=np.linspace(-10,25,1000)\n",
        "y=[(2*x+5)/(x-16) for x in x]\n",
        "\n",
        "plt.plot(x,y,'.')\n",
        "plt.plot(17,39,'o',label='$x=17$')\n",
        "plt.grid(color='gray')\n",
        "plt.axvline(0, color='black')\n",
        "plt.axhline(0, color='black')\n",
        "plt.axvline(16, color='yellow',label='$x=16$')\n",
        "plt.xlim(-10,25)\n",
        "plt.ylim(-50,50)\n",
        "plt.title(\"Función 2x+5/x-16\")\n",
        "plt.xlabel(\"Eje x\")\n",
        "plt.ylabel(\"Eje y\")\n",
        "plt.legend()"
      ],
      "metadata": {
        "colab": {
          "base_uri": "https://localhost:8080/",
          "height": 491
        },
        "id": "poyngovVfi9-",
        "outputId": "56ce78ed-10bf-4268-9ead-b28a276bbd56"
      },
      "execution_count": null,
      "outputs": [
        {
          "output_type": "execute_result",
          "data": {
            "text/plain": [
              "<matplotlib.legend.Legend at 0x7c4c0b523b50>"
            ]
          },
          "metadata": {},
          "execution_count": 33
        },
        {
          "output_type": "display_data",
          "data": {
            "text/plain": [
              "<Figure size 640x480 with 1 Axes>"
            ],
            "image/png": "[encoded data removed]"
          },
          "metadata": {}
        }
      ]
    },
    {
      "cell_type": "markdown",
      "source": [
        "###### <font color=\"47c7dc\"> **c.** </font>\n",
        "$f(x)=\\frac{2x+5}{x-16}$ cuando $x=16$"
      ],
      "metadata": {
        "id": "m8GVUvCog1AG"
      }
    },
    {
      "cell_type": "markdown",
      "source": [
        "> $f(16)=\\frac{2(16)+5}{(16)-16}$\n",
        "\n",
        "> $f(16)=$ *INDEFINIDO*\n",
        "\n",
        "> $\\lim_{x\\to16} \\frac{2x+5}{x-16} = \\infty$\n",
        "\n",
        "> $\\therefore$ La función no es continua en $x = 16$"
      ],
      "metadata": {
        "id": "XXvnNpq4g2uv"
      }
    },
    {
      "cell_type": "markdown",
      "source": [
        "###### <font color=\"47c7dc\"> **d.** </font>\n",
        "$f(x)=\\frac{s^2-1}{s+1}$ cuando $s=1$"
      ],
      "metadata": {
        "id": "4R3we6WQhkyg"
      }
    },
    {
      "cell_type": "markdown",
      "source": [
        "> $f(1)=\\frac{(1)^2-1}{(1)+1}$\n",
        "\n",
        "> $f(1)= 0$\n",
        "\n",
        "> $\\lim_{s\\to1} \\frac{s^2-1}{s+1} = 0$\n",
        "\n",
        "> $\\therefore$ La función es continua en $s = 1$"
      ],
      "metadata": {
        "id": "0R1p1Gamhl7V"
      }
    },
    {
      "cell_type": "code",
      "source": [
        "x=np.linspace(-10,10,10000)\n",
        "y=[((x**2)-1)/(x+1) for x in x]\n",
        "\n",
        "plt.plot(x,y,'.')\n",
        "plt.plot(1,0,'o',label='$s=1$')\n",
        "plt.grid(color='gray')\n",
        "plt.axvline(0, color='black')\n",
        "plt.axhline(0, color='black')\n",
        "plt.xlim(-10,10)\n",
        "plt.ylim(-10,10)\n",
        "plt.title(\"Función s^2-1/s+1\")\n",
        "plt.xlabel(\"Eje x\")\n",
        "plt.ylabel(\"Eje y\")\n",
        "plt.legend()"
      ],
      "metadata": {
        "colab": {
          "base_uri": "https://localhost:8080/",
          "height": 491
        },
        "id": "4QO28qPiiUng",
        "outputId": "245be498-4688-4017-952f-e29be9f457ba"
      },
      "execution_count": null,
      "outputs": [
        {
          "output_type": "execute_result",
          "data": {
            "text/plain": [
              "<matplotlib.legend.Legend at 0x7c4c0b7881f0>"
            ]
          },
          "metadata": {},
          "execution_count": 34
        },
        {
          "output_type": "display_data",
          "data": {
            "text/plain": [
              "<Figure size 640x480 with 1 Axes>"
            ],
            "image/png": "[encoded data removed]"
          },
          "metadata": {}
        }
      ]
    },
    {
      "cell_type": "markdown",
      "source": [
        "###### <font color=\"47c7dc\"> **e.** </font>\n",
        "$f(x)=\\frac{s^2-1}{s+1}$ cuando $s=-1$"
      ],
      "metadata": {
        "id": "PcvYtqAAjjee"
      }
    },
    {
      "cell_type": "markdown",
      "source": [
        "> $f(x) = \\frac{(s+1)(s-1)}{s+1} = s-1$\n",
        "\n",
        "> $f(-1)=\\frac{(1)^2-1}{(-1)+1}$\n",
        "\n",
        "> $f(1)=$ *INDEFINIDO*\n",
        "\n",
        "> $\\lim_{s\\to-1} (s-1) = -2$\n",
        "\n",
        "> $\\therefore$ La función no es continua en $s = -1$"
      ],
      "metadata": {
        "id": "pforKLh1jpmt"
      }
    },
    {
      "cell_type": "markdown",
      "source": [
        "#####<font color=\"47c7dc\"> **2.** </font> Discute la continuidad de la función:\n",
        "$g(t)= \\left\\{ \\begin{array}{lcc} 4t-1 & si & t \\leq 2 \\\\ \\\\ t+5 & si & t\\gt 2 \\end{array} \\right.$\n",
        "para $t=2$"
      ],
      "metadata": {
        "id": "SaiwKrBP-sYc"
      }
    },
    {
      "cell_type": "markdown",
      "source": [
        "> $g(2) = 4(2)-1$\n",
        "\n",
        "> $g(2) = 7$\n",
        "\n",
        "> $\\lim_{t\\to2^-} (4t-1) = 7$\n",
        "\n",
        "> $\\lim_{t\\to2^+} (t+5) = 7$\n",
        "\n",
        "> $\\therefore$ La función es continua en $s = 2$"
      ],
      "metadata": {
        "id": "LcyCb9u7l7uj"
      }
    },
    {
      "cell_type": "code",
      "source": [
        "x_1=np.linspace(-10,2,1000)\n",
        "x_2=np.linspace(2.1,10,1000)\n",
        "y=[4*x_1-1 for x_1 in x_1]\n",
        "z=[x_2+5 for x_2 in x_2]\n",
        "\n",
        "plt.plot(x_1,y,label='$4t-1$')\n",
        "plt.plot(x_2,z,label='$t+5$')\n",
        "plt.plot(2,7,'o',label='$t=2$')\n",
        "plt.grid(color='gray')\n",
        "plt.axvline(0, color='black')\n",
        "plt.axhline(0, color='black')\n",
        "plt.xlim(-6,6)\n",
        "plt.ylim(-4,10)\n",
        "plt.title(\"Función g(t)\")\n",
        "plt.xlabel(\"Eje x\")\n",
        "plt.ylabel(\"Eje y\")\n",
        "plt.legend()"
      ],
      "metadata": {
        "colab": {
          "base_uri": "https://localhost:8080/",
          "height": 491
        },
        "id": "t9gCs0BnoJbE",
        "outputId": "a697a5d5-1275-4a3b-af9a-f0d10df6881f"
      },
      "execution_count": null,
      "outputs": [
        {
          "output_type": "execute_result",
          "data": {
            "text/plain": [
              "<matplotlib.legend.Legend at 0x7c4c0b8a3700>"
            ]
          },
          "metadata": {},
          "execution_count": 35
        },
        {
          "output_type": "display_data",
          "data": {
            "text/plain": [
              "<Figure size 640x480 with 1 Axes>"
            ],
            "image/png": "[encoded data removed]"
          },
          "metadata": {}
        }
      ]
    },
    {
      "cell_type": "markdown",
      "source": [
        "#####<font color=\"47c7dc\"> **3.** </font> Discute la continuidad de cada función:"
      ],
      "metadata": {
        "id": "58zb1-OL6BUg"
      }
    },
    {
      "cell_type": "markdown",
      "source": [
        "###### <font color=\"47c7dc\"> **a.** </font>\n",
        "$g(x)=4x^{23} - x^{18} + 16x - 3$\n"
      ],
      "metadata": {
        "id": "rXcOYyK56NY0"
      }
    },
    {
      "cell_type": "markdown",
      "source": [
        "> La función es polinómica, por lo tanto es continua para todo su dominio"
      ],
      "metadata": {
        "id": "bKcOqTVU7hBz"
      }
    },
    {
      "cell_type": "code",
      "source": [
        "x=np.linspace(-10,10,1000)\n",
        "y=[4*(x**23)-(x**18)+16*x-3 for x in x]\n",
        "\n",
        "plt.plot(x,y,'.')\n",
        "plt.grid(color='gray')\n",
        "plt.axvline(0, color='black')\n",
        "plt.axhline(0, color='black')\n",
        "plt.title(\"Función g(x)\")\n",
        "plt.xlabel(\"Eje x\")\n",
        "plt.ylabel(\"Eje y\")\n"
      ],
      "metadata": {
        "colab": {
          "base_uri": "https://localhost:8080/",
          "height": 491
        },
        "id": "dTk8hlqP6qHL",
        "outputId": "2dbf510c-f01d-4eb8-c4c6-9041db7376e9"
      },
      "execution_count": null,
      "outputs": [
        {
          "output_type": "execute_result",
          "data": {
            "text/plain": [
              "Text(0, 0.5, 'Eje y')"
            ]
          },
          "metadata": {},
          "execution_count": 36
        },
        {
          "output_type": "display_data",
          "data": {
            "text/plain": [
              "<Figure size 640x480 with 1 Axes>"
            ],
            "image/png": "[encoded data removed]"
          },
          "metadata": {}
        }
      ]
    },
    {
      "cell_type": "markdown",
      "source": [
        "###### <font color=\"47c7dc\"> **b.** </font>\n",
        "$f(t)=\\frac{t^2-t-6}{t+2}$"
      ],
      "metadata": {
        "id": "xGDnFYt57zh7"
      }
    },
    {
      "cell_type": "markdown",
      "source": [
        "> Esta función es continua en todo su dominio, es decir, en el intervalo $(-\\infty,-2) \\cup (-2,\\infty)$. Pero no es una función continua:\n",
        "\n",
        "> $f(-2)=\\frac{(-2)^2-(-2)-6}{-2+2} = \\frac{0}{0}$ *Indeterminación*\n",
        "\n",
        "> $f(t)=\\frac{(t-3)(t+2)}{t+2} = t-3$\n",
        "\n",
        "> $\\lim_{x\\to -2^-} (t-3) = -5$\n",
        "\n",
        "> $\\lim_{x\\to -2^+} (t-3) = -5$ //Existe el límite, pero:\n",
        "\n",
        "> $\\lim_{x\\to -2} (t-3) \\neq f(-2)$\n",
        "\n",
        "> $\\therefore$ La función no es continua"
      ],
      "metadata": {
        "id": "4lfMSi4m8DCX"
      }
    },
    {
      "cell_type": "code",
      "source": [
        "t=np.linspace(-10,10,1000)\n",
        "y=[t-3 for t in t]\n",
        "\n",
        "plt.plot(t,y,'.')\n",
        "plt.plot(-2,-5,'o',label='$t →-2$')\n",
        "plt.grid(color='gray')\n",
        "plt.axvline(0, color='black')\n",
        "plt.axhline(0, color='black')\n",
        "plt.title(\"Función f(t)\")\n",
        "plt.xlabel(\"Eje x\")\n",
        "plt.ylabel(\"Eje y\")\n",
        "plt.legend()"
      ],
      "metadata": {
        "colab": {
          "base_uri": "https://localhost:8080/",
          "height": 491
        },
        "id": "CnR09qOt-zPU",
        "outputId": "087d3dc7-ddca-4d42-c464-5b2adcbd3ba1"
      },
      "execution_count": null,
      "outputs": [
        {
          "output_type": "execute_result",
          "data": {
            "text/plain": [
              "<matplotlib.legend.Legend at 0x7c4c0df09660>"
            ]
          },
          "metadata": {},
          "execution_count": 37
        },
        {
          "output_type": "display_data",
          "data": {
            "text/plain": [
              "<Figure size 640x480 with 1 Axes>"
            ],
            "image/png": "[encoded data removed]"
          },
          "metadata": {}
        }
      ]
    },
    {
      "cell_type": "markdown",
      "source": [
        "###### <font color=\"47c7dc\"> **c.** </font>\n",
        "$g(t)=32t-\\frac{8}{t}$"
      ],
      "metadata": {
        "id": "niM3uIoo___A"
      }
    },
    {
      "cell_type": "markdown",
      "source": [
        "> Esta función es continua en todo su dominio, es decir, en el intervalo $(-\\infty,0) \\cup (0,\\infty)$. Pero no es una función continua:\n",
        "\n",
        "> $g(0)=32(0)-\\frac{8}{0} = $ *Indeterminación*\n",
        "\n",
        "> $\\lim_{t\\to 0^-} 32(t)-\\frac{8}{t} = \\infty$\n",
        "\n",
        "> $\\lim_{t\\to 0^+} 32(t)-\\frac{8}{t} = -\\infty$\n",
        "\n",
        "> $\\therefore$ La función no es continua"
      ],
      "metadata": {
        "id": "C6p7MuISAM1y"
      }
    },
    {
      "cell_type": "code",
      "source": [
        "t=np.linspace(-10,10,1000)\n",
        "y=[32*t-(8/t) for t in t]\n",
        "\n",
        "plt.plot(t,y,'.')\n",
        "plt.grid(color='gray')\n",
        "plt.axvline(0, color='black')\n",
        "plt.axhline(0, color='black')\n",
        "plt.title(\"Función g(t)\")\n",
        "plt.xlabel(\"Eje x\")\n",
        "plt.ylabel(\"Eje y\")\n",
        "plt.xlim(-10,10)"
      ],
      "metadata": {
        "colab": {
          "base_uri": "https://localhost:8080/",
          "height": 491
        },
        "id": "jW8ubZ71A-SS",
        "outputId": "1fef057f-7106-4ae7-9a3d-2c743e801ca2"
      },
      "execution_count": null,
      "outputs": [
        {
          "output_type": "execute_result",
          "data": {
            "text/plain": [
              "(-10.0, 10.0)"
            ]
          },
          "metadata": {},
          "execution_count": 38
        },
        {
          "output_type": "display_data",
          "data": {
            "text/plain": [
              "<Figure size 640x480 with 1 Axes>"
            ],
            "image/png": "[encoded data removed]"
          },
          "metadata": {}
        }
      ]
    },
    {
      "cell_type": "markdown",
      "source": [
        "###### <font color=\"47c7dc\"> **d.** </font>\n",
        "$f(u)=\\frac{8}{u^2-4}$"
      ],
      "metadata": {
        "id": "PZhaF2bwBvLi"
      }
    },
    {
      "cell_type": "markdown",
      "source": [
        "> Esta función es continua en todo su dominio, es decir, en el intervalo $(-\\infty,-2) \\cup (-2,2) \\cup (2,\\infty)$. Pero no es una función continua:\n",
        "\n",
        "> $f(-2)=\\frac{8}{(-2)^2-4} = $ *Indeterminación*\n",
        "\n",
        "> $f(2)=\\frac{8}{(2)^2-4} = $ *Indeterminación*\n",
        "\n",
        "> $\\lim_{u\\to -2^-} \\frac{8}{u^2-4} = \\infty$\n",
        "\n",
        "> $\\lim_{u\\to -2^+} \\frac{8}{u^2-4} = -\\infty$\n",
        "\n",
        "> $\\lim_{u\\to 2^-} \\frac{8}{u^2-4} = -\\infty$\n",
        "\n",
        "> $\\lim_{u\\to 2^+} \\frac{8}{u^2-4} = \\infty$\n",
        "\n",
        "> $\\therefore$ La función no es continua"
      ],
      "metadata": {
        "id": "WCZxq73KB_gC"
      }
    },
    {
      "cell_type": "code",
      "source": [
        "u=np.linspace(-10,10,1000)\n",
        "y=[8/((u**2)-4) for u in u]\n",
        "\n",
        "plt.plot(u,y,'.')\n",
        "plt.grid(color='gray')\n",
        "plt.axvline(0, color='black')\n",
        "plt.axhline(0, color='black')\n",
        "plt.title(\"Función f(u)\")\n",
        "plt.xlabel(\"Eje x\")\n",
        "plt.ylabel(\"Eje y\")\n",
        "plt.xlim(-10,10)"
      ],
      "metadata": {
        "colab": {
          "base_uri": "https://localhost:8080/",
          "height": 491
        },
        "id": "Z38fJfoDCqfI",
        "outputId": "66313f4e-284c-4b4b-f3f1-abd3f2321c3a"
      },
      "execution_count": null,
      "outputs": [
        {
          "output_type": "execute_result",
          "data": {
            "text/plain": [
              "(-10.0, 10.0)"
            ]
          },
          "metadata": {},
          "execution_count": 39
        },
        {
          "output_type": "display_data",
          "data": {
            "text/plain": [
              "<Figure size 640x480 with 1 Axes>"
            ],
            "image/png": "[encoded data removed]"
          },
          "metadata": {}
        }
      ]
    },
    {
      "cell_type": "markdown",
      "source": [
        "###### <font color=\"47c7dc\"> **e.** </font>\n",
        "$f(t)=\\sqrt{t^2-4}$"
      ],
      "metadata": {
        "id": "tgvs-fQGDQ7g"
      }
    },
    {
      "cell_type": "markdown",
      "source": [
        "> Esta función es continua en todo su dominio, es decir, en el intervalo $(-\\infty,-2] \\cup [2,\\infty)$. Pero no es una función continua:\n",
        "\n",
        "> $\\therefore$ La función no es continua en el intervalo (-2,2) para la cual no está definida"
      ],
      "metadata": {
        "id": "AbjBhFKJDwFN"
      }
    },
    {
      "cell_type": "code",
      "source": [
        "t=np.linspace(-10,10,1000)\n",
        "y=[((t**2)-4)**(1/2) for t in t]\n",
        "\n",
        "plt.plot(t,y,'.')\n",
        "plt.grid(color='gray')\n",
        "plt.axvline(0, color='black')\n",
        "plt.axhline(0, color='black')\n",
        "plt.title(\"Función f(t)\")\n",
        "plt.xlabel(\"Eje x\")\n",
        "plt.ylabel(\"Eje y\")\n",
        "plt.xlim(-10,10)"
      ],
      "metadata": {
        "colab": {
          "base_uri": "https://localhost:8080/",
          "height": 528
        },
        "id": "J7nkoNlmFGKd",
        "outputId": "1a400d6c-98d6-49e2-d685-fb37d9103c72"
      },
      "execution_count": null,
      "outputs": [
        {
          "output_type": "stream",
          "name": "stderr",
          "text": [
            "<ipython-input-40-f2cd764c006f>:2: RuntimeWarning: invalid value encountered in scalar power\n",
            "  y=[((t**2)-4)**(1/2) for t in t]\n"
          ]
        },
        {
          "output_type": "execute_result",
          "data": {
            "text/plain": [
              "(-10.0, 10.0)"
            ]
          },
          "metadata": {},
          "execution_count": 40
        },
        {
          "output_type": "display_data",
          "data": {
            "text/plain": [
              "<Figure size 640x480 with 1 Axes>"
            ],
            "image/png": "[encoded data removed]"
          },
          "metadata": {}
        }
      ]
    },
    {
      "cell_type": "markdown",
      "source": [
        "###### <font color=\"47c7dc\"> **f.** </font>\n",
        "$g(x)=\\frac{1}{\\sqrt{9-x^2}}$"
      ],
      "metadata": {
        "id": "8wFrpMZJFbol"
      }
    },
    {
      "cell_type": "markdown",
      "source": [
        "> Esta función es continua en todo su dominio, es decir, en el intervalo $(-3,3)$. Pero no es una función continua:\n",
        "\n",
        "> $\\therefore$ La función no es continua en el intervalo $(-\\infty,-3] \\cup [3,\\infty)$ para la cual no está definida"
      ],
      "metadata": {
        "id": "avKq0J2VFnSX"
      }
    },
    {
      "cell_type": "code",
      "source": [
        "x=np.linspace(-10,10,1000)\n",
        "y=[1/((9-x**2)**(1/2)) for x in x]\n",
        "\n",
        "plt.plot(x,y,'.')\n",
        "plt.grid(color='gray')\n",
        "plt.axvline(0, color='black')\n",
        "plt.axhline(0, color='black')\n",
        "plt.title(\"Función g(x)\")\n",
        "plt.xlabel(\"Eje x\")\n",
        "plt.ylabel(\"Eje y\")\n",
        "plt.xlim(-10,10)"
      ],
      "metadata": {
        "colab": {
          "base_uri": "https://localhost:8080/",
          "height": 528
        },
        "id": "DnG3Y9BAF-16",
        "outputId": "e68343c7-ee02-4a20-d93a-39dada4c7e7c"
      },
      "execution_count": null,
      "outputs": [
        {
          "output_type": "stream",
          "name": "stderr",
          "text": [
            "<ipython-input-41-db3178bd246e>:2: RuntimeWarning: invalid value encountered in scalar power\n",
            "  y=[1/((9-x**2)**(1/2)) for x in x]\n"
          ]
        },
        {
          "output_type": "execute_result",
          "data": {
            "text/plain": [
              "(-10.0, 10.0)"
            ]
          },
          "metadata": {},
          "execution_count": 41
        },
        {
          "output_type": "display_data",
          "data": {
            "text/plain": [
              "<Figure size 640x480 with 1 Axes>"
            ],
            "image/png": "[encoded data removed]"
          },
          "metadata": {}
        }
      ]
    },
    {
      "cell_type": "markdown",
      "source": [
        "#####<font color=\"47c7dc\"> **4.** </font> Discute la continuidad de la función:\n",
        "$f(x)= \\left\\{ \\begin{array}{lcc} 3x+2 & si & x \\lt 1 \\\\ \\\\ 3x+1 & si & x\\ge 1 \\end{array} \\right.$"
      ],
      "metadata": {
        "id": "SUt6PmhppFMB"
      }
    },
    {
      "cell_type": "markdown",
      "source": [
        "> $f(1) = 3(1)+1$\n",
        "\n",
        "> $f(1) = 4$\n",
        "\n",
        "> $\\lim_{x\\to1^-} (3x+2) = 5$\n",
        "\n",
        "> $\\lim_{x\\to1^+} (3x+1) = 4$\n",
        "\n",
        "\n",
        "> $\\therefore$ La función no es continua"
      ],
      "metadata": {
        "id": "k_cL-LTq2BAU"
      }
    },
    {
      "cell_type": "code",
      "source": [
        "x_1=np.linspace(-10,0.9,1000)\n",
        "x_2=np.linspace(1,10,1000)\n",
        "y=[3*x_1+2 for x_1 in x_1]\n",
        "z=[3*x_2+1 for x_2 in x_2]\n",
        "\n",
        "plt.plot(x_1,y,label='$3x+2$')\n",
        "plt.plot(x_2,z,label='$3x+1$')\n",
        "plt.plot(1,4,'o',label='$x=1$')\n",
        "plt.grid(color='gray')\n",
        "plt.axvline(0, color='black')\n",
        "plt.axhline(0, color='black')\n",
        "plt.xlim(-6,6)\n",
        "plt.ylim(-4,10)\n",
        "plt.title(\"Función f(x)\")\n",
        "plt.xlabel(\"Eje x\")\n",
        "plt.ylabel(\"Eje y\")\n",
        "plt.legend()"
      ],
      "metadata": {
        "colab": {
          "base_uri": "https://localhost:8080/",
          "height": 491
        },
        "id": "pM3Nd1pu2eMc",
        "outputId": "85251e65-1af2-48fd-f3d0-723fdc9e71c1"
      },
      "execution_count": null,
      "outputs": [
        {
          "output_type": "execute_result",
          "data": {
            "text/plain": [
              "<matplotlib.legend.Legend at 0x7c4c0b475f00>"
            ]
          },
          "metadata": {},
          "execution_count": 42
        },
        {
          "output_type": "display_data",
          "data": {
            "text/plain": [
              "<Figure size 640x480 with 1 Axes>"
            ],
            "image/png": "[encoded data removed]"
          },
          "metadata": {}
        }
      ]
    },
    {
      "cell_type": "markdown",
      "source": [
        "#####<font color=\"47c7dc\"> **5.** </font> Discute la continuidad de la función:\n",
        "$h(z)= \\left\\{ \\begin{array}{lcc} z^2-1 & si & z \\le -1 \\\\ \\\\ z-1 & si & z\\gt -1 \\end{array} \\right.$"
      ],
      "metadata": {
        "id": "4txtLDi-3ZLq"
      }
    },
    {
      "cell_type": "markdown",
      "source": [
        "> $h(-1) = (-1)^2-1$\n",
        "\n",
        "> $h(-1) = 0$\n",
        "\n",
        "> $\\lim_{z\\to-1^-} (z^2-1) = 0$\n",
        "\n",
        "> $\\lim_{z\\to-1^+} (z-1) = -2$\n",
        "\n",
        "\n",
        "> $\\therefore$ La función no es continua"
      ],
      "metadata": {
        "id": "QPrAuZrj35LT"
      }
    },
    {
      "cell_type": "code",
      "source": [
        "x_1=np.linspace(-10,-1,100)\n",
        "x_2=np.linspace(-0.9,10,100)\n",
        "y=[(x_1**2)-1 for x_1 in x_1]\n",
        "z=[x_2-1 for x_2 in x_2]\n",
        "\n",
        "plt.plot(x_1,y,label='$z^2-1$')\n",
        "plt.plot(x_2,z,label='$z-1$')\n",
        "plt.plot(-1,0,'o',label='$z=-1$')\n",
        "plt.grid(color='gray')\n",
        "plt.axvline(0, color='black')\n",
        "plt.axhline(0, color='black')\n",
        "plt.xlim(-6,6)\n",
        "plt.ylim(-4,10)\n",
        "plt.title(\"Función h(z)\")\n",
        "plt.xlabel(\"Eje x\")\n",
        "plt.ylabel(\"Eje y\")\n",
        "plt.legend()"
      ],
      "metadata": {
        "colab": {
          "base_uri": "https://localhost:8080/",
          "height": 491
        },
        "id": "6MeLT8q34hP7",
        "outputId": "a6af4aca-c14c-489c-97e4-6c8e6dbc4cb1"
      },
      "execution_count": null,
      "outputs": [
        {
          "output_type": "execute_result",
          "data": {
            "text/plain": [
              "<matplotlib.legend.Legend at 0x7c4c0b32cf70>"
            ]
          },
          "metadata": {},
          "execution_count": 43
        },
        {
          "output_type": "display_data",
          "data": {
            "text/plain": [
              "<Figure size 640x480 with 1 Axes>"
            ],
            "image/png": "[encoded data removed]"
          },
          "metadata": {}
        }
      ]
    },
    {
      "cell_type": "markdown",
      "source": [
        "#####<font color=\"47c7dc\"> **6)** </font> La función.\n",
        "\n",
        "$f(t)=\\frac{t^{2}-7t+12}{t-4}$\n",
        "\n",
        "no es continua en $𝑡 = 4.$ ¿Es removible esta discontinuidad? Si es así, defina una nueva función 𝑔 que concuerda con 𝑓 siempre que $𝑡 ≠ 4$, pero es continua en $4$."
      ],
      "metadata": {
        "id": "fhQTlrNyE1Pe"
      }
    },
    {
      "cell_type": "markdown",
      "source": [
        ">$\\frac{t^{2}-7t+12}{t-4}$\n",
        "\n",
        ">$=\\frac{(t-4)(t-3)}{t-4}$\n",
        "\n",
        ">$=t-3$\n",
        "\n",
        ">$g(x)=t-3$\n",
        "\n",
        "R//. La discontinuidad es removible al factorizar el numerador"
      ],
      "metadata": {
        "id": "SaJkN-a4HorN"
      }
    },
    {
      "cell_type": "code",
      "execution_count": null,
      "metadata": {
        "colab": {
          "base_uri": "https://localhost:8080/",
          "height": 455
        },
        "id": "yiD1w_UdDdEm",
        "outputId": "6feb0688-8595-4ccc-dd7d-781b6ff8048b"
      },
      "outputs": [
        {
          "output_type": "display_data",
          "data": {
            "text/plain": [
              "<Figure size 640x480 with 1 Axes>"
            ],
            "image/png": "[encoded data removed]"
          },
          "metadata": {}
        }
      ],
      "source": [
        "import numpy as np\n",
        "import matplotlib.pyplot as plt\n",
        "x = np.linspace(3,5,100)\n",
        "def g(x):\n",
        "    return x-3\n",
        "plt.plot(x,g(x),label='g(x)')\n",
        "plt.legend()\n",
        "plt.xlabel(\"Eje x\")\n",
        "plt.ylabel(\"Eje y\")\n",
        "plt.grid(color='gray')\n",
        "plt.axvline(0, color='black')\n",
        "plt.axhline(0, color='black')\n",
        "plt.xlim(3,5)\n",
        "plt.ylim(0,3)\n",
        "plt.show()"
      ]
    },
    {
      "cell_type": "markdown",
      "source": [
        "#####<font color=\"47c7dc\"> **7)** </font> La función.\n",
        "\n",
        "$f(t)=\\frac{t^{2}-7t+12}{t-5}$\n",
        "\n",
        "no es continua en $𝑡 = 5.$ ¿Es removible esta discontinuidad? Si es así, defina una nueva función 𝑔 que concuerda con 𝑓 siempre que $𝑡 ≠ 5$, pero es continua en $5$.\n"
      ],
      "metadata": {
        "id": "NdGiWKPDuFyh"
      }
    },
    {
      "cell_type": "markdown",
      "source": [
        "\n",
        "En este caso la disconitnuidad no es removible"
      ],
      "metadata": {
        "id": "a9wdJAu8v7wf"
      }
    },
    {
      "cell_type": "markdown",
      "source": [
        "#####<font color=\"47c7dc\"> **8)** </font> Explica por qué $g(x)=x^{2}sen(x^{2}+1)$ es continua en $(-\\infty,\\infty )$"
      ],
      "metadata": {
        "id": "Z0xoRG3furVk"
      }
    },
    {
      "cell_type": "markdown",
      "source": [
        " Para esto e importante analizar la continuidad de las funciones que la componen. La función g(x) se compone de la funcion polinómica $x^2$ y la funcion seno: $sen(x^2+1)$\n",
        "\n",
        "\n",
        "*  **Funciones polinómicas**\n",
        "Las funciones polinómicas son continuas en todos los números reales. Por lo tanto,$x^2$ es continua en $(-\\infty,\\infty )$\n",
        "*   **Funciones Trignométricas**\n",
        "La función seno es continua en todos los numeros reales, por ende en .$sen(x^2+1)$ tambien lo se´ra\n",
        "\n",
        "Si las dos funciones que la componen son continuas entonces esa funcion también será continua\n",
        "\n",
        "\n"
      ],
      "metadata": {
        "id": "Ban4_rvuuxnI"
      }
    },
    {
      "cell_type": "code",
      "source": [
        "import numpy as np\n",
        "import matplotlib.pyplot as plt\n",
        "x = np.linspace(-100,100,1000000)\n",
        "def g(x):\n",
        "    return x**2*np.sin(x**2+1)\n",
        "plt.plot(x,g(x),\".\",label='h(t)')\n",
        "plt.legend()\n",
        "plt.xlabel(\"Eje x\")\n",
        "plt.ylabel(\"Eje y\")\n",
        "plt.grid(color='gray')\n",
        "plt.axvline(0, color='black')\n",
        "plt.axhline(0, color='black')\n",
        "plt.show()"
      ],
      "metadata": {
        "colab": {
          "base_uri": "https://localhost:8080/",
          "height": 449
        },
        "id": "n6w_6fOJuuLl",
        "outputId": "13c5e3e1-4353-4be5-e7dd-431d0ef5dc44"
      },
      "execution_count": 89,
      "outputs": [
        {
          "output_type": "display_data",
          "data": {
            "text/plain": [
              "<Figure size 640x480 with 1 Axes>"
            ],
            "image/png": "[encoded data removed]"
          },
          "metadata": {}
        }
      ]
    },
    {
      "cell_type": "markdown",
      "source": [
        "#####<font color=\"47c7dc\"> **9)** </font> Recuerde que la función de Heaviside está definida por\n",
        "\n",
        "$H(t)= \\left\\{ \\begin{array}{lcc} 0, & si & t \\lt 0 \\\\ \\\\ 1, & si & z\\ge 0 \\end{array} \\right.$"
      ],
      "metadata": {
        "id": "1JZgBljTOLZz"
      }
    },
    {
      "cell_type": "markdown",
      "source": [
        "###### (a) Discute la continuidad de $f(t) = H(t^{2}+1)$. Grafica f en el intervalo $[-5,5]$\n"
      ],
      "metadata": {
        "id": "iUxWnE7xPVTF"
      }
    },
    {
      "cell_type": "markdown",
      "source": [
        ">  $f(1) = H(1^{2}+1)$\n",
        "\n",
        ">  $f(1) = H(2)$\n",
        "\n",
        ">  $f(1) = 0$\n",
        "\n",
        "> $\\lim_{t\\to1^+} H(t^{2}+1) = 1$\n",
        "\n",
        "> $\\lim_{t\\to1^-} H(t^{2}+1) = 1$\n",
        "\n",
        "> $\\therefore$ La función es continua"
      ],
      "metadata": {
        "id": "C3E9VpyTVWbP"
      }
    },
    {
      "cell_type": "code",
      "source": [
        "\n",
        "x = np.linspace(-5,5,1000)\n",
        "def f(x):\n",
        "    return np.heaviside(x**2+1,0)\n",
        "plt.plot(x,f(x),\".\",label='f(t)')\n",
        "plt.legend()\n",
        "plt.xlabel(\"Eje x\")\n",
        "plt.ylabel(\"Eje y\")\n",
        "plt.grid(color='gray')\n",
        "plt.axvline(0, color='black')\n",
        "plt.axhline(0, color='black')\n",
        "plt.xlim(-5,5)\n",
        "plt.ylim(-1,2)\n",
        "plt.show()"
      ],
      "metadata": {
        "colab": {
          "base_uri": "https://localhost:8080/",
          "height": 455
        },
        "id": "61eF_BzSOKvz",
        "outputId": "016aee2c-4129-4b15-a129-90b3af8900de"
      },
      "execution_count": 79,
      "outputs": [
        {
          "output_type": "display_data",
          "data": {
            "text/plain": [
              "<Figure size 640x480 with 1 Axes>"
            ],
            "image/png": "[encoded data removed]"
          },
          "metadata": {}
        }
      ]
    },
    {
      "cell_type": "markdown",
      "source": [
        "###### (b) Discute la continuidad de $g(t) = H(t^{2}-1)$. Grafica f en el intervalo $[-5,5]$"
      ],
      "metadata": {
        "id": "4-jq3PfUSI5A"
      }
    },
    {
      "cell_type": "markdown",
      "source": [
        ">  $f(1) = H(1^{2}-1)$\n",
        "\n",
        ">  $f(1) = H(0)$\n",
        "\n",
        ">  $f(1) = 1$\n",
        "\n",
        "> $\\lim_{t\\to1^+} H(t^{2}+1) = 1$\n",
        "\n",
        "> $\\lim_{t\\to1^-} H(t^{2}+1) = 0$\n",
        "\n",
        "> $\\therefore$ La función es discontinua"
      ],
      "metadata": {
        "id": "JXIagg81VQ95"
      }
    },
    {
      "cell_type": "code",
      "source": [
        "import numpy as np\n",
        "import matplotlib.pyplot as plt\n",
        "x = np.linspace(-5,5,1000)\n",
        "def g(x):\n",
        "    return np.heaviside(x**2-1,0)\n",
        "plt.plot(x,g(x),\".\",label='g(t)')\n",
        "plt.legend()\n",
        "plt.xlabel(\"Eje x\")\n",
        "plt.ylabel(\"Eje y\")\n",
        "plt.grid(color='gray')\n",
        "plt.axvline(0, color='black')\n",
        "plt.axhline(0, color='black')\n",
        "plt.xlim(-5,5)\n",
        "plt.ylim(-1,2)\n",
        "plt.show()"
      ],
      "metadata": {
        "colab": {
          "base_uri": "https://localhost:8080/",
          "height": 455
        },
        "id": "DsI9cAIpSOwf",
        "outputId": "7c93e55c-856a-403c-dcfe-7b11ac998ced"
      },
      "execution_count": null,
      "outputs": [
        {
          "output_type": "display_data",
          "data": {
            "text/plain": [
              "<Figure size 640x480 with 1 Axes>"
            ],
            "image/png": "[encoded data removed]"
          },
          "metadata": {}
        }
      ]
    },
    {
      "cell_type": "markdown",
      "source": [
        "###### (c) Discute la continuidad de $g(t) = H(sen(\\pi*t)$. Grafica f en el intervalo $[-5,5]$\n"
      ],
      "metadata": {
        "id": "W1_hl9P6VMxh"
      }
    },
    {
      "cell_type": "markdown",
      "source": [
        ">"
      ],
      "metadata": {
        "id": "7U78FkSFZTpz"
      }
    },
    {
      "cell_type": "markdown",
      "source": [
        ">  $g(0) = H(sen(\\pi*0)$\n",
        "\n",
        ">  $g(0) = H(0)$\n",
        "\n",
        ">  $g(0) = 1$\n",
        "\n",
        "> $\\lim_{t\\to0^+} H(sen(\\pi*t) = 1$\n",
        "\n",
        "> $\\lim_{t\\to0^-} H(sen(\\pi*t) = 0$\n",
        "\n",
        "> $\\therefore$ La función es discontinua"
      ],
      "metadata": {
        "id": "oCiFPUfeZegz"
      }
    },
    {
      "cell_type": "code",
      "source": [
        "import numpy as np\n",
        "import matplotlib.pyplot as plt\n",
        "x = np.linspace(-5,5,1000)\n",
        "def h(x):\n",
        "    return np.heaviside(np.sin(np.pi*x),0)\n",
        "plt.plot(x,h(x),\".\",label='h(t)')\n",
        "plt.legend()\n",
        "plt.xlabel(\"Eje x\")\n",
        "plt.ylabel(\"Eje y\")\n",
        "plt.grid(color='gray')\n",
        "plt.axvline(0, color='black')\n",
        "plt.axhline(0, color='black')\n",
        "plt.xlim(-5,5)\n",
        "plt.ylim(-1,2)\n",
        "plt.show()"
      ],
      "metadata": {
        "colab": {
          "base_uri": "https://localhost:8080/",
          "height": 455
        },
        "id": "NT04vtYWXGkF",
        "outputId": "db1934dd-436e-4a6f-fd13-028996e121b1"
      },
      "execution_count": null,
      "outputs": [
        {
          "output_type": "display_data",
          "data": {
            "text/plain": [
              "<Figure size 640x480 with 1 Axes>"
            ],
            "image/png": "[encoded data removed]"
          },
          "metadata": {}
        }
      ]
    },
    {
      "cell_type": "markdown",
      "source": [
        "###### (a) Discute la continuidad de $f(t) = H(t^{2}+1)$. Grafica f en el intervalo $[-5,5]$\n"
      ],
      "metadata": {
        "id": "C2V4q3Q6ficn"
      }
    },
    {
      "cell_type": "markdown",
      "source": [
        ">  $f(1) = H(1^{2}+1)$\n",
        "\n",
        ">  $f(1) = H(2)$\n",
        "\n",
        ">  $f(1) = 0$\n",
        "\n",
        "> $\\lim_{t\\to1^+} H(t^{2}+1) = 1$\n",
        "\n",
        "> $\\lim_{t\\to1^-} H(t^{2}+1) = 1$\n",
        "\n",
        "> $\\therefore$ La función es continua"
      ],
      "metadata": {
        "id": "JTxSMezYficn"
      }
    },
    {
      "cell_type": "code",
      "source": [
        "import numpy as np\n",
        "import matplotlib.pyplot as plt\n",
        "x = np.linspace(-5,5,1000)\n",
        "def f(x):\n",
        "    return np.heaviside(x**2+1,0)\n",
        "plt.plot(x,f(x),\".\",label='f(t)')\n",
        "plt.legend()\n",
        "plt.xlabel(\"Eje x\")\n",
        "plt.ylabel(\"Eje y\")\n",
        "plt.grid(color='gray')\n",
        "plt.axvline(0, color='black')\n",
        "plt.axhline(0, color='black')\n",
        "plt.xlim(-5,5)\n",
        "plt.ylim(-1,2)\n",
        "plt.show()"
      ],
      "metadata": {
        "colab": {
          "base_uri": "https://localhost:8080/",
          "height": 455
        },
        "outputId": "ef3054da-4ca8-4ba3-b8b2-99a4bd9289f6",
        "id": "1MgP5mcafico"
      },
      "execution_count": null,
      "outputs": [
        {
          "output_type": "display_data",
          "data": {
            "text/plain": [
              "<Figure size 640x480 with 1 Axes>"
            ],
            "image/png": "[encoded data removed]"
          },
          "metadata": {}
        }
      ]
    },
    {
      "cell_type": "markdown",
      "source": [
        "###### (b) Discute la continuidad de $g(t) = H(t^{2}-1)$. Grafica f en el intervalo $[-5,5]$"
      ],
      "metadata": {
        "id": "0taszDafficp"
      }
    },
    {
      "cell_type": "markdown",
      "source": [
        ">  $f(1) = H(1^{2}-1)$\n",
        "\n",
        ">  $f(1) = H(0)$\n",
        "\n",
        ">  $f(1) = 1$\n",
        "\n",
        "> $\\lim_{t\\to1^+} H(t^{2}+1) = 1$\n",
        "\n",
        "> $\\lim_{t\\to1^-} H(t^{2}+1) = 0$\n",
        "\n",
        "> $\\therefore$ La función es discontinua"
      ],
      "metadata": {
        "id": "RLGHZUXfficp"
      }
    },
    {
      "cell_type": "code",
      "source": [
        "import numpy as np\n",
        "import matplotlib.pyplot as plt\n",
        "x = np.linspace(-5,5,1000)\n",
        "def g(x):\n",
        "    return np.heaviside(x**2-1,0)\n",
        "plt.plot(x,g(x),\".\",label='g(t)')\n",
        "plt.legend()\n",
        "plt.xlabel(\"Eje x\")\n",
        "plt.ylabel(\"Eje y\")\n",
        "plt.grid(color='gray')\n",
        "plt.axvline(0, color='black')\n",
        "plt.axhline(0, color='black')\n",
        "plt.xlim(-5,5)\n",
        "plt.ylim(-1,2)\n",
        "plt.show()"
      ],
      "metadata": {
        "colab": {
          "base_uri": "https://localhost:8080/",
          "height": 455
        },
        "outputId": "7c93e55c-856a-403c-dcfe-7b11ac998ced",
        "id": "qANAljYxficq"
      },
      "execution_count": null,
      "outputs": [
        {
          "output_type": "display_data",
          "data": {
            "text/plain": [
              "<Figure size 640x480 with 1 Axes>"
            ],
            "image/png": "[encoded data removed]"
          },
          "metadata": {}
        }
      ]
    },
    {
      "cell_type": "markdown",
      "source": [
        "###### (c) Discute la continuidad de $g(t) = H(sen(\\pi*t)$. Grafica f en el intervalo $[-5,5]$\n"
      ],
      "metadata": {
        "id": "-pMLq9Q5ficr"
      }
    },
    {
      "cell_type": "markdown",
      "source": [
        ">"
      ],
      "metadata": {
        "id": "rgCKCT23ficr"
      }
    },
    {
      "cell_type": "markdown",
      "source": [
        ">  $g(0) = H(sen(\\pi*0)$\n",
        "\n",
        ">  $g(0) = H(0)$\n",
        "\n",
        ">  $g(0) = 1$\n",
        "\n",
        "> $\\lim_{t\\to0^+} H(sen(\\pi*t) = 1$\n",
        "\n",
        "> $\\lim_{t\\to0^-} H(sen(\\pi*t) = 0$\n",
        "\n",
        "> $\\therefore$ La función es discontinua"
      ],
      "metadata": {
        "id": "2QpA1HqLfics"
      }
    },
    {
      "cell_type": "code",
      "source": [
        "\n",
        "x = np.linspace(-5,5,1000)\n",
        "def h(x):\n",
        "    return np.heaviside(np.sin(np.pi*x),0)\n",
        "plt.plot(x,h(x),\".\",label='h(t)')\n",
        "plt.legend()\n",
        "plt.xlabel(\"Eje x\")\n",
        "plt.ylabel(\"Eje y\")\n",
        "plt.grid(color='gray')\n",
        "plt.axvline(0, color='black')\n",
        "plt.axhline(0, color='black')\n",
        "plt.xlim(-5,5)\n",
        "plt.ylim(-1,2)\n",
        "plt.show()"
      ],
      "metadata": {
        "colab": {
          "base_uri": "https://localhost:8080/",
          "height": 455
        },
        "outputId": "d83415a3-b996-4054-ca40-7e9c0e40f975",
        "id": "X7ay9jxHfict"
      },
      "execution_count": 78,
      "outputs": [
        {
          "output_type": "display_data",
          "data": {
            "text/plain": [
              "<Figure size 640x480 with 1 Axes>"
            ],
            "image/png": "[encoded data removed]"
          },
          "metadata": {}
        }
      ]
    },
    {
      "cell_type": "markdown",
      "source": [
        "#####<font color=\"47c7dc\"> **10)** </font> Discuta la continuidad de $f(x)=\\pi\\left\\lfloor x \\right\\rfloor$ y $g(x)=\\left\\lceil x \\right\\rceil$"
      ],
      "metadata": {
        "id": "xu1AX3eGbTIz"
      }
    },
    {
      "cell_type": "code",
      "source": [
        "\n",
        "x = np.linspace(-5,5,1000)\n",
        "def f(x):\n",
        "    return np.floor(x)\n",
        "def g(x):\n",
        "    return np.ceil(x)\n",
        "plt.plot(x,f(x),\".\",label='f(t)')\n",
        "plt.plot(x,g(x),\".\",label='g(t)')\n",
        "plt.legend()\n",
        "plt.xlabel(\"Eje x\")\n",
        "plt.ylabel(\"Eje y\")\n",
        "plt.grid(color='gray')\n",
        "plt.axvline(0, color='black')\n",
        "plt.axhline(0, color='black')\n",
        "plt.show()"
      ],
      "metadata": {
        "colab": {
          "base_uri": "https://localhost:8080/",
          "height": 449
        },
        "id": "3zg8iUffcS74",
        "outputId": "2c951be5-8e55-418c-b6b6-25c67a08120f"
      },
      "execution_count": 81,
      "outputs": [
        {
          "output_type": "display_data",
          "data": {
            "text/plain": [
              "<Figure size 640x480 with 1 Axes>"
            ],
            "image/png": "[encoded data removed]"
          },
          "metadata": {}
        }
      ]
    },
    {
      "cell_type": "markdown",
      "source": [
        "> $\\therefore$ La función es discontinua"
      ],
      "metadata": {
        "id": "O-ryWNiydbT4"
      }
    },
    {
      "cell_type": "markdown",
      "source": [
        "##### <font color=\"14a6bd\"> **2.5.** </font> **Algunas consecuencias de la continuidad**"
      ],
      "metadata": {
        "id": "uEbHGr1TJ3W5"
      }
    },
    {
      "cell_type": "markdown",
      "source": [
        "#####<font color=\"47c7dc\"> **1)** </font> Utilice el algoritmo de bisección para aproximar una solución a cada uno de los siguientes ecuaciones en el intervalo dado. Tu respuesta no debería tener un error de no más que 0,005"
      ],
      "metadata": {
        "id": "SAl1lW4Heduy"
      }
    },
    {
      "cell_type": "code",
      "source": [
        "import math\n",
        "\n",
        "def biseccion (f,x_0, x_1, eps=0.005, N=None):\n",
        "\n",
        "    if f(x_0)*f(x_1) >= 0:\n",
        "      print(\"El método no puede ser aplicado\")\n",
        "      return None\n",
        "\n",
        "    if eps is not None:\n",
        "       N= math.ceil(math.log((x_1-x_0)/ eps)/math.log(2))\n",
        "\n",
        "    for n in range (N+1):\n",
        "        x_m=(x_0+x_1)/2\n",
        "\n",
        "        if f(x_m)==0:\n",
        "            return x_m\n",
        "        elif f(x_0)*f(x_1)<0:\n",
        "            x_1=x_m\n",
        "        else:\n",
        "            x_0=x_m\n",
        "        return (x_0+x_1)/2"
      ],
      "metadata": {
        "id": "L5PQqsvKhH4M"
      },
      "execution_count": 82,
      "outputs": []
    },
    {
      "cell_type": "markdown",
      "source": [
        "###### (a)\n",
        "\n",
        "$x^{2}-2=0$ en $[0,4]$"
      ],
      "metadata": {
        "id": "yAfwZ1dMfcqz"
      }
    },
    {
      "cell_type": "code",
      "source": [
        "f= lambda x: x**2-2\n",
        "biseccion(f,0,4)"
      ],
      "metadata": {
        "colab": {
          "base_uri": "https://localhost:8080/"
        },
        "id": "2ARsxAJNiv0c",
        "outputId": "fcbf3cc8-7596-4e84-af30-378f87683b7f"
      },
      "execution_count": null,
      "outputs": [
        {
          "output_type": "execute_result",
          "data": {
            "text/plain": [
              "1.0"
            ]
          },
          "metadata": {},
          "execution_count": 41
        }
      ]
    },
    {
      "cell_type": "markdown",
      "source": [
        "###### (b)\n",
        "\n",
        " $x^{5}-6x^3+2x=0$ en $[0,4]$"
      ],
      "metadata": {
        "id": "qnHS6JHngHBq"
      }
    },
    {
      "cell_type": "code",
      "source": [
        "g= lambda x: x**5-6*x**3+2*x\n",
        "biseccion(g,0,4)"
      ],
      "metadata": {
        "colab": {
          "base_uri": "https://localhost:8080/"
        },
        "id": "iVDMV9XljKdd",
        "outputId": "af3074b1-9891-403c-a9bf-c58cabb2643b"
      },
      "execution_count": null,
      "outputs": [
        {
          "output_type": "stream",
          "name": "stdout",
          "text": [
            "El método no puede ser aplicado\n"
          ]
        }
      ]
    },
    {
      "cell_type": "markdown",
      "source": [
        "###### (c)\n",
        "\n",
        " $cos(x)=x$ en $[0,\\pi]$"
      ],
      "metadata": {
        "id": "Zowv8PHSgWz6"
      }
    },
    {
      "cell_type": "code",
      "source": [
        "h= lambda x: math.cos(x)-x\n",
        "biseccion(h,0,math.pi)"
      ],
      "metadata": {
        "colab": {
          "base_uri": "https://localhost:8080/"
        },
        "id": "xb5gA3d9jfD6",
        "outputId": "42a2e785-97f0-42ef-c2f4-bc7352e154ae"
      },
      "execution_count": null,
      "outputs": [
        {
          "output_type": "execute_result",
          "data": {
            "text/plain": [
              "0.7853981633974483"
            ]
          },
          "metadata": {},
          "execution_count": 43
        }
      ]
    },
    {
      "cell_type": "markdown",
      "source": [
        "###### (d)\n",
        "\n",
        "$2sin(x)=\\sqrt{x+1}$ en $[0,2]$"
      ],
      "metadata": {
        "id": "8sjD_YV_glF0"
      }
    },
    {
      "cell_type": "code",
      "source": [
        "j= lambda x: 2*math.sin(x)-math.sqrt(x+1)\n",
        "biseccion(j,0,2)"
      ],
      "metadata": {
        "colab": {
          "base_uri": "https://localhost:8080/"
        },
        "id": "UvlwiTq7jICE",
        "outputId": "4dc61a80-8688-4513-f08d-7894c74f4dfb"
      },
      "execution_count": null,
      "outputs": [
        {
          "output_type": "execute_result",
          "data": {
            "text/plain": [
              "0.5"
            ]
          },
          "metadata": {},
          "execution_count": 44
        }
      ]
    },
    {
      "cell_type": "markdown",
      "source": [
        "#####<font color=\"47c7dc\"> **2)** </font> Traza el gráfico de $g(t)=t^2-cos^2(t)$ en $[-\\pi,\\pi]$"
      ],
      "metadata": {
        "id": "KS97OM-FkFi3"
      }
    },
    {
      "cell_type": "code",
      "source": [
        "\n",
        "x = np.linspace(-np.pi,np.pi,1000)\n",
        "def g(x):\n",
        "    return x**2-np.cos(x)**2\n",
        "plt.plot(x,g(x),\".\",label='g(t)')\n",
        "plt.legend()\n",
        "plt.xlabel(\"Eje x\")\n",
        "plt.ylabel(\"Eje y\")\n",
        "plt.grid(color='gray')\n",
        "plt.axvline(0, color='black')\n",
        "plt.axhline(0, color='black')\n",
        "plt.show()"
      ],
      "metadata": {
        "colab": {
          "base_uri": "https://localhost:8080/",
          "height": 449
        },
        "id": "P_Bvxartk_Fx",
        "outputId": "c3bcb054-ac92-4d4c-edbd-a44ecd07b3be"
      },
      "execution_count": 85,
      "outputs": [
        {
          "output_type": "display_data",
          "data": {
            "text/plain": [
              "<Figure size 640x480 with 1 Axes>"
            ],
            "image/png": "[encoded data removed]"
          },
          "metadata": {}
        }
      ]
    },
    {
      "cell_type": "markdown",
      "source": [
        "###### (a) Cuantas soluciones tiene la ecuacion $t^2=cos^2(t)$"
      ],
      "metadata": {
        "id": "VPBuotGXlQ4Q"
      }
    },
    {
      "cell_type": "code",
      "source": [
        "\n",
        "x = np.linspace(-1,1,10000)\n",
        "def f(x):\n",
        "    return x**2\n",
        "def g(x):\n",
        "    return np.cos(x)**2\n",
        "plt.plot(x,f(x),\".\",label='g(t)')\n",
        "plt.plot(x,g(x),\".\",label='g(t)')\n",
        "plt.legend()\n",
        "plt.xlabel(\"Eje x\")\n",
        "plt.ylabel(\"Eje y\")\n",
        "plt.grid(color='gray')\n",
        "plt.axvline(0, color='black')\n",
        "plt.axhline(0, color='black')\n",
        "plt.show()"
      ],
      "metadata": {
        "colab": {
          "base_uri": "https://localhost:8080/",
          "height": 449
        },
        "id": "wes00T7imTv8",
        "outputId": "ee37eca5-4049-458f-b835-1b6c7180f45e"
      },
      "execution_count": 86,
      "outputs": [
        {
          "output_type": "display_data",
          "data": {
            "text/plain": [
              "<Figure size 640x480 with 1 Axes>"
            ],
            "image/png": "[encoded data removed]"
          },
          "metadata": {}
        }
      ]
    },
    {
      "cell_type": "markdown",
      "source": [
        "> $\\therefore$ La solución de la ecuación es $\\simeq0,73$ y $-0,73$"
      ],
      "metadata": {
        "id": "FCAU6Remqo26"
      }
    },
    {
      "cell_type": "markdown",
      "source": [
        "###### (b) Usa la bisección para estimar la solución de la ecuación $t^2=cos^2(t)$"
      ],
      "metadata": {
        "id": "4YfQ3JsPl-pY"
      }
    },
    {
      "cell_type": "code",
      "source": [
        "import math\n",
        "\n",
        "def biseccion (f,x_0, x_1, eps=0.005, N=None):\n",
        "\n",
        "    if f(x_0)*f(x_1) >= 0:\n",
        "      print(\"El método no puede ser aplicado\")\n",
        "      return None\n",
        "\n",
        "    if eps is not None:\n",
        "       N= math.ceil(math.log((x_1-x_0)/ eps)/math.log(2))\n",
        "\n",
        "    for n in range (N+1):\n",
        "        x_m=(x_0+x_1)/2\n",
        "\n",
        "        if f(x_m)==0:\n",
        "            return x_m\n",
        "        elif f(x_0)*f(x_1)<0:\n",
        "            x_1=x_m\n",
        "        else:\n",
        "            x_0=x_m\n",
        "        return (x_0+x_1)/2"
      ],
      "metadata": {
        "id": "za0rJsQpnHLa"
      },
      "execution_count": 87,
      "outputs": []
    },
    {
      "cell_type": "code",
      "source": [
        "f= lambda x: x**2-np.cos(x)**2\n",
        "biseccion(f,-1,1)"
      ],
      "metadata": {
        "colab": {
          "base_uri": "https://localhost:8080/"
        },
        "id": "zG9b9lX0nNNd",
        "outputId": "bb3f8617-553c-4253-94e2-dde28430bce1"
      },
      "execution_count": 88,
      "outputs": [
        {
          "output_type": "stream",
          "name": "stdout",
          "text": [
            "El método no puede ser aplicado\n"
          ]
        }
      ]
    },
    {
      "cell_type": "markdown",
      "source": [
        "#####<font color=\"47c7dc\"> **3.** </font> Discute:\n",
        "Supongamos que el precio de mercado para un producto es $p$ dólares. Entonces, la demanda por ese producto está dada por la función:\n",
        "\n",
        "\n",
        "$D(p)= \\frac{50000p + 10000}{p^2} unidades$\n",
        "\n",
        "\n",
        "Al mismo tiempo, supongamos que a un precio de $p$ dólares, los productores estarán dispuestos a ofrecer:\n",
        "\n",
        "$S(p)= \\frac{1}{4}p^2+2punidades$"
      ],
      "metadata": {
        "id": "Efi6UJNeZWVA"
      }
    },
    {
      "cell_type": "markdown",
      "source": [
        "> *Respuesta (a):*\n",
        "\n"
      ],
      "metadata": {
        "id": "naTWGIHqZWVC"
      }
    },
    {
      "cell_type": "code",
      "source": [
        "def D(p):\n",
        "    return (50000 * p + 10000) / p**2\n",
        "\n",
        "def S(p):\n",
        "    return (1/3) * p**2 + 2 * p\n",
        "\n",
        "p_values = np.linspace(0.1, 100, 400)\n",
        "demand_values = D(p_values)\n",
        "supply_values = S(p_values)\n",
        "\n",
        "plt.plot(p_values, demand_values, label='Demanda D(p)')\n",
        "plt.plot(p_values, supply_values, label='Oferta S(p)', linestyle='--')\n",
        "plt.title('Curvas de Demanda y Oferta')\n",
        "plt.xlabel('Precio p')\n",
        "plt.ylabel('Unidades')\n",
        "plt.legend()\n",
        "plt.grid(True)\n",
        "plt.show()\n",
        "\n"
      ],
      "metadata": {
        "colab": {
          "base_uri": "https://localhost:8080/",
          "height": 472
        },
        "outputId": "ecacbe17-0bc1-441a-f312-1a3f89556f5f",
        "id": "5iCG7BXHZWVC"
      },
      "execution_count": 84,
      "outputs": [
        {
          "output_type": "display_data",
          "data": {
            "text/plain": [
              "<Figure size 640x480 with 1 Axes>"
            ],
            "image/png": "[encoded data removed]"
          },
          "metadata": {}
        }
      ]
    },
    {
      "cell_type": "markdown",
      "source": [
        "> *Respuesta (b):*\n",
        "\n",
        "Queremos encontrar el precio $p$ tal que $D(p)-S(p)=0$, es decir, el precio de equilibrio. Esto se puede resolver mediante el método de bisección.\n",
        "\n"
      ],
      "metadata": {
        "id": "rwPObyO4sk5S"
      }
    },
    {
      "cell_type": "code",
      "source": [
        "def f(p):\n",
        "    return D(p) - S(p)\n",
        "\n",
        "def bisection(f, a, b, tol=1e-5):\n",
        "\n",
        "    while (b - a) / 2.0 > tol:\n",
        "        midpoint = (a + b) / 2.0\n",
        "        if f(midpoint) == 0:\n",
        "            return midpoint\n",
        "        elif f(a) * f(midpoint) < 0:\n",
        "            b = midpoint\n",
        "        else:\n",
        "            a = midpoint\n",
        "    return (a + b) / 2.0\n",
        "\n",
        "\n",
        "equilibrium_price = bisection(f, 1, 100)\n",
        "equilibrium_price\n",
        "\n"
      ],
      "metadata": {
        "id": "F7cUfLqPs_BF",
        "outputId": "fb8f7d41-028d-4140-9bcd-d269999c6013",
        "colab": {
          "base_uri": "https://localhost:8080/"
        }
      },
      "execution_count": null,
      "outputs": [
        {
          "output_type": "execute_result",
          "data": {
            "text/plain": [
              "30.000005781650543"
            ]
          },
          "metadata": {},
          "execution_count": 66
        }
      ]
    },
    {
      "cell_type": "markdown",
      "source": [
        "> *Respuesta (c):*\n",
        "\n",
        " Una vez que tenemos el precio de equilibrio, podemos calcular las unidades producidas:\n",
        "\n",
        "$S(p)= \\frac{1}{4}p^2+2p$\n",
        "\n",
        "\n"
      ],
      "metadata": {
        "id": "w3_Chvw2tujn"
      }
    },
    {
      "cell_type": "code",
      "source": [
        "units_at_equilibrium = S(equilibrium_price)\n",
        "units_at_equilibrium\n"
      ],
      "metadata": {
        "id": "JZyI30zbuSVY",
        "outputId": "4da9b8cd-5684-4c96-a1d8-138c79b9a264",
        "colab": {
          "base_uri": "https://localhost:8080/"
        }
      },
      "execution_count": null,
      "outputs": [
        {
          "output_type": "execute_result",
          "data": {
            "text/plain": [
              "40.00000578165054"
            ]
          },
          "metadata": {},
          "execution_count": 67
        }
      ]
    },
    {
      "cell_type": "markdown",
      "source": [
        "> *Respuesta (d):*\n",
        "\n",
        "Si los productores suben el precio por encima del precio de equilibrio, la cantidad ofrecida $S(p)$ será mayor que la cantidad demandada $D(p)$, lo que resultará en un exceso de oferta, lo que podría llevar a la reducción de precios a largo plazo debido a la competencia.\n",
        "\n",
        "\n",
        "\n",
        "> *Respuesta (e):*\n",
        "\n",
        "Si los productores aumentan la producción sin cambiar el precio, se produciría un exceso de oferta similar, lo que podría también llevar a una presión a la baja en los precios.\n",
        "\n",
        "\n"
      ],
      "metadata": {
        "id": "5O5l-wJHu0eP"
      }
    },
    {
      "cell_type": "markdown",
      "source": [
        "#####<font color=\"47c7dc\"> **4.** </font> Discute:\n",
        "El agricultor desea cercar un campo rectangular usando un río como uno de los lados y tiene 500 yardas de cerca. Si llamamos $x$ al largo del lado paralelo al río, y $y$ al largo de los otros lados, entonces el perímetro total es:\n",
        "\n",
        "$2y+x=500$\n",
        "\n",
        "El área del campo está dada por:\n",
        "\n",
        "$A(x)=x⋅y$\n",
        "\n",
        "Podemos despejar $y$ en términos de $x$:\n",
        "\n",
        "\n",
        "$y=\\frac{500-x}{2}$\n",
        "\n",
        "Sustituyendo en la ecuación del área:\n",
        "$A(x)=x⋅\\frac{500 - x}{2}$\n",
        "\n",
        "esto es igual a $ \\frac{500x-x^2}{2}$\n",
        "\n",
        "por lo tanto el valor que optimiza el area al máximo ocurre en La derivada de $A(x)$\n",
        "\n",
        "la cual es:\n",
        "\n",
        "$A′(x) = \\frac{500 - 2x}{2}$\n",
        "\n",
        "y ahora queremos encontrar el $0$\n",
        "\n",
        "$500−2x=0$\n",
        "\n",
        " $x=250$\n",
        "\n",
        "\n",
        "\n",
        "\n"
      ],
      "metadata": {
        "id": "BUS1hjHHaqF1"
      }
    },
    {
      "cell_type": "code",
      "source": [
        "\n",
        "def A(x):\n",
        "    return (500 * x - x**2) / 2\n",
        "\n",
        "def dA_dx(x, h=1e-5):\n",
        "    return (A(x + h) - A(x - h)) / (2 * h)\n",
        "\n",
        "def bisection_method(f, a, b, tol=1e-5):\n",
        "\n",
        "    while (b - a) / 2.0 > tol:\n",
        "        midpoint = (a + b) / 2.0\n",
        "        if f(midpoint) == 0:\n",
        "            return midpoint\n",
        "        elif f(a) * f(midpoint) < 0:\n",
        "            b = midpoint\n",
        "        else:\n",
        "            a = midpoint\n",
        "    return (a + b) / 2.0\n",
        "\n",
        "a1, b1 = 0, 500\n",
        "optimal_x = bisection_method(dA_dx, a1, b1)\n",
        "\n",
        "optimal_y = (500 - optimal_x) / 2\n",
        "\n",
        "optimal_x, optimal_y\n",
        "\n"
      ],
      "metadata": {
        "id": "jnc2g1Dr4Aqq",
        "outputId": "f582fb57-da64-4066-d27c-c9601ef88ed5",
        "colab": {
          "base_uri": "https://localhost:8080/"
        }
      },
      "execution_count": null,
      "outputs": [
        {
          "output_type": "execute_result",
          "data": {
            "text/plain": [
              "(250.0000074505806, 124.9999962747097)"
            ]
          },
          "metadata": {},
          "execution_count": 68
        }
      ]
    },
    {
      "cell_type": "markdown",
      "source": [
        "#####<font color=\"47c7dc\"> **5.** </font> Discute:\n",
        "Si un alfarero vende sus ollas a $p$ dólares cada una, la cantidad vendida está dada por:\n",
        "$D(p)=750−50p$\n",
        "\n",
        "El costo de producción por cada olla es de 5 dólares. La función de ganancia, $P(p)$ es:\n",
        "\n",
        "\n",
        "$P(p)=Ingresos−Costos$\n",
        "\n",
        "\n",
        "$ P(p)=p⋅D(p)−5⋅D(p)$\n",
        "\n",
        "\n",
        "$P(p)=p⋅(750−50p)−5⋅(750−50p)$\n",
        "\n",
        "\n",
        "$ P(p) = 750p - 50p^2 - 5⋅ (750 - 50p)$\n",
        "\n",
        "\n",
        " $P(p) = 750p - 50p^2 - 3750 + 250p$\n",
        "\n",
        "\n",
        "$P(p)=−50p2+1000p−3750$\n",
        "\n"
      ],
      "metadata": {
        "id": "6ZhuD3cm0yGM"
      }
    },
    {
      "cell_type": "code",
      "source": [
        "\n",
        "def P(p):\n",
        "    return -50 * p**2 + 1000 * p - 3750\n",
        "\n",
        "def dP_dp(p, h=1e-5):\n",
        "    return (P(p + h) - P(p - h)) / (2 * h)\n",
        "\n",
        "a2, b2 = 0, 20\n",
        "optimal_price = bisection_method(dP_dp, a2, b2)\n",
        "optimal_price\n"
      ],
      "metadata": {
        "id": "qLdrNnc58Tpj",
        "outputId": "de37f70a-601a-439f-aac6-c6fdceb39ecc",
        "colab": {
          "base_uri": "https://localhost:8080/"
        }
      },
      "execution_count": null,
      "outputs": [
        {
          "output_type": "execute_result",
          "data": {
            "text/plain": [
              "10.000009536743164"
            ]
          },
          "metadata": {},
          "execution_count": 73
        }
      ]
    },
    {
      "cell_type": "markdown",
      "source": [
        "> *Respuesta :*\n",
        "\n",
        "En este caso tenemos que el precio óptimo que debe cobrar el alfarero para maximizar sus ganancias es\n",
        "$p=10$ dolare.\n"
      ],
      "metadata": {
        "id": "A94yechdazs0"
      }
    },
    {
      "cell_type": "markdown",
      "source": [
        "#####<font color=\"47c7dc\"> **6.** </font> Discute:\n",
        "Evaluar la función $h(t) = t^4 – 1$  en el intervalo $[−1,2)$.\n",
        "\n",
        "Evaluar $ h(t) $ en los extremos del intervalo y en puntos críticos.\n",
        "\n",
        "Derivada de $ h(t) $:\n",
        "\n",
        "$\n",
        "h'(t) = 4t^3\n",
        "$\n",
        "\n",
        "Para encontrar puntos críticos, resolvemos $ h'(t) = 0 $:\n",
        "\n",
        "\n",
        "$4t^3 = 0 \\quad \\Rightarrow \\quad t = 0\n",
        "$\n",
        "\n",
        "Evaluar en los puntos $ -1, 0, $ y $ 2 $:\n",
        "\n",
        "$\n",
        "h(-1) = (-1)^4 - 1 = 0\n",
        "$\n",
        "\n",
        "$\n",
        "h(0) = 0^4 - 1 = -1\n",
        "$\n",
        "\n",
        "$\n",
        "h(2) = 2^4 - 1 = 15\n",
        "$\n",
        "\n"
      ],
      "metadata": {
        "id": "ZVaj0BwV8v7l"
      }
    },
    {
      "cell_type": "code",
      "source": [
        "\n",
        "def h(t):\n",
        "    return t**4 - 1\n",
        "\n",
        "h_neg_1 = h(-1)\n",
        "h_0 = h(0)\n",
        "h_2 = h(2)\n",
        "\n",
        "(h_neg_1, h_0, h_2)\n"
      ],
      "metadata": {
        "colab": {
          "base_uri": "https://localhost:8080/"
        },
        "outputId": "500ae297-e212-402c-cba8-168ec6890e6b",
        "id": "PncwOJcQa4N-"
      },
      "execution_count": null,
      "outputs": [
        {
          "output_type": "execute_result",
          "data": {
            "text/plain": [
              "(0, -1, 15)"
            ]
          },
          "metadata": {},
          "execution_count": 70
        }
      ]
    },
    {
      "cell_type": "markdown",
      "source": [
        "> *Respuesta (a) :*\n",
        "\n",
        "-El valor máximo se aproxima a $15$ cuando $t$ se aproxima a $2$, pero no se alcanza.\n",
        "\n",
        "> *Respuesta (b) :*\n",
        "\n",
        "-El mínimo es $−1$ en $t=0$.\n",
        "\n",
        "> *Respuesta (c) :*\n",
        "\n",
        "El Teorema del Valor Extremo establece que si una función es continua en un intervalo cerrado\n",
        "$[a, b]$, entonces alcanzará un máximo y un mínimo en ese intervalo. Sin embargo, el intervalo dado es\n",
        "$[−1, 2)$, que no es cerrado en $2$.\n",
        "\n",
        "La función $h(t)$ es continua en el intervalo $[−1, 2)$, pero no tiene un máximo alcanzado dentro del intervalo porque el máximo $15$ ocurre al acercarse a $2$ un punto el cual  que no está incluido en el intervalo.\n",
        "\n",
        "En conclusion, los resultados no son completamente consistentes con el Teorema del Valor Extremo porque no se alcanza el valor máximo en un punto dentro del intervalo.\n"
      ],
      "metadata": {
        "id": "P54RWJWa9vjd"
      }
    },
    {
      "cell_type": "markdown",
      "source": [
        "#####<font color=\"47c7dc\"> **7.** </font> La función Heaviside está definida como:\n",
        "\n",
        "$\n",
        "H(t) =\n",
        "\\begin{cases}\n",
        "0, & \\text{si } t < 0 \\\\\n",
        "1, & \\text{si } t \\geq 0\n",
        "\\end{cases}\n",
        "$"
      ],
      "metadata": {
        "id": "NBw_B8_jaLdA"
      }
    },
    {
      "cell_type": "markdown",
      "source": [
        "> *Respuesta (a) :*\n",
        "\n",
        " No, no hay ningún punto $ c $ en $ (-1, 1) $ tal que $ H(c) = 0.5 $, porque la función $ H(t) $ solo toma los valores 0 y 1.\n",
        "> *Respuesta (b) :*\n",
        "\n",
        "Esta respuesta no es consistente con el Teorema del Valor Intermedio, ya que dicho teorema se aplica a funciones continuas, y $ H(t) $ no es continua en $ t = 0 $.\n",
        "\n",
        "\n",
        "> *Respuesta (c) :*\n",
        "\n",
        "$ H(t) $ alcanza un valor mínimo de $0 $ y un valor máximo de $ 1 $ en el intervalo cerrado $ [-1, 1] $.\n",
        "\n",
        "> *Respuesta (d) :*\n",
        "\n",
        "Esto es consistente con el Teorema del Valor Extremo, ya que dicho teorema garantiza la existencia de un máximo y un mínimo en intervalos cerrados, y $ H(t) $ alcanza estos valores."
      ],
      "metadata": {
        "id": "tiDO45T2DXxW"
      }
    },
    {
      "cell_type": "code",
      "source": [
        "def H(t):\n",
        "    return 1 if t >= 0 else 0\n",
        "\n",
        "H_neg_1 = H(-1)\n",
        "H_1 = H(1)\n",
        "\n",
        "(H_neg_1, H_1)\n"
      ],
      "metadata": {
        "id": "tedSHaULEYdX",
        "outputId": "d8fff6e9-a99e-4baa-b647-59aa3a380e57",
        "colab": {
          "base_uri": "https://localhost:8080/"
        }
      },
      "execution_count": null,
      "outputs": [
        {
          "output_type": "execute_result",
          "data": {
            "text/plain": [
              "(0, 1)"
            ]
          },
          "metadata": {},
          "execution_count": 71
        }
      ]
    },
    {
      "cell_type": "markdown",
      "source": [
        "#####<font color=\"47c7dc\"> **8.** </font> La función \\( g(t) \\) está definida como:\n",
        "\n",
        "$\n",
        "g(t) =\n",
        "\\begin{cases}\n",
        "|t|, & \\text{si } t \\neq 0 \\\\\n",
        "1, & \\text{si } t = 0\n",
        "\\end{cases}\n",
        "$"
      ],
      "metadata": {
        "id": "ExFxU2UyC9Za"
      }
    },
    {
      "cell_type": "markdown",
      "source": [
        "> *Respuesta (a) :*\n",
        "\n",
        "Sí, $ g(t) $ alcanza un valor máximo de\n",
        "$ 1 $ en $ t = 0 $, $ t = 1 $, y $ t = -1 $.\n",
        "> *Respuesta (b) :*\n",
        "\n",
        "Sí, el valor mínimo de $ g(t) $ es $ 0 $, que ocurre en $ t = 0 $.\n",
        "\n",
        "\n",
        "> *Respuesta (c) :*\n",
        "\n",
        "Esto es consistente con el Teorema del Valor Extremo, ya que $g(t) $ es continua en el intervalo cerrado $ [-1, 1] $ y alcanza un valor máximo y mínimo dentro del intervalo.\n"
      ],
      "metadata": {
        "id": "VqJ6q5AJCFpW"
      }
    },
    {
      "cell_type": "code",
      "source": [
        "def g(t):\n",
        "    return 1 if t == 0 else abs(t)\n",
        "\n",
        "g_neg_1 = g(-1)\n",
        "g_0 = g(0)\n",
        "g_1 = g(1)\n",
        "\n",
        "(g_neg_1, g_0, g_1)\n"
      ],
      "metadata": {
        "id": "1kE0cWaUD7U_",
        "outputId": "927a0338-f602-474f-dc0b-dab7305b7fa5",
        "colab": {
          "base_uri": "https://localhost:8080/"
        }
      },
      "execution_count": null,
      "outputs": [
        {
          "output_type": "execute_result",
          "data": {
            "text/plain": [
              "(1, 1, 1)"
            ]
          },
          "metadata": {},
          "execution_count": 72
        }
      ]
    },
    {
      "cell_type": "markdown",
      "source": [
        "#####<font color=\"47c7dc\"> **9.** </font> Supongamos que $ f $ y $ g $ son continuas en $ [0, 1] $, con $ f(0) < g(0) $ y $ f(1) > g(1) $. Muestra que existe un punto $ c \\in (0, 1) $ tal que $ f(c) = g(c) $.\n",
        "\n"
      ],
      "metadata": {
        "id": "QoL-TvvHEpvt"
      }
    },
    {
      "cell_type": "markdown",
      "source": [
        "> *Respuesta :*\n",
        "\n",
        "El Teorema del Valor Intermedio establece que si una función es continua en un intervalo cerrado y alcanza valores de signos opuestos en los extremos del intervalo, entonces existe al menos un punto en el intervalo donde la función toma el valor cero.\n",
        "\n",
        "Dado que $ f(0) < g(0) $ y $ f(1) > g(1) $, y ambas funciones son continuas, aplicamos el Teorema del Valor Intermedio a la función $ h(c) = f(c) - g(c) $, que también es continua en $ [0, 1] $.\n",
        "\n",
        "Como $ h(0) = f(0) - g(0) < 0 $ y $ h(1) = f(1) - g(1) > 0 $, por el Teorema del Valor Intermedio debe existir un $ c \\in (0, 1) $ tal que $ h(c) = 0 $, lo que implica que $ f(c) = g(c) $.\n"
      ],
      "metadata": {
        "id": "JWM44hnFE8gB"
      }
    },
    {
      "cell_type": "markdown",
      "source": [
        "#####<font color=\"47c7dc\"> **10.** </font> Supongamos que $ f(x) $ es continua en $ [0, 1] $ y $ 0 \\leq f(x) \\leq 1 $ para todo $ x \\in [0, 1] $. Muestra que existe un punto $ c \\in [0, 1] $ tal que $ f(c) = c $.\n",
        "\n"
      ],
      "metadata": {
        "id": "jE09kcIMFYJh"
      }
    },
    {
      "cell_type": "markdown",
      "source": [
        "> *Respuesta :*\n",
        "\n",
        "Definamos una nueva función $ h(x) = f(x) - x $. Como $ f(x) $ es continua en $ [0, 1] $, la función $ h(x) $ también es continua en $ [0, 1] $.\n",
        "\n",
        "Ahora, evaluamos $h(x)$ en los extremos del intervalo:\n",
        "$\n",
        "h(0) = f(0) - 0 = f(0) \\geq 0\n",
        "$\n",
        "\n",
        "$\n",
        "h(1) = f(1) - 1 \\leq 0\n",
        "$\n",
        "\n",
        "Dado que $ h(0) \\geq 0 $ y $ h(1) \\leq 0$, por el Teorema del Valor Intermedio, debe existir un punto $ c \\in (0, 1) $ tal que $ h(c) = 0 $, lo que implica que $f(c) = c $.\n",
        "\n"
      ],
      "metadata": {
        "id": "Rbqo0t4mFnO3"
      }
    }
  ]
}