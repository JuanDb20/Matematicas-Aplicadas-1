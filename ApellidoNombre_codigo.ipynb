{
  "nbformat": 4,
  "nbformat_minor": 0,
  "metadata": {
    "colab": {
      "provenance": [],
      "authorship_tag": "ABX9TyP9OeYc74i41PIuFq+QmIEw",
      "include_colab_link": true
    },
    "kernelspec": {
      "name": "python3",
      "display_name": "Python 3"
    },
    "language_info": {
      "name": "python"
    }
  },
  "cells": [
    {
      "cell_type": "markdown",
      "metadata": {
        "id": "view-in-github",
        "colab_type": "text"
      },
      "source": [
        "<a href=\"https://colab.research.google.com/github/JuanDb20/Matematicas-Aplicadas-1/blob/main/ApellidoNombre_codigo.ipynb\" target=\"_parent\"><img src=\"https://colab.research.google.com/assets/colab-badge.svg\" alt=\"Open In Colab\"/></a>"
      ]
    },
    {
      "cell_type": "markdown",
      "source": [
        "#***Autobiografía***\n",
        "\n",
        "Hola, mi nombre es *Juan Diego Balanta Molina*, y soy estudiante de segundo semestre de Ingeniería de Sistemas. Desde muy pequeño, tuve diversos intereses profesionales: inicialmente gracias a mi Padre quería estudiar derecho y ser abogado, luego me incliné hacia la arquitectura. Sin embargo, alrededor de los 11 años, descubrí mi pasión por el mundo de la informática, específicamente el mantenimiento de hardware, me informé acerca de los componentes de las computadoras y comencé a reparar computadoras, lo que eventualmente me llevó a trabajar como técnico en reparación de laptops y computadoras de escritorio durante algunos años.\n",
        "\n",
        "A los 15 años, me inicié en el mundo de la programación, una experiencia que despertó en mí un interés profundo por la seguridad informática. Este campo me fascina porque combina aspectos técnicos y estratégicos para proteger información y sistemas. A la par, mi amor por las matemáticas crecía, lo cual reforzaba mi deseo de seguir una carrera en Ingeniería de Sistemas.\n",
        "\n",
        "Además de mi interés académico, me encanta jugar baloncesto, un deporte que practiqué por muchos años de forma regular. También disfruto mucho bailar, lo cual considero una forma divertida de expresión y ejercicio, el cual hago casi diariamente. Mi objetivo a largo plazo es combinar mis habilidades en programación y seguridad informática para contribuir al desarrollo de tecnologías seguras de forma innovadora.\n",
        "\n",
        "<img src= https://salariosenusa.com/wp-content/uploads/cuanto-gana-un-tecnico-en-hardware-en-estados-unidos.jpg width=\"300\" height=\"200\" align=\"center\">\n",
        "\n",
        "# Canciones favoritas\n",
        "\n",
        "> Lo grande que es Perdonar\n",
        "\n",
        ">>*autor:* *Vico C & Gilberto Santarosa*\n",
        "\n",
        "-------\n",
        "> Que bello\n",
        "\n",
        ">>*autor:* *Sonora dinamita ft Kika Edgar*\n",
        "\n",
        "----\n",
        "> Manos de Tijera\n",
        "\n",
        ">>*autor:*\n",
        ">> *Yiyo Sarante*\n",
        "\n",
        "----\n",
        "> Nuestra Canción\n",
        ">>*autor: *Elvis Crespo*\n",
        "\n",
        "------\n",
        "> Brillarosa\n",
        "\n",
        ">>*autor:* *Fuerza Regida*\n",
        "\n",
        "|Asignatura Favorita | Razón |\n",
        "|--------------------|-------|\n",
        "|Lógica Y argumentación   |  Tuve un excelente profesor, con el cual pude aprender diversos temas de forma clara, lo que me hizo interesarme aun mas argumentar de forma clara y aprender a evitar y utilizar falacias, además de que en cuestión de notas me fue muy bien desde la primera semana|\n",
        "|Fundamento de Derecho constitucional                 | Mi padre me enseñó algo de leyes y como funciona el sistéma de gobierno colombiano en el pasado, esto me permitió sentirme cómodo en casi todo momento  |\n",
        "|Algebra Y funciones | Desde hace muchos años me gusta mucho la matemáticas, este curso fue una recopilación de todos los años de colegio y me gustó mucho recordarlo\n",
        "\n",
        "\n",
        "\n"
      ],
      "metadata": {
        "id": "hTyRLwvMnioN"
      }
    },
    {
      "cell_type": "code",
      "execution_count": null,
      "metadata": {
        "id": "Bi3d05JfnblF"
      },
      "outputs": [],
      "source": []
    }
  ]
}