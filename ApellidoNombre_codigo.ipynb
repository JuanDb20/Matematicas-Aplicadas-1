{
  "nbformat": 4,
  "nbformat_minor": 0,
  "metadata": {
    "colab": {
      "provenance": [],
      "authorship_tag": "ABX9TyNCYVtYlt/nKsMEB2NG1n/1",
      "include_colab_link": true
    },
    "kernelspec": {
      "name": "python3",
      "display_name": "Python 3"
    },
    "language_info": {
      "name": "python"
    }
  },
  "cells": [
    {
      "cell_type": "markdown",
      "metadata": {
        "id": "view-in-github",
        "colab_type": "text"
      },
      "source": [
        "<a href=\"https://colab.research.google.com/github/JuanDb20/Matematicas-Aplicadas-1/blob/main/ApellidoNombre_codigo.ipynb\" target=\"_parent\"><img src=\"https://colab.research.google.com/assets/colab-badge.svg\" alt=\"Open In Colab\"/></a>"
      ]
    },
    {
      "cell_type": "markdown",
      "source": [
        "#Autobiografía\n",
        "Hola, mi nombre es Juan Diego Balanta Molina, soy estudiante de segundo semestre de ingeniería de sistemas, Si bien de pequeño queria ser abogado y despues arquitecto, desde mas o menos los 11 años mi deseo fue estudiar ingeniería de sistemas, debido a que empecé a interesarme en el mundo de el hardware, empecé a arreglar computadores y luego trabajé algunos años como técnico de computadoras portatiles y computadoras de sobremesa, mas o menos a los 15 años empecé mi camino en la programación y con ello el interés en la seguridad informática, de la mano a ella crecía mi interés por la matemática, lo que reafirmaba aun mas mis deseos de estudiar ingeniería\n",
        "\n"
      ],
      "metadata": {
        "id": "hTyRLwvMnioN"
      }
    },
    {
      "cell_type": "code",
      "execution_count": null,
      "metadata": {
        "id": "Bi3d05JfnblF"
      },
      "outputs": [],
      "source": []
    }
  ]
}